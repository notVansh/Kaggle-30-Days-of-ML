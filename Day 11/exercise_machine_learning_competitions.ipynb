{
  "nbformat": 4,
  "nbformat_minor": 5,
  "metadata": {
    "kernelspec": {
      "display_name": "Python 3",
      "language": "python",
      "name": "python3"
    },
    "language_info": {
      "codemirror_mode": {
        "name": "ipython",
        "version": 3
      },
      "file_extension": ".py",
      "mimetype": "text/x-python",
      "name": "python",
      "nbconvert_exporter": "python",
      "pygments_lexer": "ipython3",
      "version": "3.7.10"
    },
    "papermill": {
      "default_parameters": {},
      "duration": 10.203029,
      "end_time": "2021-08-13T14:11:10.638088",
      "environment_variables": {},
      "exception": null,
      "input_path": "__notebook__.ipynb",
      "output_path": "__notebook__.ipynb",
      "parameters": {},
      "start_time": "2021-08-13T14:11:00.435059",
      "version": "2.3.3"
    },
    "colab": {
      "name": "exercise-machine-learning-competitions.ipynb",
      "provenance": [],
      "include_colab_link": true
    }
  },
  "cells": [
    {
      "cell_type": "markdown",
      "metadata": {
        "id": "view-in-github",
        "colab_type": "text"
      },
      "source": [
        "<a href=\"https://colab.research.google.com/github/notVansh/Kaggle-30-Days-of-ML/blob/master/Day%2011/exercise_machine_learning_competitions.ipynb\" target=\"_parent\"><img src=\"https://colab.research.google.com/assets/colab-badge.svg\" alt=\"Open In Colab\"/></a>"
      ]
    },
    {
      "cell_type": "markdown",
      "metadata": {
        "papermill": {
          "duration": 0.01182,
          "end_time": "2021-08-13T14:11:07.446142",
          "exception": false,
          "start_time": "2021-08-13T14:11:07.434322",
          "status": "completed"
        },
        "tags": [],
        "id": "87895b96"
      },
      "source": [
        "**This notebook is an exercise in the [Introduction to Machine Learning](https://www.kaggle.com/learn/intro-to-machine-learning) course.  You can reference the tutorial at [this link](https://www.kaggle.com/alexisbcook/machine-learning-competitions).**\n",
        "\n",
        "---\n"
      ],
      "id": "87895b96"
    },
    {
      "cell_type": "markdown",
      "metadata": {
        "papermill": {
          "duration": 0.008992,
          "end_time": "2021-08-13T14:11:07.464940",
          "exception": false,
          "start_time": "2021-08-13T14:11:07.455948",
          "status": "completed"
        },
        "tags": [],
        "id": "fc4c7087"
      },
      "source": [
        "# Introduction\n",
        "\n",
        "In this exercise, you will create and submit predictions for a Kaggle competition. You can then improve your model (e.g. by adding features) to apply what you've learned and move up the leaderboard.\n",
        "\n",
        "Begin by running the code cell below to set up code checking and the filepaths for the dataset."
      ],
      "id": "fc4c7087"
    },
    {
      "cell_type": "code",
      "metadata": {
        "execution": {
          "iopub.execute_input": "2021-08-13T14:11:07.494048Z",
          "iopub.status.busy": "2021-08-13T14:11:07.492842Z",
          "iopub.status.idle": "2021-08-13T14:11:07.545525Z",
          "shell.execute_reply": "2021-08-13T14:11:07.546258Z",
          "shell.execute_reply.started": "2021-08-13T14:01:48.437498Z"
        },
        "papermill": {
          "duration": 0.070463,
          "end_time": "2021-08-13T14:11:07.546650",
          "exception": false,
          "start_time": "2021-08-13T14:11:07.476187",
          "status": "completed"
        },
        "tags": [],
        "id": "b98d1a62"
      },
      "source": [
        "# Set up code checking\n",
        "from learntools.core import binder\n",
        "binder.bind(globals())\n",
        "from learntools.machine_learning.ex7 import *\n",
        "\n",
        "# Set up filepaths\n",
        "import os\n",
        "if not os.path.exists(\"../input/train.csv\"):\n",
        "    os.symlink(\"../input/home-data-for-ml-course/train.csv\", \"../input/train.csv\")  \n",
        "    os.symlink(\"../input/home-data-for-ml-course/test.csv\", \"../input/test.csv\") "
      ],
      "id": "b98d1a62",
      "execution_count": null,
      "outputs": []
    },
    {
      "cell_type": "markdown",
      "metadata": {
        "papermill": {
          "duration": 0.012169,
          "end_time": "2021-08-13T14:11:07.572758",
          "exception": false,
          "start_time": "2021-08-13T14:11:07.560589",
          "status": "completed"
        },
        "tags": [],
        "id": "9da99179"
      },
      "source": [
        "Here's some of the code you've written so far. Start by running it again."
      ],
      "id": "9da99179"
    },
    {
      "cell_type": "code",
      "metadata": {
        "execution": {
          "iopub.execute_input": "2021-08-13T14:11:07.685697Z",
          "iopub.status.busy": "2021-08-13T14:11:07.684650Z",
          "iopub.status.idle": "2021-08-13T14:11:09.148122Z",
          "shell.execute_reply": "2021-08-13T14:11:09.148580Z",
          "shell.execute_reply.started": "2021-08-13T14:03:35.780519Z"
        },
        "papermill": {
          "duration": 1.562917,
          "end_time": "2021-08-13T14:11:09.148774",
          "exception": false,
          "start_time": "2021-08-13T14:11:07.585857",
          "status": "completed"
        },
        "tags": [],
        "id": "43670575",
        "outputId": "977f67e7-5a1f-4f7b-dfb1-5bfced8cb37a"
      },
      "source": [
        "# Import helpful libraries\n",
        "import pandas as pd\n",
        "from sklearn.ensemble import RandomForestRegressor\n",
        "from sklearn.metrics import mean_absolute_error\n",
        "from sklearn.model_selection import train_test_split\n",
        "\n",
        "# Load the data, and separate the target\n",
        "iowa_file_path = '../input/train.csv'\n",
        "home_data = pd.read_csv(iowa_file_path)\n",
        "y = home_data.SalePrice\n",
        "\n",
        "# Create X (After completing the exercise, you can return to modify this line!)\n",
        "features = ['LotArea', 'YearBuilt', '1stFlrSF', '2ndFlrSF', 'FullBath', 'BedroomAbvGr', 'TotRmsAbvGrd']\n",
        "\n",
        "# Select columns corresponding to features, and preview the data\n",
        "X = home_data[features]\n",
        "X.head()\n",
        "\n",
        "# Split into validation and training data\n",
        "train_X, val_X, train_y, val_y = train_test_split(X, y, random_state=1)\n",
        "\n",
        "# Define a random forest model\n",
        "rf_model = RandomForestRegressor(random_state=1)\n",
        "rf_model.fit(train_X, train_y)\n",
        "rf_val_predictions = rf_model.predict(val_X)\n",
        "rf_val_mae = mean_absolute_error(rf_val_predictions, val_y)\n",
        "\n",
        "print(\"Validation MAE for Random Forest Model: {:,.0f}\".format(rf_val_mae))"
      ],
      "id": "43670575",
      "execution_count": null,
      "outputs": [
        {
          "output_type": "stream",
          "text": [
            "Validation MAE for Random Forest Model: 21,857\n"
          ],
          "name": "stdout"
        }
      ]
    },
    {
      "cell_type": "markdown",
      "metadata": {
        "papermill": {
          "duration": 0.009448,
          "end_time": "2021-08-13T14:11:09.168284",
          "exception": false,
          "start_time": "2021-08-13T14:11:09.158836",
          "status": "completed"
        },
        "tags": [],
        "id": "e70f40c7"
      },
      "source": [
        "# Train a model for the competition\n",
        "\n",
        "The code cell above trains a Random Forest model on **`train_X`** and **`train_y`**.  \n",
        "\n",
        "Use the code cell below to build a Random Forest model and train it on all of **`X`** and **`y`**."
      ],
      "id": "e70f40c7"
    },
    {
      "cell_type": "code",
      "metadata": {
        "execution": {
          "iopub.execute_input": "2021-08-13T14:11:09.192482Z",
          "iopub.status.busy": "2021-08-13T14:11:09.191916Z",
          "iopub.status.idle": "2021-08-13T14:11:09.754975Z",
          "shell.execute_reply": "2021-08-13T14:11:09.755415Z",
          "shell.execute_reply.started": "2021-08-13T14:05:13.898087Z"
        },
        "papermill": {
          "duration": 0.578326,
          "end_time": "2021-08-13T14:11:09.755575",
          "exception": false,
          "start_time": "2021-08-13T14:11:09.177249",
          "status": "completed"
        },
        "tags": [],
        "id": "2d6e74cd",
        "outputId": "4ebb4931-068a-4b27-b4a8-b773a03d4ee5"
      },
      "source": [
        "# To improve accuracy, create a new Random Forest model which you will train on all training data\n",
        "rf_model_on_full_data = RandomForestRegressor(random_state=0)\n",
        "\n",
        "# fit rf_model_on_full_data on all data from the training data\n",
        "rf_model_on_full_data.fit(X,y)"
      ],
      "id": "2d6e74cd",
      "execution_count": null,
      "outputs": [
        {
          "output_type": "execute_result",
          "data": {
            "text/plain": [
              "RandomForestRegressor(random_state=0)"
            ]
          },
          "metadata": {
            "tags": []
          },
          "execution_count": 3
        }
      ]
    },
    {
      "cell_type": "markdown",
      "metadata": {
        "papermill": {
          "duration": 0.010071,
          "end_time": "2021-08-13T14:11:09.775941",
          "exception": false,
          "start_time": "2021-08-13T14:11:09.765870",
          "status": "completed"
        },
        "tags": [],
        "id": "8aafb083"
      },
      "source": [
        "Now, read the file of \"test\" data, and apply your model to make predictions."
      ],
      "id": "8aafb083"
    },
    {
      "cell_type": "code",
      "metadata": {
        "execution": {
          "iopub.execute_input": "2021-08-13T14:11:09.800117Z",
          "iopub.status.busy": "2021-08-13T14:11:09.799484Z",
          "iopub.status.idle": "2021-08-13T14:11:09.871885Z",
          "shell.execute_reply": "2021-08-13T14:11:09.871383Z",
          "shell.execute_reply.started": "2021-08-13T14:05:59.199329Z"
        },
        "papermill": {
          "duration": 0.085961,
          "end_time": "2021-08-13T14:11:09.872014",
          "exception": false,
          "start_time": "2021-08-13T14:11:09.786053",
          "status": "completed"
        },
        "tags": [],
        "id": "ecea888f"
      },
      "source": [
        "# path to file you will use for predictions\n",
        "test_data_path = '../input/test.csv'\n",
        "\n",
        "# read test data file using pandas\n",
        "test_data = pd.read_csv(test_data_path)\n",
        "\n",
        "# create test_X which comes from test_data but includes only the columns you used for prediction.\n",
        "# The list of columns is stored in a variable called features\n",
        "test_X = test_data[features]\n",
        "\n",
        "# make predictions which we will submit. \n",
        "test_preds = rf_model_on_full_data.predict(test_X)"
      ],
      "id": "ecea888f",
      "execution_count": null,
      "outputs": []
    },
    {
      "cell_type": "markdown",
      "metadata": {
        "papermill": {
          "duration": 0.009704,
          "end_time": "2021-08-13T14:11:09.891644",
          "exception": false,
          "start_time": "2021-08-13T14:11:09.881940",
          "status": "completed"
        },
        "tags": [],
        "id": "605db016"
      },
      "source": [
        "Before submitting, run a check to make sure your `test_preds` have the right format."
      ],
      "id": "605db016"
    },
    {
      "cell_type": "code",
      "metadata": {
        "execution": {
          "iopub.execute_input": "2021-08-13T14:11:09.916861Z",
          "iopub.status.busy": "2021-08-13T14:11:09.915956Z",
          "iopub.status.idle": "2021-08-13T14:11:09.921743Z",
          "shell.execute_reply": "2021-08-13T14:11:09.921193Z",
          "shell.execute_reply.started": "2021-08-13T14:06:04.694351Z"
        },
        "papermill": {
          "duration": 0.020225,
          "end_time": "2021-08-13T14:11:09.921849",
          "exception": false,
          "start_time": "2021-08-13T14:11:09.901624",
          "status": "completed"
        },
        "tags": [],
        "id": "483aa7c9",
        "outputId": "24f9ae1a-4248-449e-dcb7-0ffa5c9ac703"
      },
      "source": [
        "# Check your answer (To get credit for completing the exercise, you must get a \"Correct\" result!)\n",
        "step_1.check()\n",
        "# step_1.solution()"
      ],
      "id": "483aa7c9",
      "execution_count": null,
      "outputs": [
        {
          "output_type": "display_data",
          "data": {
            "application/javascript": [
              "parent.postMessage({\"jupyterEvent\": \"custom.exercise_interaction\", \"data\": {\"outcomeType\": 1, \"valueTowardsCompletion\": 1.0, \"interactionType\": 1, \"questionType\": 2, \"questionId\": \"1_CheckSubmittablePreds\", \"learnToolsVersion\": \"0.3.4\", \"failureMessage\": \"\", \"exceptionClass\": \"\", \"trace\": \"\"}}, \"*\")"
            ],
            "text/plain": [
              "<IPython.core.display.Javascript object>"
            ]
          },
          "metadata": {
            "tags": []
          }
        },
        {
          "output_type": "display_data",
          "data": {
            "text/markdown": "<span style=\"color:#33cc33\">Correct</span>",
            "text/plain": [
              "Correct"
            ]
          },
          "metadata": {
            "tags": []
          }
        }
      ]
    },
    {
      "cell_type": "markdown",
      "metadata": {
        "papermill": {
          "duration": 0.010788,
          "end_time": "2021-08-13T14:11:09.943564",
          "exception": false,
          "start_time": "2021-08-13T14:11:09.932776",
          "status": "completed"
        },
        "tags": [],
        "id": "7ffa26a3"
      },
      "source": [
        "# Generate a submission\n",
        "\n",
        "Run the code cell below to generate a CSV file with your predictions that you can use to submit to the competition."
      ],
      "id": "7ffa26a3"
    },
    {
      "cell_type": "code",
      "metadata": {
        "execution": {
          "iopub.execute_input": "2021-08-13T14:11:09.969506Z",
          "iopub.status.busy": "2021-08-13T14:11:09.968920Z",
          "iopub.status.idle": "2021-08-13T14:11:09.978264Z",
          "shell.execute_reply": "2021-08-13T14:11:09.977752Z",
          "shell.execute_reply.started": "2021-08-13T14:08:56.311233Z"
        },
        "papermill": {
          "duration": 0.024284,
          "end_time": "2021-08-13T14:11:09.978372",
          "exception": false,
          "start_time": "2021-08-13T14:11:09.954088",
          "status": "completed"
        },
        "tags": [],
        "id": "e5621cd6"
      },
      "source": [
        "# Run the code to save predictions in the format used for competition scoring\n",
        "\n",
        "output = pd.DataFrame({'Id': test_data.Id,\n",
        "                       'SalePrice': test_preds})\n",
        "output.to_csv('submission.csv', index=False)"
      ],
      "id": "e5621cd6",
      "execution_count": null,
      "outputs": []
    },
    {
      "cell_type": "markdown",
      "metadata": {
        "papermill": {
          "duration": 0.010322,
          "end_time": "2021-08-13T14:11:09.999416",
          "exception": false,
          "start_time": "2021-08-13T14:11:09.989094",
          "status": "completed"
        },
        "tags": [],
        "id": "93749559"
      },
      "source": [
        "# Submit to the competition\n",
        "\n",
        "To test your results, you'll need to join the competition (if you haven't already).  So open a new window by clicking on **[this link](https://www.kaggle.com/c/home-data-for-ml-course)**.  Then click on the **Join Competition** button.\n",
        "\n",
        "![join competition image](https://i.imgur.com/axBzctl.png)\n",
        "\n",
        "Next, follow the instructions below:\n",
        "1. Begin by clicking on the **Save Version** button in the top right corner of the window.  This will generate a pop-up window.  \n",
        "2. Ensure that the **Save and Run All** option is selected, and then click on the **Save** button.\n",
        "3. This generates a window in the bottom left corner of the notebook.  After it has finished running, click on the number to the right of the **Save Version** button.  This pulls up a list of versions on the right of the screen.  Click on the ellipsis **(...)** to the right of the most recent version, and select **Open in Viewer**.  This brings you into view mode of the same page. You will need to scroll down to get back to these instructions.\n",
        "4. Click on the **Output** tab on the right of the screen.  Then, click on the file you would like to submit, and click on the blue **Submit** button to submit your results to the leaderboard.\n",
        "\n",
        "You have now successfully submitted to the competition!\n",
        "\n",
        "If you want to keep working to improve your performance, select the **Edit** button in the top right of the screen. Then you can change your code and repeat the process. There's a lot of room to improve, and you will climb up the leaderboard as you work.\n",
        "\n",
        "\n",
        "# Continue Your Progress\n",
        "There are many ways to improve your model, and **experimenting is a great way to learn at this point.**\n",
        "\n",
        "The best way to improve your model is to add features.  To add more features to the data, revisit the first code cell, and change this line of code to include more column names:\n",
        "```python\n",
        "features = ['LotArea', 'YearBuilt', '1stFlrSF', '2ndFlrSF', 'FullBath', 'BedroomAbvGr', 'TotRmsAbvGrd']\n",
        "```\n",
        "\n",
        "Some features will cause errors because of issues like missing values or non-numeric data types.  Here is a complete list of potential columns that you might like to use, and that won't throw errors:\n",
        "- 'MSSubClass'\n",
        "- 'LotArea'\n",
        "- 'OverallQual' \n",
        "- 'OverallCond' \n",
        "- 'YearBuilt'\n",
        "- 'YearRemodAdd' \n",
        "- '1stFlrSF'\n",
        "- '2ndFlrSF' \n",
        "- 'LowQualFinSF' \n",
        "- 'GrLivArea'\n",
        "- 'FullBath'\n",
        "- 'HalfBath'\n",
        "- 'BedroomAbvGr' \n",
        "- 'KitchenAbvGr' \n",
        "- 'TotRmsAbvGrd' \n",
        "- 'Fireplaces' \n",
        "- 'WoodDeckSF' \n",
        "- 'OpenPorchSF'\n",
        "- 'EnclosedPorch' \n",
        "- '3SsnPorch' \n",
        "- 'ScreenPorch' \n",
        "- 'PoolArea' \n",
        "- 'MiscVal' \n",
        "- 'MoSold' \n",
        "- 'YrSold'\n",
        "\n",
        "Look at the list of columns and think about what might affect home prices.  To learn more about each of these features, take a look at the data description on the **[competition page](https://www.kaggle.com/c/home-data-for-ml-course/data)**.\n",
        "\n",
        "After updating the code cell above that defines the features, re-run all of the code cells to evaluate the model and generate a new submission file.  \n",
        "\n",
        "\n",
        "# What's next?\n",
        "\n",
        "As mentioned above, some of the features will throw an error if you try to use them to train your model.  The **[Intermediate Machine Learning](https://www.kaggle.com/learn/intermediate-machine-learning)** course will teach you how to handle these types of features. You will also learn to use **xgboost**, a technique giving even better accuracy than Random Forest.\n",
        "\n",
        "The **[Pandas](https://kaggle.com/Learn/Pandas)** course will give you the data manipulation skills to quickly go from conceptual idea to implementation in your data science projects. \n",
        "\n",
        "You are also ready for the **[Deep Learning](https://kaggle.com/Learn/intro-to-Deep-Learning)** course, where you will build models with better-than-human level performance at computer vision tasks."
      ],
      "id": "93749559"
    },
    {
      "cell_type": "markdown",
      "metadata": {
        "papermill": {
          "duration": 0.010181,
          "end_time": "2021-08-13T14:11:10.020273",
          "exception": false,
          "start_time": "2021-08-13T14:11:10.010092",
          "status": "completed"
        },
        "tags": [],
        "id": "83e98567"
      },
      "source": [
        "---\n",
        "\n",
        "\n",
        "\n",
        "\n",
        "*Have questions or comments? Visit the [Learn Discussion forum](https://www.kaggle.com/learn-forum/161285) to chat with other Learners.*"
      ],
      "id": "83e98567"
    }
  ]
}