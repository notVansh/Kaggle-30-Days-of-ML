{
  "nbformat": 4,
  "nbformat_minor": 5,
  "metadata": {
    "kernelspec": {
      "display_name": "Python 3",
      "language": "python",
      "name": "python3"
    },
    "language_info": {
      "codemirror_mode": {
        "name": "ipython",
        "version": 3
      },
      "file_extension": ".py",
      "mimetype": "text/x-python",
      "name": "python",
      "nbconvert_exporter": "python",
      "pygments_lexer": "ipython3",
      "version": "3.7.10"
    },
    "papermill": {
      "default_parameters": {},
      "duration": 16.488333,
      "end_time": "2021-08-14T13:25:05.603298",
      "environment_variables": {},
      "exception": null,
      "input_path": "__notebook__.ipynb",
      "output_path": "__notebook__.ipynb",
      "parameters": {},
      "start_time": "2021-08-14T13:24:49.114965",
      "version": "2.3.3"
    },
    "colab": {
      "name": "exercise-introduction.ipynb",
      "provenance": [],
      "include_colab_link": true
    }
  },
  "cells": [
    {
      "cell_type": "markdown",
      "metadata": {
        "id": "view-in-github",
        "colab_type": "text"
      },
      "source": [
        "<a href=\"https://colab.research.google.com/github/notVansh/Kaggle-30-Days-of-ML/blob/master/Day%2012/lesson%201/exercise_introduction.ipynb\" target=\"_parent\"><img src=\"https://colab.research.google.com/assets/colab-badge.svg\" alt=\"Open In Colab\"/></a>"
      ]
    },
    {
      "cell_type": "markdown",
      "metadata": {
        "papermill": {
          "duration": 0.015662,
          "end_time": "2021-08-14T13:24:56.870920",
          "exception": false,
          "start_time": "2021-08-14T13:24:56.855258",
          "status": "completed"
        },
        "tags": [],
        "id": "59aabfb9"
      },
      "source": [
        "**This notebook is an exercise in the [Intermediate Machine Learning](https://www.kaggle.com/learn/intermediate-machine-learning) course.  You can reference the tutorial at [this link](https://www.kaggle.com/alexisbcook/introduction).**\n",
        "\n",
        "---\n"
      ],
      "id": "59aabfb9"
    },
    {
      "cell_type": "markdown",
      "metadata": {
        "papermill": {
          "duration": 0.014553,
          "end_time": "2021-08-14T13:24:56.902288",
          "exception": false,
          "start_time": "2021-08-14T13:24:56.887735",
          "status": "completed"
        },
        "tags": [],
        "id": "f7a7ed62"
      },
      "source": [
        "As a warm-up, you'll review some machine learning fundamentals and submit your initial results to a Kaggle competition.\n",
        "\n",
        "# Setup\n",
        "\n",
        "The questions below will give you feedback on your work. Run the following cell to set up the feedback system."
      ],
      "id": "f7a7ed62"
    },
    {
      "cell_type": "code",
      "metadata": {
        "execution": {
          "iopub.execute_input": "2021-08-14T13:24:56.945439Z",
          "iopub.status.busy": "2021-08-14T13:24:56.944815Z",
          "iopub.status.idle": "2021-08-14T13:24:58.138966Z",
          "shell.execute_reply": "2021-08-14T13:24:58.139510Z",
          "shell.execute_reply.started": "2021-08-14T13:19:25.909086Z"
        },
        "papermill": {
          "duration": 1.222921,
          "end_time": "2021-08-14T13:24:58.139808",
          "exception": false,
          "start_time": "2021-08-14T13:24:56.916887",
          "status": "completed"
        },
        "tags": [],
        "id": "34773fba",
        "outputId": "0a7066ac-9810-44b1-c9c9-cd2bf9b0527e"
      },
      "source": [
        "# Set up code checking\n",
        "import os\n",
        "if not os.path.exists(\"../input/train.csv\"):\n",
        "    os.symlink(\"../input/home-data-for-ml-course/train.csv\", \"../input/train.csv\")  \n",
        "    os.symlink(\"../input/home-data-for-ml-course/test.csv\", \"../input/test.csv\")  \n",
        "from learntools.core import binder\n",
        "binder.bind(globals())\n",
        "from learntools.ml_intermediate.ex1 import *\n",
        "print(\"Setup Complete\")"
      ],
      "id": "34773fba",
      "execution_count": null,
      "outputs": [
        {
          "output_type": "stream",
          "text": [
            "Setup Complete\n"
          ],
          "name": "stdout"
        }
      ]
    },
    {
      "cell_type": "markdown",
      "metadata": {
        "papermill": {
          "duration": 0.01418,
          "end_time": "2021-08-14T13:24:58.169059",
          "exception": false,
          "start_time": "2021-08-14T13:24:58.154879",
          "status": "completed"
        },
        "tags": [],
        "id": "7608f007"
      },
      "source": [
        "You will work with data from the [Housing Prices Competition for Kaggle Learn Users](https://www.kaggle.com/c/home-data-for-ml-course) to predict home prices in Iowa using 79 explanatory variables describing (almost) every aspect of the homes.  \n",
        "\n",
        "![Ames Housing dataset image](https://i.imgur.com/lTJVG4e.png)\n",
        "\n",
        "Run the next code cell without changes to load the training and validation features in `X_train` and `X_valid`, along with the prediction targets in `y_train` and `y_valid`.  The test features are loaded in `X_test`.  (_If you need to review **features** and **prediction targets**, please check out [this short tutorial](https://www.kaggle.com/dansbecker/your-first-machine-learning-model).  To read about model **validation**, look [here](https://www.kaggle.com/dansbecker/model-validation).  Alternatively, if you'd prefer to look through a full course to review all of these topics, start [here](https://www.kaggle.com/learn/machine-learning).)_"
      ],
      "id": "7608f007"
    },
    {
      "cell_type": "code",
      "metadata": {
        "execution": {
          "iopub.execute_input": "2021-08-14T13:24:58.205561Z",
          "iopub.status.busy": "2021-08-14T13:24:58.204920Z",
          "iopub.status.idle": "2021-08-14T13:24:58.298380Z",
          "shell.execute_reply": "2021-08-14T13:24:58.297797Z",
          "shell.execute_reply.started": "2021-08-14T13:19:47.888370Z"
        },
        "papermill": {
          "duration": 0.114866,
          "end_time": "2021-08-14T13:24:58.298519",
          "exception": false,
          "start_time": "2021-08-14T13:24:58.183653",
          "status": "completed"
        },
        "tags": [],
        "id": "33988361"
      },
      "source": [
        "import pandas as pd\n",
        "from sklearn.model_selection import train_test_split\n",
        "\n",
        "# Read the data\n",
        "X_full = pd.read_csv('../input/train.csv', index_col='Id')\n",
        "X_test_full = pd.read_csv('../input/test.csv', index_col='Id')\n",
        "\n",
        "# Obtain target and predictors\n",
        "y = X_full.SalePrice\n",
        "features = ['LotArea', 'YearBuilt', '1stFlrSF', '2ndFlrSF', 'FullBath', 'BedroomAbvGr', 'TotRmsAbvGrd']\n",
        "X = X_full[features].copy()\n",
        "X_test = X_test_full[features].copy()\n",
        "\n",
        "# Break off validation set from training data\n",
        "X_train, X_valid, y_train, y_valid = train_test_split(X, y, train_size=0.8, test_size=0.2,\n",
        "                                                      random_state=0)"
      ],
      "id": "33988361",
      "execution_count": null,
      "outputs": []
    },
    {
      "cell_type": "markdown",
      "metadata": {
        "papermill": {
          "duration": 0.014656,
          "end_time": "2021-08-14T13:24:58.328326",
          "exception": false,
          "start_time": "2021-08-14T13:24:58.313670",
          "status": "completed"
        },
        "tags": [],
        "id": "606da3e5"
      },
      "source": [
        "Use the next cell to print the first several rows of the data. It's a nice way to get an overview of the data you will use in your price prediction model."
      ],
      "id": "606da3e5"
    },
    {
      "cell_type": "code",
      "metadata": {
        "execution": {
          "iopub.execute_input": "2021-08-14T13:24:58.364453Z",
          "iopub.status.busy": "2021-08-14T13:24:58.363845Z",
          "iopub.status.idle": "2021-08-14T13:24:58.380580Z",
          "shell.execute_reply": "2021-08-14T13:24:58.380008Z",
          "shell.execute_reply.started": "2021-08-14T13:19:52.594320Z"
        },
        "papermill": {
          "duration": 0.037633,
          "end_time": "2021-08-14T13:24:58.380718",
          "exception": false,
          "start_time": "2021-08-14T13:24:58.343085",
          "status": "completed"
        },
        "tags": [],
        "id": "611508a4",
        "outputId": "562646c1-1499-4c91-c67d-d282afa36644"
      },
      "source": [
        "X_train.head()"
      ],
      "id": "611508a4",
      "execution_count": null,
      "outputs": [
        {
          "output_type": "execute_result",
          "data": {
            "text/html": [
              "<div>\n",
              "<style scoped>\n",
              "    .dataframe tbody tr th:only-of-type {\n",
              "        vertical-align: middle;\n",
              "    }\n",
              "\n",
              "    .dataframe tbody tr th {\n",
              "        vertical-align: top;\n",
              "    }\n",
              "\n",
              "    .dataframe thead th {\n",
              "        text-align: right;\n",
              "    }\n",
              "</style>\n",
              "<table border=\"1\" class=\"dataframe\">\n",
              "  <thead>\n",
              "    <tr style=\"text-align: right;\">\n",
              "      <th></th>\n",
              "      <th>LotArea</th>\n",
              "      <th>YearBuilt</th>\n",
              "      <th>1stFlrSF</th>\n",
              "      <th>2ndFlrSF</th>\n",
              "      <th>FullBath</th>\n",
              "      <th>BedroomAbvGr</th>\n",
              "      <th>TotRmsAbvGrd</th>\n",
              "    </tr>\n",
              "    <tr>\n",
              "      <th>Id</th>\n",
              "      <th></th>\n",
              "      <th></th>\n",
              "      <th></th>\n",
              "      <th></th>\n",
              "      <th></th>\n",
              "      <th></th>\n",
              "      <th></th>\n",
              "    </tr>\n",
              "  </thead>\n",
              "  <tbody>\n",
              "    <tr>\n",
              "      <th>619</th>\n",
              "      <td>11694</td>\n",
              "      <td>2007</td>\n",
              "      <td>1828</td>\n",
              "      <td>0</td>\n",
              "      <td>2</td>\n",
              "      <td>3</td>\n",
              "      <td>9</td>\n",
              "    </tr>\n",
              "    <tr>\n",
              "      <th>871</th>\n",
              "      <td>6600</td>\n",
              "      <td>1962</td>\n",
              "      <td>894</td>\n",
              "      <td>0</td>\n",
              "      <td>1</td>\n",
              "      <td>2</td>\n",
              "      <td>5</td>\n",
              "    </tr>\n",
              "    <tr>\n",
              "      <th>93</th>\n",
              "      <td>13360</td>\n",
              "      <td>1921</td>\n",
              "      <td>964</td>\n",
              "      <td>0</td>\n",
              "      <td>1</td>\n",
              "      <td>2</td>\n",
              "      <td>5</td>\n",
              "    </tr>\n",
              "    <tr>\n",
              "      <th>818</th>\n",
              "      <td>13265</td>\n",
              "      <td>2002</td>\n",
              "      <td>1689</td>\n",
              "      <td>0</td>\n",
              "      <td>2</td>\n",
              "      <td>3</td>\n",
              "      <td>7</td>\n",
              "    </tr>\n",
              "    <tr>\n",
              "      <th>303</th>\n",
              "      <td>13704</td>\n",
              "      <td>2001</td>\n",
              "      <td>1541</td>\n",
              "      <td>0</td>\n",
              "      <td>2</td>\n",
              "      <td>3</td>\n",
              "      <td>6</td>\n",
              "    </tr>\n",
              "  </tbody>\n",
              "</table>\n",
              "</div>"
            ],
            "text/plain": [
              "     LotArea  YearBuilt  1stFlrSF  2ndFlrSF  FullBath  BedroomAbvGr  \\\n",
              "Id                                                                    \n",
              "619    11694       2007      1828         0         2             3   \n",
              "871     6600       1962       894         0         1             2   \n",
              "93     13360       1921       964         0         1             2   \n",
              "818    13265       2002      1689         0         2             3   \n",
              "303    13704       2001      1541         0         2             3   \n",
              "\n",
              "     TotRmsAbvGrd  \n",
              "Id                 \n",
              "619             9  \n",
              "871             5  \n",
              "93              5  \n",
              "818             7  \n",
              "303             6  "
            ]
          },
          "metadata": {
            "tags": []
          },
          "execution_count": 3
        }
      ]
    },
    {
      "cell_type": "markdown",
      "metadata": {
        "papermill": {
          "duration": 0.014964,
          "end_time": "2021-08-14T13:24:58.411026",
          "exception": false,
          "start_time": "2021-08-14T13:24:58.396062",
          "status": "completed"
        },
        "tags": [],
        "id": "a67a334b"
      },
      "source": [
        "The next code cell defines five different random forest models.  Run this code cell without changes.  (_To review **random forests**, look [here](https://www.kaggle.com/dansbecker/random-forests)._)"
      ],
      "id": "a67a334b"
    },
    {
      "cell_type": "code",
      "metadata": {
        "execution": {
          "iopub.execute_input": "2021-08-14T13:24:58.448527Z",
          "iopub.status.busy": "2021-08-14T13:24:58.447876Z",
          "iopub.status.idle": "2021-08-14T13:24:58.450720Z",
          "shell.execute_reply": "2021-08-14T13:24:58.451183Z",
          "shell.execute_reply.started": "2021-08-14T13:20:52.155065Z"
        },
        "papermill": {
          "duration": 0.024991,
          "end_time": "2021-08-14T13:24:58.451374",
          "exception": false,
          "start_time": "2021-08-14T13:24:58.426383",
          "status": "completed"
        },
        "tags": [],
        "id": "5a01f222"
      },
      "source": [
        "from sklearn.ensemble import RandomForestRegressor\n",
        "\n",
        "# Define the models\n",
        "model_1 = RandomForestRegressor(n_estimators=50, random_state=0)\n",
        "model_2 = RandomForestRegressor(n_estimators=100, random_state=0)\n",
        "model_3 = RandomForestRegressor(n_estimators=100, criterion='mae', random_state=0)\n",
        "model_4 = RandomForestRegressor(n_estimators=200, min_samples_split=20, random_state=0)\n",
        "model_5 = RandomForestRegressor(n_estimators=100, max_depth=7, random_state=0)\n",
        "\n",
        "models = [model_1, model_2, model_3, model_4, model_5]"
      ],
      "id": "5a01f222",
      "execution_count": null,
      "outputs": []
    },
    {
      "cell_type": "markdown",
      "metadata": {
        "papermill": {
          "duration": 0.014988,
          "end_time": "2021-08-14T13:24:58.481856",
          "exception": false,
          "start_time": "2021-08-14T13:24:58.466868",
          "status": "completed"
        },
        "tags": [],
        "id": "6529a1b0"
      },
      "source": [
        "To select the best model out of the five, we define a function `score_model()` below.  This function returns the mean absolute error (MAE) from the validation set.  Recall that the best model will obtain the lowest MAE.  (_To review **mean absolute error**, look [here](https://www.kaggle.com/dansbecker/model-validation).)_\n",
        "\n",
        "Run the code cell without changes."
      ],
      "id": "6529a1b0"
    },
    {
      "cell_type": "code",
      "metadata": {
        "execution": {
          "iopub.execute_input": "2021-08-14T13:24:58.541813Z",
          "iopub.status.busy": "2021-08-14T13:24:58.536369Z",
          "iopub.status.idle": "2021-08-14T13:25:03.802127Z",
          "shell.execute_reply": "2021-08-14T13:25:03.801579Z",
          "shell.execute_reply.started": "2021-08-14T13:21:01.172662Z"
        },
        "papermill": {
          "duration": 5.305351,
          "end_time": "2021-08-14T13:25:03.802284",
          "exception": false,
          "start_time": "2021-08-14T13:24:58.496933",
          "status": "completed"
        },
        "tags": [],
        "id": "a6f8d10f",
        "outputId": "70f29749-aaaa-42dc-f5ba-9106c180bd0f"
      },
      "source": [
        "from sklearn.metrics import mean_absolute_error\n",
        "\n",
        "# Function for comparing different models\n",
        "def score_model(model, X_t=X_train, X_v=X_valid, y_t=y_train, y_v=y_valid):\n",
        "    model.fit(X_t, y_t)\n",
        "    preds = model.predict(X_v)\n",
        "    return mean_absolute_error(y_v, preds)\n",
        "\n",
        "for i in range(0, len(models)):\n",
        "    mae = score_model(models[i])\n",
        "    print(\"Model %d MAE: %d\" % (i+1, mae))"
      ],
      "id": "a6f8d10f",
      "execution_count": null,
      "outputs": [
        {
          "output_type": "stream",
          "text": [
            "Model 1 MAE: 24015\n",
            "Model 2 MAE: 23740\n",
            "Model 3 MAE: 23528\n",
            "Model 4 MAE: 23996\n",
            "Model 5 MAE: 23706\n"
          ],
          "name": "stdout"
        }
      ]
    },
    {
      "cell_type": "markdown",
      "metadata": {
        "papermill": {
          "duration": 0.016445,
          "end_time": "2021-08-14T13:25:03.835725",
          "exception": false,
          "start_time": "2021-08-14T13:25:03.819280",
          "status": "completed"
        },
        "tags": [],
        "id": "4adc69dd"
      },
      "source": [
        "# Step 1: Evaluate several models\n",
        "\n",
        "Use the above results to fill in the line below.  Which model is the best model?  Your answer should be one of `model_1`, `model_2`, `model_3`, `model_4`, or `model_5`."
      ],
      "id": "4adc69dd"
    },
    {
      "cell_type": "code",
      "metadata": {
        "execution": {
          "iopub.execute_input": "2021-08-14T13:25:03.875026Z",
          "iopub.status.busy": "2021-08-14T13:25:03.874365Z",
          "iopub.status.idle": "2021-08-14T13:25:03.880186Z",
          "shell.execute_reply": "2021-08-14T13:25:03.879595Z",
          "shell.execute_reply.started": "2021-08-14T13:22:15.969415Z"
        },
        "papermill": {
          "duration": 0.027929,
          "end_time": "2021-08-14T13:25:03.880339",
          "exception": false,
          "start_time": "2021-08-14T13:25:03.852410",
          "status": "completed"
        },
        "tags": [],
        "id": "1fe966d0",
        "outputId": "a0992ddb-65af-4ca6-a8bc-0b42c2ac2989"
      },
      "source": [
        "# Fill in the best model\n",
        "best_model = model_3\n",
        "\n",
        "# Check your answer\n",
        "step_1.check()"
      ],
      "id": "1fe966d0",
      "execution_count": null,
      "outputs": [
        {
          "output_type": "display_data",
          "data": {
            "application/javascript": [
              "parent.postMessage({\"jupyterEvent\": \"custom.exercise_interaction\", \"data\": {\"outcomeType\": 1, \"valueTowardsCompletion\": 0.5, \"interactionType\": 1, \"questionType\": 2, \"questionId\": \"1_BestModel\", \"learnToolsVersion\": \"0.3.4\", \"failureMessage\": \"\", \"exceptionClass\": \"\", \"trace\": \"\"}}, \"*\")"
            ],
            "text/plain": [
              "<IPython.core.display.Javascript object>"
            ]
          },
          "metadata": {
            "tags": []
          }
        },
        {
          "output_type": "display_data",
          "data": {
            "text/markdown": "<span style=\"color:#33cc33\">Correct</span>",
            "text/plain": [
              "Correct"
            ]
          },
          "metadata": {
            "tags": []
          }
        }
      ]
    },
    {
      "cell_type": "code",
      "metadata": {
        "execution": {
          "iopub.execute_input": "2021-08-14T13:25:03.920494Z",
          "iopub.status.busy": "2021-08-14T13:25:03.919481Z",
          "iopub.status.idle": "2021-08-14T13:25:03.922279Z",
          "shell.execute_reply": "2021-08-14T13:25:03.921661Z"
        },
        "papermill": {
          "duration": 0.024292,
          "end_time": "2021-08-14T13:25:03.922418",
          "exception": false,
          "start_time": "2021-08-14T13:25:03.898126",
          "status": "completed"
        },
        "tags": [],
        "id": "a8537dfa"
      },
      "source": [
        "# Lines below will give you a hint or solution code\n",
        "#step_1.hint()\n",
        "#step_1.solution()"
      ],
      "id": "a8537dfa",
      "execution_count": null,
      "outputs": []
    },
    {
      "cell_type": "markdown",
      "metadata": {
        "papermill": {
          "duration": 0.017116,
          "end_time": "2021-08-14T13:25:03.957718",
          "exception": false,
          "start_time": "2021-08-14T13:25:03.940602",
          "status": "completed"
        },
        "tags": [],
        "id": "2f4551bc"
      },
      "source": [
        "# Step 2: Generate test predictions\n",
        "\n",
        "Great. You know how to evaluate what makes an accurate model. Now it's time to go through the modeling process and make predictions. In the line below, create a Random Forest model with the variable name `my_model`."
      ],
      "id": "2f4551bc"
    },
    {
      "cell_type": "code",
      "metadata": {
        "execution": {
          "iopub.execute_input": "2021-08-14T13:25:03.998092Z",
          "iopub.status.busy": "2021-08-14T13:25:03.997371Z",
          "iopub.status.idle": "2021-08-14T13:25:04.002069Z",
          "shell.execute_reply": "2021-08-14T13:25:04.002737Z",
          "shell.execute_reply.started": "2021-08-14T13:23:47.212996Z"
        },
        "papermill": {
          "duration": 0.027652,
          "end_time": "2021-08-14T13:25:04.002923",
          "exception": false,
          "start_time": "2021-08-14T13:25:03.975271",
          "status": "completed"
        },
        "tags": [],
        "id": "222da149",
        "outputId": "442abdb5-f837-42af-ef66-0e3db3b8a2f0"
      },
      "source": [
        "# Define a model\n",
        "my_model = RandomForestRegressor() # Your code here\n",
        "\n",
        "# Check your answer\n",
        "step_2.check()"
      ],
      "id": "222da149",
      "execution_count": null,
      "outputs": [
        {
          "output_type": "display_data",
          "data": {
            "application/javascript": [
              "parent.postMessage({\"jupyterEvent\": \"custom.exercise_interaction\", \"data\": {\"outcomeType\": 1, \"valueTowardsCompletion\": 0.5, \"interactionType\": 1, \"questionType\": 2, \"questionId\": \"2_Predictions\", \"learnToolsVersion\": \"0.3.4\", \"failureMessage\": \"\", \"exceptionClass\": \"\", \"trace\": \"\"}}, \"*\")"
            ],
            "text/plain": [
              "<IPython.core.display.Javascript object>"
            ]
          },
          "metadata": {
            "tags": []
          }
        },
        {
          "output_type": "display_data",
          "data": {
            "text/markdown": "<span style=\"color:#33cc33\">Correct</span>",
            "text/plain": [
              "Correct"
            ]
          },
          "metadata": {
            "tags": []
          }
        }
      ]
    },
    {
      "cell_type": "code",
      "metadata": {
        "execution": {
          "iopub.execute_input": "2021-08-14T13:25:04.043721Z",
          "iopub.status.busy": "2021-08-14T13:25:04.043127Z",
          "iopub.status.idle": "2021-08-14T13:25:04.046117Z",
          "shell.execute_reply": "2021-08-14T13:25:04.046683Z"
        },
        "papermill": {
          "duration": 0.024991,
          "end_time": "2021-08-14T13:25:04.046828",
          "exception": false,
          "start_time": "2021-08-14T13:25:04.021837",
          "status": "completed"
        },
        "tags": [],
        "id": "21c9a1bf"
      },
      "source": [
        "# Lines below will give you a hint or solution code\n",
        "#step_2.hint()\n",
        "#step_2.solution()"
      ],
      "id": "21c9a1bf",
      "execution_count": null,
      "outputs": []
    },
    {
      "cell_type": "markdown",
      "metadata": {
        "papermill": {
          "duration": 0.018212,
          "end_time": "2021-08-14T13:25:04.084006",
          "exception": false,
          "start_time": "2021-08-14T13:25:04.065794",
          "status": "completed"
        },
        "tags": [],
        "id": "e096e0bc"
      },
      "source": [
        "Run the next code cell without changes.  The code fits the model to the training and validation data, and then generates test predictions that are saved to a CSV file.  These test predictions can be submitted directly to the competition!"
      ],
      "id": "e096e0bc"
    },
    {
      "cell_type": "code",
      "metadata": {
        "execution": {
          "iopub.execute_input": "2021-08-14T13:25:04.124555Z",
          "iopub.status.busy": "2021-08-14T13:25:04.123945Z",
          "iopub.status.idle": "2021-08-14T13:25:04.757120Z",
          "shell.execute_reply": "2021-08-14T13:25:04.756462Z",
          "shell.execute_reply.started": "2021-08-14T13:24:08.455911Z"
        },
        "papermill": {
          "duration": 0.654453,
          "end_time": "2021-08-14T13:25:04.757304",
          "exception": false,
          "start_time": "2021-08-14T13:25:04.102851",
          "status": "completed"
        },
        "tags": [],
        "id": "fc5e335c"
      },
      "source": [
        "# Fit the model to the training data\n",
        "my_model.fit(X, y)\n",
        "\n",
        "# Generate test predictions\n",
        "preds_test = my_model.predict(X_test)\n",
        "\n",
        "# Save predictions in format used for competition scoring\n",
        "output = pd.DataFrame({'Id': X_test.index,\n",
        "                       'SalePrice': preds_test})\n",
        "output.to_csv('submission.csv', index=False)"
      ],
      "id": "fc5e335c",
      "execution_count": null,
      "outputs": []
    },
    {
      "cell_type": "markdown",
      "metadata": {
        "papermill": {
          "duration": 0.019541,
          "end_time": "2021-08-14T13:25:04.796387",
          "exception": false,
          "start_time": "2021-08-14T13:25:04.776846",
          "status": "completed"
        },
        "tags": [],
        "id": "417cf994"
      },
      "source": [
        "# Submit your results\n",
        "\n",
        "Once you have successfully completed Step 2, you're ready to submit your results to the leaderboard!  First, you'll need to join the competition if you haven't already.  So open a new window by clicking on [this link](https://www.kaggle.com/c/home-data-for-ml-course).  Then click on the **Join Competition** button.\n",
        "\n",
        "![join competition image](https://i.imgur.com/wLmFtH3.png)\n",
        "\n",
        "Next, follow the instructions below:\n",
        "1. Begin by clicking on the blue **Save Version** button in the top right corner of the window.  This will generate a pop-up window.  \n",
        "2. Ensure that the **Save and Run All** option is selected, and then click on the blue **Save** button.\n",
        "3. This generates a window in the bottom left corner of the notebook.  After it has finished running, click on the number to the right of the **Save Version** button.  This pulls up a list of versions on the right of the screen.  Click on the ellipsis **(...)** to the right of the most recent version, and select **Open in Viewer**.  This brings you into view mode of the same page. You will need to scroll down to get back to these instructions.\n",
        "4. Click on the **Output** tab on the right of the screen.  Then, click on the file you would like to submit, and click on the blue **Submit** button to submit your results to the leaderboard.\n",
        "\n",
        "You have now successfully submitted to the competition!\n",
        "\n",
        "If you want to keep working to improve your performance, select the blue **Edit** button in the top right of the screen. Then you can change your code and repeat the process. There's a lot of room to improve, and you will climb up the leaderboard as you work.\n"
      ],
      "id": "417cf994"
    },
    {
      "cell_type": "markdown",
      "metadata": {
        "papermill": {
          "duration": 0.018657,
          "end_time": "2021-08-14T13:25:04.834780",
          "exception": false,
          "start_time": "2021-08-14T13:25:04.816123",
          "status": "completed"
        },
        "tags": [],
        "id": "9697d108"
      },
      "source": [
        "# Keep going\n",
        "\n",
        "You've made your first model. But how can you quickly make it better?\n",
        "\n",
        "Learn how to improve your competition results by incorporating columns with **[missing values](https://www.kaggle.com/alexisbcook/missing-values)**."
      ],
      "id": "9697d108"
    },
    {
      "cell_type": "markdown",
      "metadata": {
        "papermill": {
          "duration": 0.020058,
          "end_time": "2021-08-14T13:25:04.873742",
          "exception": false,
          "start_time": "2021-08-14T13:25:04.853684",
          "status": "completed"
        },
        "tags": [],
        "id": "33a6058e"
      },
      "source": [
        "---\n",
        "\n",
        "\n",
        "\n",
        "\n",
        "*Have questions or comments? Visit the [Learn Discussion forum](https://www.kaggle.com/learn-forum/161289) to chat with other Learners.*"
      ],
      "id": "33a6058e"
    }
  ]
}