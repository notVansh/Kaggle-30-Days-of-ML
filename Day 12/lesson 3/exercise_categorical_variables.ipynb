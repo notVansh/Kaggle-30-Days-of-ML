{
  "nbformat": 4,
  "nbformat_minor": 5,
  "metadata": {
    "kernelspec": {
      "display_name": "Python 3",
      "language": "python",
      "name": "python3"
    },
    "language_info": {
      "codemirror_mode": {
        "name": "ipython",
        "version": 3
      },
      "file_extension": ".py",
      "mimetype": "text/x-python",
      "name": "python",
      "nbconvert_exporter": "python",
      "pygments_lexer": "ipython3",
      "version": "3.7.10"
    },
    "papermill": {
      "default_parameters": {},
      "duration": 18.477886,
      "end_time": "2021-08-14T14:45:09.899657",
      "environment_variables": {},
      "exception": null,
      "input_path": "__notebook__.ipynb",
      "output_path": "__notebook__.ipynb",
      "parameters": {},
      "start_time": "2021-08-14T14:44:51.421771",
      "version": "2.3.3"
    },
    "colab": {
      "name": "exercise-categorical-variables.ipynb",
      "provenance": [],
      "include_colab_link": true
    }
  },
  "cells": [
    {
      "cell_type": "markdown",
      "metadata": {
        "id": "view-in-github",
        "colab_type": "text"
      },
      "source": [
        "<a href=\"https://colab.research.google.com/github/notVansh/Kaggle-30-Days-of-ML/blob/main/Day%2012/lesson%203/exercise_categorical_variables.ipynb\" target=\"_parent\"><img src=\"https://colab.research.google.com/assets/colab-badge.svg\" alt=\"Open In Colab\"/></a>"
      ]
    },
    {
      "cell_type": "markdown",
      "metadata": {
        "papermill": {
          "duration": 0.030999,
          "end_time": "2021-08-14T14:44:59.460051",
          "exception": false,
          "start_time": "2021-08-14T14:44:59.429052",
          "status": "completed"
        },
        "tags": [],
        "id": "b843686a"
      },
      "source": [
        "**This notebook is an exercise in the [Intermediate Machine Learning](https://www.kaggle.com/learn/intermediate-machine-learning) course.  You can reference the tutorial at [this link](https://www.kaggle.com/alexisbcook/categorical-variables).**\n",
        "\n",
        "---\n"
      ],
      "id": "b843686a"
    },
    {
      "cell_type": "markdown",
      "metadata": {
        "papermill": {
          "duration": 0.029337,
          "end_time": "2021-08-14T14:44:59.519786",
          "exception": false,
          "start_time": "2021-08-14T14:44:59.490449",
          "status": "completed"
        },
        "tags": [],
        "id": "5de8c2db"
      },
      "source": [
        "By encoding **categorical variables**, you'll obtain your best results thus far!\n",
        "\n",
        "# Setup\n",
        "\n",
        "The questions below will give you feedback on your work. Run the following cell to set up the feedback system."
      ],
      "id": "5de8c2db"
    },
    {
      "cell_type": "code",
      "metadata": {
        "execution": {
          "iopub.execute_input": "2021-08-14T14:44:59.584322Z",
          "iopub.status.busy": "2021-08-14T14:44:59.583197Z",
          "iopub.status.idle": "2021-08-14T14:44:59.720119Z",
          "shell.execute_reply": "2021-08-14T14:44:59.719503Z",
          "shell.execute_reply.started": "2021-08-14T14:39:54.710312Z"
        },
        "papermill": {
          "duration": 0.170483,
          "end_time": "2021-08-14T14:44:59.720309",
          "exception": false,
          "start_time": "2021-08-14T14:44:59.549826",
          "status": "completed"
        },
        "tags": [],
        "id": "80529cdd",
        "outputId": "fdb98f4f-d96e-4b3d-9cca-06971d42bb9b"
      },
      "source": [
        "# Set up code checking\n",
        "import os\n",
        "if not os.path.exists(\"../input/train.csv\"):\n",
        "    os.symlink(\"../input/home-data-for-ml-course/train.csv\", \"../input/train.csv\")  \n",
        "    os.symlink(\"../input/home-data-for-ml-course/test.csv\", \"../input/test.csv\") \n",
        "from learntools.core import binder\n",
        "binder.bind(globals())\n",
        "from learntools.ml_intermediate.ex3 import *\n",
        "print(\"Setup Complete\")"
      ],
      "id": "80529cdd",
      "execution_count": null,
      "outputs": [
        {
          "output_type": "stream",
          "text": [
            "Setup Complete\n"
          ],
          "name": "stdout"
        }
      ]
    },
    {
      "cell_type": "markdown",
      "metadata": {
        "papermill": {
          "duration": 0.030153,
          "end_time": "2021-08-14T14:44:59.780573",
          "exception": false,
          "start_time": "2021-08-14T14:44:59.750420",
          "status": "completed"
        },
        "tags": [],
        "id": "6f89d667"
      },
      "source": [
        "In this exercise, you will work with data from the [Housing Prices Competition for Kaggle Learn Users](https://www.kaggle.com/c/home-data-for-ml-course). \n",
        "\n",
        "![Ames Housing dataset image](https://i.imgur.com/lTJVG4e.png)\n",
        "\n",
        "Run the next code cell without changes to load the training and validation sets in `X_train`, `X_valid`, `y_train`, and `y_valid`.  The test set is loaded in `X_test`."
      ],
      "id": "6f89d667"
    },
    {
      "cell_type": "code",
      "metadata": {
        "execution": {
          "iopub.execute_input": "2021-08-14T14:44:59.855029Z",
          "iopub.status.busy": "2021-08-14T14:44:59.854195Z",
          "iopub.status.idle": "2021-08-14T14:45:00.902233Z",
          "shell.execute_reply": "2021-08-14T14:45:00.901663Z",
          "shell.execute_reply.started": "2021-08-14T14:41:42.984543Z"
        },
        "papermill": {
          "duration": 1.091449,
          "end_time": "2021-08-14T14:45:00.902388",
          "exception": false,
          "start_time": "2021-08-14T14:44:59.810939",
          "status": "completed"
        },
        "tags": [],
        "id": "8524ebf4"
      },
      "source": [
        "import pandas as pd\n",
        "from sklearn.model_selection import train_test_split\n",
        "\n",
        "# Read the data\n",
        "X = pd.read_csv('../input/train.csv', index_col='Id') \n",
        "X_test = pd.read_csv('../input/test.csv', index_col='Id')\n",
        "\n",
        "# Remove rows with missing target, separate target from predictors\n",
        "X.dropna(axis=0, subset=['SalePrice'], inplace=True)\n",
        "y = X.SalePrice\n",
        "X.drop(['SalePrice'], axis=1, inplace=True)\n",
        "\n",
        "# To keep things simple, we'll drop columns with missing values\n",
        "cols_with_missing = [col for col in X.columns if X[col].isnull().any()] \n",
        "X.drop(cols_with_missing, axis=1, inplace=True)\n",
        "X_test.drop(cols_with_missing, axis=1, inplace=True)\n",
        "\n",
        "# Break off validation set from training data\n",
        "X_train, X_valid, y_train, y_valid = train_test_split(X, y,\n",
        "                                                      train_size=0.8, test_size=0.2,\n",
        "                                                      random_state=0)"
      ],
      "id": "8524ebf4",
      "execution_count": null,
      "outputs": []
    },
    {
      "cell_type": "markdown",
      "metadata": {
        "papermill": {
          "duration": 0.030623,
          "end_time": "2021-08-14T14:45:00.963829",
          "exception": false,
          "start_time": "2021-08-14T14:45:00.933206",
          "status": "completed"
        },
        "tags": [],
        "id": "37eb6fc3"
      },
      "source": [
        "Use the next code cell to print the first five rows of the data."
      ],
      "id": "37eb6fc3"
    },
    {
      "cell_type": "code",
      "metadata": {
        "execution": {
          "iopub.execute_input": "2021-08-14T14:45:01.033857Z",
          "iopub.status.busy": "2021-08-14T14:45:01.033120Z",
          "iopub.status.idle": "2021-08-14T14:45:01.059189Z",
          "shell.execute_reply": "2021-08-14T14:45:01.059703Z",
          "shell.execute_reply.started": "2021-08-14T14:41:47.596384Z"
        },
        "papermill": {
          "duration": 0.066078,
          "end_time": "2021-08-14T14:45:01.059872",
          "exception": false,
          "start_time": "2021-08-14T14:45:00.993794",
          "status": "completed"
        },
        "tags": [],
        "id": "b57f04b4",
        "outputId": "090c377a-dab5-4db0-cdbe-9d33e3a770e2"
      },
      "source": [
        "X_train.head()"
      ],
      "id": "b57f04b4",
      "execution_count": null,
      "outputs": [
        {
          "output_type": "execute_result",
          "data": {
            "text/html": [
              "<div>\n",
              "<style scoped>\n",
              "    .dataframe tbody tr th:only-of-type {\n",
              "        vertical-align: middle;\n",
              "    }\n",
              "\n",
              "    .dataframe tbody tr th {\n",
              "        vertical-align: top;\n",
              "    }\n",
              "\n",
              "    .dataframe thead th {\n",
              "        text-align: right;\n",
              "    }\n",
              "</style>\n",
              "<table border=\"1\" class=\"dataframe\">\n",
              "  <thead>\n",
              "    <tr style=\"text-align: right;\">\n",
              "      <th></th>\n",
              "      <th>MSSubClass</th>\n",
              "      <th>MSZoning</th>\n",
              "      <th>LotArea</th>\n",
              "      <th>Street</th>\n",
              "      <th>LotShape</th>\n",
              "      <th>LandContour</th>\n",
              "      <th>Utilities</th>\n",
              "      <th>LotConfig</th>\n",
              "      <th>LandSlope</th>\n",
              "      <th>Neighborhood</th>\n",
              "      <th>...</th>\n",
              "      <th>OpenPorchSF</th>\n",
              "      <th>EnclosedPorch</th>\n",
              "      <th>3SsnPorch</th>\n",
              "      <th>ScreenPorch</th>\n",
              "      <th>PoolArea</th>\n",
              "      <th>MiscVal</th>\n",
              "      <th>MoSold</th>\n",
              "      <th>YrSold</th>\n",
              "      <th>SaleType</th>\n",
              "      <th>SaleCondition</th>\n",
              "    </tr>\n",
              "    <tr>\n",
              "      <th>Id</th>\n",
              "      <th></th>\n",
              "      <th></th>\n",
              "      <th></th>\n",
              "      <th></th>\n",
              "      <th></th>\n",
              "      <th></th>\n",
              "      <th></th>\n",
              "      <th></th>\n",
              "      <th></th>\n",
              "      <th></th>\n",
              "      <th></th>\n",
              "      <th></th>\n",
              "      <th></th>\n",
              "      <th></th>\n",
              "      <th></th>\n",
              "      <th></th>\n",
              "      <th></th>\n",
              "      <th></th>\n",
              "      <th></th>\n",
              "      <th></th>\n",
              "      <th></th>\n",
              "    </tr>\n",
              "  </thead>\n",
              "  <tbody>\n",
              "    <tr>\n",
              "      <th>619</th>\n",
              "      <td>20</td>\n",
              "      <td>RL</td>\n",
              "      <td>11694</td>\n",
              "      <td>Pave</td>\n",
              "      <td>Reg</td>\n",
              "      <td>Lvl</td>\n",
              "      <td>AllPub</td>\n",
              "      <td>Inside</td>\n",
              "      <td>Gtl</td>\n",
              "      <td>NridgHt</td>\n",
              "      <td>...</td>\n",
              "      <td>108</td>\n",
              "      <td>0</td>\n",
              "      <td>0</td>\n",
              "      <td>260</td>\n",
              "      <td>0</td>\n",
              "      <td>0</td>\n",
              "      <td>7</td>\n",
              "      <td>2007</td>\n",
              "      <td>New</td>\n",
              "      <td>Partial</td>\n",
              "    </tr>\n",
              "    <tr>\n",
              "      <th>871</th>\n",
              "      <td>20</td>\n",
              "      <td>RL</td>\n",
              "      <td>6600</td>\n",
              "      <td>Pave</td>\n",
              "      <td>Reg</td>\n",
              "      <td>Lvl</td>\n",
              "      <td>AllPub</td>\n",
              "      <td>Inside</td>\n",
              "      <td>Gtl</td>\n",
              "      <td>NAmes</td>\n",
              "      <td>...</td>\n",
              "      <td>0</td>\n",
              "      <td>0</td>\n",
              "      <td>0</td>\n",
              "      <td>0</td>\n",
              "      <td>0</td>\n",
              "      <td>0</td>\n",
              "      <td>8</td>\n",
              "      <td>2009</td>\n",
              "      <td>WD</td>\n",
              "      <td>Normal</td>\n",
              "    </tr>\n",
              "    <tr>\n",
              "      <th>93</th>\n",
              "      <td>30</td>\n",
              "      <td>RL</td>\n",
              "      <td>13360</td>\n",
              "      <td>Pave</td>\n",
              "      <td>IR1</td>\n",
              "      <td>HLS</td>\n",
              "      <td>AllPub</td>\n",
              "      <td>Inside</td>\n",
              "      <td>Gtl</td>\n",
              "      <td>Crawfor</td>\n",
              "      <td>...</td>\n",
              "      <td>0</td>\n",
              "      <td>44</td>\n",
              "      <td>0</td>\n",
              "      <td>0</td>\n",
              "      <td>0</td>\n",
              "      <td>0</td>\n",
              "      <td>8</td>\n",
              "      <td>2009</td>\n",
              "      <td>WD</td>\n",
              "      <td>Normal</td>\n",
              "    </tr>\n",
              "    <tr>\n",
              "      <th>818</th>\n",
              "      <td>20</td>\n",
              "      <td>RL</td>\n",
              "      <td>13265</td>\n",
              "      <td>Pave</td>\n",
              "      <td>IR1</td>\n",
              "      <td>Lvl</td>\n",
              "      <td>AllPub</td>\n",
              "      <td>CulDSac</td>\n",
              "      <td>Gtl</td>\n",
              "      <td>Mitchel</td>\n",
              "      <td>...</td>\n",
              "      <td>59</td>\n",
              "      <td>0</td>\n",
              "      <td>0</td>\n",
              "      <td>0</td>\n",
              "      <td>0</td>\n",
              "      <td>0</td>\n",
              "      <td>7</td>\n",
              "      <td>2008</td>\n",
              "      <td>WD</td>\n",
              "      <td>Normal</td>\n",
              "    </tr>\n",
              "    <tr>\n",
              "      <th>303</th>\n",
              "      <td>20</td>\n",
              "      <td>RL</td>\n",
              "      <td>13704</td>\n",
              "      <td>Pave</td>\n",
              "      <td>IR1</td>\n",
              "      <td>Lvl</td>\n",
              "      <td>AllPub</td>\n",
              "      <td>Corner</td>\n",
              "      <td>Gtl</td>\n",
              "      <td>CollgCr</td>\n",
              "      <td>...</td>\n",
              "      <td>81</td>\n",
              "      <td>0</td>\n",
              "      <td>0</td>\n",
              "      <td>0</td>\n",
              "      <td>0</td>\n",
              "      <td>0</td>\n",
              "      <td>1</td>\n",
              "      <td>2006</td>\n",
              "      <td>WD</td>\n",
              "      <td>Normal</td>\n",
              "    </tr>\n",
              "  </tbody>\n",
              "</table>\n",
              "<p>5 rows × 60 columns</p>\n",
              "</div>"
            ],
            "text/plain": [
              "     MSSubClass MSZoning  LotArea Street LotShape LandContour Utilities  \\\n",
              "Id                                                                        \n",
              "619          20       RL    11694   Pave      Reg         Lvl    AllPub   \n",
              "871          20       RL     6600   Pave      Reg         Lvl    AllPub   \n",
              "93           30       RL    13360   Pave      IR1         HLS    AllPub   \n",
              "818          20       RL    13265   Pave      IR1         Lvl    AllPub   \n",
              "303          20       RL    13704   Pave      IR1         Lvl    AllPub   \n",
              "\n",
              "    LotConfig LandSlope Neighborhood  ... OpenPorchSF EnclosedPorch 3SsnPorch  \\\n",
              "Id                                    ...                                       \n",
              "619    Inside       Gtl      NridgHt  ...         108             0         0   \n",
              "871    Inside       Gtl        NAmes  ...           0             0         0   \n",
              "93     Inside       Gtl      Crawfor  ...           0            44         0   \n",
              "818   CulDSac       Gtl      Mitchel  ...          59             0         0   \n",
              "303    Corner       Gtl      CollgCr  ...          81             0         0   \n",
              "\n",
              "    ScreenPorch  PoolArea  MiscVal  MoSold  YrSold SaleType SaleCondition  \n",
              "Id                                                                         \n",
              "619         260         0        0       7    2007      New       Partial  \n",
              "871           0         0        0       8    2009       WD        Normal  \n",
              "93            0         0        0       8    2009       WD        Normal  \n",
              "818           0         0        0       7    2008       WD        Normal  \n",
              "303           0         0        0       1    2006       WD        Normal  \n",
              "\n",
              "[5 rows x 60 columns]"
            ]
          },
          "metadata": {
            "tags": []
          },
          "execution_count": 3
        }
      ]
    },
    {
      "cell_type": "markdown",
      "metadata": {
        "papermill": {
          "duration": 0.03159,
          "end_time": "2021-08-14T14:45:01.122886",
          "exception": false,
          "start_time": "2021-08-14T14:45:01.091296",
          "status": "completed"
        },
        "tags": [],
        "id": "716ff108"
      },
      "source": [
        "Notice that the dataset contains both numerical and categorical variables.  You'll need to encode the categorical data before training a model.\n",
        "\n",
        "To compare different models, you'll use the same `score_dataset()` function from the tutorial.  This function reports the [mean absolute error](https://en.wikipedia.org/wiki/Mean_absolute_error) (MAE) from a random forest model."
      ],
      "id": "716ff108"
    },
    {
      "cell_type": "code",
      "metadata": {
        "execution": {
          "iopub.execute_input": "2021-08-14T14:45:01.187931Z",
          "iopub.status.busy": "2021-08-14T14:45:01.187234Z",
          "iopub.status.idle": "2021-08-14T14:45:01.394732Z",
          "shell.execute_reply": "2021-08-14T14:45:01.395305Z",
          "shell.execute_reply.started": "2021-08-14T14:41:50.978644Z"
        },
        "papermill": {
          "duration": 0.241385,
          "end_time": "2021-08-14T14:45:01.395480",
          "exception": false,
          "start_time": "2021-08-14T14:45:01.154095",
          "status": "completed"
        },
        "tags": [],
        "id": "a06040b6"
      },
      "source": [
        "from sklearn.ensemble import RandomForestRegressor\n",
        "from sklearn.metrics import mean_absolute_error\n",
        "\n",
        "# function for comparing different approaches\n",
        "def score_dataset(X_train, X_valid, y_train, y_valid):\n",
        "    model = RandomForestRegressor(n_estimators=100, random_state=0)\n",
        "    model.fit(X_train, y_train)\n",
        "    preds = model.predict(X_valid)\n",
        "    return mean_absolute_error(y_valid, preds)"
      ],
      "id": "a06040b6",
      "execution_count": null,
      "outputs": []
    },
    {
      "cell_type": "markdown",
      "metadata": {
        "papermill": {
          "duration": 0.030725,
          "end_time": "2021-08-14T14:45:01.457167",
          "exception": false,
          "start_time": "2021-08-14T14:45:01.426442",
          "status": "completed"
        },
        "tags": [],
        "id": "3d1fa6d8"
      },
      "source": [
        "# Step 1: Drop columns with categorical data\n",
        "\n",
        "You'll get started with the most straightforward approach.  Use the code cell below to preprocess the data in `X_train` and `X_valid` to remove columns with categorical data.  Set the preprocessed DataFrames to `drop_X_train` and `drop_X_valid`, respectively.  "
      ],
      "id": "3d1fa6d8"
    },
    {
      "cell_type": "code",
      "metadata": {
        "execution": {
          "iopub.execute_input": "2021-08-14T14:45:01.522928Z",
          "iopub.status.busy": "2021-08-14T14:45:01.522285Z",
          "iopub.status.idle": "2021-08-14T14:45:01.535505Z",
          "shell.execute_reply": "2021-08-14T14:45:01.535988Z",
          "shell.execute_reply.started": "2021-08-14T14:42:08.897195Z"
        },
        "papermill": {
          "duration": 0.047953,
          "end_time": "2021-08-14T14:45:01.536148",
          "exception": false,
          "start_time": "2021-08-14T14:45:01.488195",
          "status": "completed"
        },
        "tags": [],
        "id": "f4fea803",
        "outputId": "b5c7b168-06f1-4784-b0b9-2b9486cd7669"
      },
      "source": [
        "# Fill in the lines below: drop columns in training and validation data\n",
        "drop_X_train = X_train.select_dtypes(exclude=['object'])\n",
        "drop_X_valid = X_valid.select_dtypes(exclude=['object'])\n",
        "\n",
        "# Check your answers\n",
        "step_1.check()"
      ],
      "id": "f4fea803",
      "execution_count": null,
      "outputs": [
        {
          "output_type": "display_data",
          "data": {
            "application/javascript": [
              "parent.postMessage({\"jupyterEvent\": \"custom.exercise_interaction\", \"data\": {\"outcomeType\": 1, \"valueTowardsCompletion\": 0.5, \"interactionType\": 1, \"questionType\": 2, \"questionId\": \"1_Drop\", \"learnToolsVersion\": \"0.3.4\", \"failureMessage\": \"\", \"exceptionClass\": \"\", \"trace\": \"\"}}, \"*\")"
            ],
            "text/plain": [
              "<IPython.core.display.Javascript object>"
            ]
          },
          "metadata": {
            "tags": []
          }
        },
        {
          "output_type": "display_data",
          "data": {
            "text/markdown": "<span style=\"color:#33cc33\">Correct</span>",
            "text/plain": [
              "Correct"
            ]
          },
          "metadata": {
            "tags": []
          }
        }
      ]
    },
    {
      "cell_type": "code",
      "metadata": {
        "execution": {
          "iopub.execute_input": "2021-08-14T14:45:01.604315Z",
          "iopub.status.busy": "2021-08-14T14:45:01.603659Z",
          "iopub.status.idle": "2021-08-14T14:45:01.606993Z",
          "shell.execute_reply": "2021-08-14T14:45:01.607538Z",
          "shell.execute_reply.started": "2021-08-14T14:42:03.459955Z"
        },
        "papermill": {
          "duration": 0.038426,
          "end_time": "2021-08-14T14:45:01.607706",
          "exception": false,
          "start_time": "2021-08-14T14:45:01.569280",
          "status": "completed"
        },
        "tags": [],
        "id": "388e7fde"
      },
      "source": [
        "# Lines below will give you a hint or solution code\n",
        "#step_1.hint()\n",
        "#step_1.solution()"
      ],
      "id": "388e7fde",
      "execution_count": null,
      "outputs": []
    },
    {
      "cell_type": "markdown",
      "metadata": {
        "papermill": {
          "duration": 0.031607,
          "end_time": "2021-08-14T14:45:01.671218",
          "exception": false,
          "start_time": "2021-08-14T14:45:01.639611",
          "status": "completed"
        },
        "tags": [],
        "id": "2b9cbe30"
      },
      "source": [
        "Run the next code cell to get the MAE for this approach."
      ],
      "id": "2b9cbe30"
    },
    {
      "cell_type": "code",
      "metadata": {
        "execution": {
          "iopub.execute_input": "2021-08-14T14:45:01.742893Z",
          "iopub.status.busy": "2021-08-14T14:45:01.742170Z",
          "iopub.status.idle": "2021-08-14T14:45:03.000140Z",
          "shell.execute_reply": "2021-08-14T14:45:03.000690Z",
          "shell.execute_reply.started": "2021-08-14T14:42:12.081348Z"
        },
        "papermill": {
          "duration": 1.296784,
          "end_time": "2021-08-14T14:45:03.000866",
          "exception": false,
          "start_time": "2021-08-14T14:45:01.704082",
          "status": "completed"
        },
        "tags": [],
        "id": "f234caf4",
        "outputId": "3ad0dbb9-c16a-42ca-9aa9-19a1961689ee"
      },
      "source": [
        "print(\"MAE from Approach 1 (Drop categorical variables):\")\n",
        "print(score_dataset(drop_X_train, drop_X_valid, y_train, y_valid))"
      ],
      "id": "f234caf4",
      "execution_count": null,
      "outputs": [
        {
          "output_type": "stream",
          "text": [
            "MAE from Approach 1 (Drop categorical variables):\n",
            "17837.82570776256\n"
          ],
          "name": "stdout"
        }
      ]
    },
    {
      "cell_type": "markdown",
      "metadata": {
        "papermill": {
          "duration": 0.032065,
          "end_time": "2021-08-14T14:45:03.067299",
          "exception": false,
          "start_time": "2021-08-14T14:45:03.035234",
          "status": "completed"
        },
        "tags": [],
        "id": "1eca7bdb"
      },
      "source": [
        "Before jumping into ordinal encoding, we'll investigate the dataset.  Specifically, we'll look at the `'Condition2'` column.  The code cell below prints the unique entries in both the training and validation sets."
      ],
      "id": "1eca7bdb"
    },
    {
      "cell_type": "code",
      "metadata": {
        "execution": {
          "iopub.execute_input": "2021-08-14T14:45:03.140441Z",
          "iopub.status.busy": "2021-08-14T14:45:03.139379Z",
          "iopub.status.idle": "2021-08-14T14:45:03.145303Z",
          "shell.execute_reply": "2021-08-14T14:45:03.146042Z",
          "shell.execute_reply.started": "2021-08-14T14:42:13.953157Z"
        },
        "papermill": {
          "duration": 0.046283,
          "end_time": "2021-08-14T14:45:03.146312",
          "exception": false,
          "start_time": "2021-08-14T14:45:03.100029",
          "status": "completed"
        },
        "tags": [],
        "id": "a80f5dbd",
        "outputId": "54f80152-dcd6-446e-919c-dc17705f5919"
      },
      "source": [
        "print(\"Unique values in 'Condition2' column in training data:\", X_train['Condition2'].unique())\n",
        "print(\"\\nUnique values in 'Condition2' column in validation data:\", X_valid['Condition2'].unique())"
      ],
      "id": "a80f5dbd",
      "execution_count": null,
      "outputs": [
        {
          "output_type": "stream",
          "text": [
            "Unique values in 'Condition2' column in training data: ['Norm' 'PosA' 'Feedr' 'PosN' 'Artery' 'RRAe']\n",
            "\n",
            "Unique values in 'Condition2' column in validation data: ['Norm' 'RRAn' 'RRNn' 'Artery' 'Feedr' 'PosN']\n"
          ],
          "name": "stdout"
        }
      ]
    },
    {
      "cell_type": "markdown",
      "metadata": {
        "papermill": {
          "duration": 0.033273,
          "end_time": "2021-08-14T14:45:03.213367",
          "exception": false,
          "start_time": "2021-08-14T14:45:03.180094",
          "status": "completed"
        },
        "tags": [],
        "id": "3c4b9eba"
      },
      "source": [
        "# Step 2: Ordinal encoding\n",
        "\n",
        "### Part A\n",
        "\n",
        "If you now write code to: \n",
        "- fit an ordinal encoder to the training data, and then \n",
        "- use it to transform both the training and validation data, \n",
        "\n",
        "you'll get an error.  Can you see why this is the case?  (_You'll need  to use the above output to answer this question._)"
      ],
      "id": "3c4b9eba"
    },
    {
      "cell_type": "code",
      "metadata": {
        "execution": {
          "iopub.execute_input": "2021-08-14T14:45:03.284084Z",
          "iopub.status.busy": "2021-08-14T14:45:03.283438Z",
          "iopub.status.idle": "2021-08-14T14:45:03.289329Z",
          "shell.execute_reply": "2021-08-14T14:45:03.288702Z",
          "shell.execute_reply.started": "2021-08-14T14:42:18.101566Z"
        },
        "papermill": {
          "duration": 0.04334,
          "end_time": "2021-08-14T14:45:03.289467",
          "exception": false,
          "start_time": "2021-08-14T14:45:03.246127",
          "status": "completed"
        },
        "tags": [],
        "id": "66442cb4",
        "outputId": "aff9e244-775c-488f-eccf-799c1b192c95"
      },
      "source": [
        "# Check your answer (Run this code cell to receive credit!)\n",
        "step_2.a.check()"
      ],
      "id": "66442cb4",
      "execution_count": null,
      "outputs": [
        {
          "output_type": "display_data",
          "data": {
            "application/javascript": [
              "parent.postMessage({\"jupyterEvent\": \"custom.exercise_interaction\", \"data\": {\"outcomeType\": 1, \"valueTowardsCompletion\": 0.5, \"interactionType\": 1, \"questionType\": 4, \"questionId\": \"2.1_LabelA\", \"learnToolsVersion\": \"0.3.4\", \"failureMessage\": \"\", \"exceptionClass\": \"\", \"trace\": \"\"}}, \"*\")"
            ],
            "text/plain": [
              "<IPython.core.display.Javascript object>"
            ]
          },
          "metadata": {
            "tags": []
          }
        },
        {
          "output_type": "display_data",
          "data": {
            "text/markdown": "<span style=\"color:#33cc33\">Correct:</span> \n\nFitting an ordinal encoder to a column in the training data creates a corresponding integer-valued label for each unique value **that appears in the training data**. In the case that the validation data contains values that don't also appear in the training data, the encoder will throw an error, because these values won't have an integer assigned to them.  Notice that the `'Condition2'` column in the validation data contains the values `'RRAn'` and `'RRNn'`, but these don't appear in the training data -- thus, if we try to use an ordinal encoder with scikit-learn, the code will throw an error.",
            "text/plain": [
              "Correct: \n",
              "\n",
              "Fitting an ordinal encoder to a column in the training data creates a corresponding integer-valued label for each unique value **that appears in the training data**. In the case that the validation data contains values that don't also appear in the training data, the encoder will throw an error, because these values won't have an integer assigned to them.  Notice that the `'Condition2'` column in the validation data contains the values `'RRAn'` and `'RRNn'`, but these don't appear in the training data -- thus, if we try to use an ordinal encoder with scikit-learn, the code will throw an error."
            ]
          },
          "metadata": {
            "tags": []
          }
        }
      ]
    },
    {
      "cell_type": "code",
      "metadata": {
        "execution": {
          "iopub.execute_input": "2021-08-14T14:45:03.364038Z",
          "iopub.status.busy": "2021-08-14T14:45:03.363038Z",
          "iopub.status.idle": "2021-08-14T14:45:03.366156Z",
          "shell.execute_reply": "2021-08-14T14:45:03.365661Z"
        },
        "papermill": {
          "duration": 0.042825,
          "end_time": "2021-08-14T14:45:03.366333",
          "exception": false,
          "start_time": "2021-08-14T14:45:03.323508",
          "status": "completed"
        },
        "tags": [],
        "id": "3e106c51"
      },
      "source": [
        "#step_2.a.hint()"
      ],
      "id": "3e106c51",
      "execution_count": null,
      "outputs": []
    },
    {
      "cell_type": "markdown",
      "metadata": {
        "papermill": {
          "duration": 0.033678,
          "end_time": "2021-08-14T14:45:03.435725",
          "exception": false,
          "start_time": "2021-08-14T14:45:03.402047",
          "status": "completed"
        },
        "tags": [],
        "id": "b7097cad"
      },
      "source": [
        "This is a common problem that you'll encounter with real-world data, and there are many approaches to fixing this issue.  For instance, you can write a custom ordinal encoder to deal with new categories.  The simplest approach, however, is to drop the problematic categorical columns.  \n",
        "\n",
        "Run the code cell below to save the problematic columns to a Python list `bad_label_cols`.  Likewise, columns that can be safely ordinal encoded are stored in `good_label_cols`."
      ],
      "id": "b7097cad"
    },
    {
      "cell_type": "code",
      "metadata": {
        "execution": {
          "iopub.execute_input": "2021-08-14T14:45:03.520407Z",
          "iopub.status.busy": "2021-08-14T14:45:03.519510Z",
          "iopub.status.idle": "2021-08-14T14:45:03.524023Z",
          "shell.execute_reply": "2021-08-14T14:45:03.523391Z",
          "shell.execute_reply.started": "2021-08-14T14:42:24.478634Z"
        },
        "papermill": {
          "duration": 0.054357,
          "end_time": "2021-08-14T14:45:03.524175",
          "exception": false,
          "start_time": "2021-08-14T14:45:03.469818",
          "status": "completed"
        },
        "tags": [],
        "id": "c75325f3",
        "outputId": "7603097c-d648-4449-d668-0912fbdc557e"
      },
      "source": [
        "# All categorical columns\n",
        "object_cols = [col for col in X_train.columns if X_train[col].dtype == \"object\"]\n",
        "\n",
        "# Columns that can be safely ordinal encoded\n",
        "good_label_cols = [col for col in object_cols if \n",
        "                   set(X_valid[col]).issubset(set(X_train[col]))]\n",
        "        \n",
        "# Problematic columns that will be dropped from the dataset\n",
        "bad_label_cols = list(set(object_cols)-set(good_label_cols))\n",
        "        \n",
        "print('Categorical columns that will be ordinal encoded:', good_label_cols)\n",
        "print('\\nCategorical columns that will be dropped from the dataset:', bad_label_cols)"
      ],
      "id": "c75325f3",
      "execution_count": null,
      "outputs": [
        {
          "output_type": "stream",
          "text": [
            "Categorical columns that will be ordinal encoded: ['MSZoning', 'Street', 'LotShape', 'LandContour', 'Utilities', 'LotConfig', 'LandSlope', 'Neighborhood', 'Condition1', 'BldgType', 'HouseStyle', 'RoofStyle', 'Exterior1st', 'Exterior2nd', 'ExterQual', 'ExterCond', 'Foundation', 'Heating', 'HeatingQC', 'CentralAir', 'KitchenQual', 'PavedDrive', 'SaleType', 'SaleCondition']\n",
            "\n",
            "Categorical columns that will be dropped from the dataset: ['Functional', 'RoofMatl', 'Condition2']\n"
          ],
          "name": "stdout"
        }
      ]
    },
    {
      "cell_type": "markdown",
      "metadata": {
        "papermill": {
          "duration": 0.033924,
          "end_time": "2021-08-14T14:45:03.592381",
          "exception": false,
          "start_time": "2021-08-14T14:45:03.558457",
          "status": "completed"
        },
        "tags": [],
        "id": "9e9e00f9"
      },
      "source": [
        "### Part B\n",
        "\n",
        "Use the next code cell to ordinal encode the data in `X_train` and `X_valid`.  Set the preprocessed DataFrames to `label_X_train` and `label_X_valid`, respectively.  \n",
        "- We have provided code below to drop the categorical columns in `bad_label_cols` from the dataset. \n",
        "- You should ordinal encode the categorical columns in `good_label_cols`.  "
      ],
      "id": "9e9e00f9"
    },
    {
      "cell_type": "code",
      "metadata": {
        "execution": {
          "iopub.execute_input": "2021-08-14T14:45:03.669101Z",
          "iopub.status.busy": "2021-08-14T14:45:03.668360Z",
          "iopub.status.idle": "2021-08-14T14:45:03.730914Z",
          "shell.execute_reply": "2021-08-14T14:45:03.731432Z",
          "shell.execute_reply.started": "2021-08-14T14:43:01.231463Z"
        },
        "papermill": {
          "duration": 0.105159,
          "end_time": "2021-08-14T14:45:03.731602",
          "exception": false,
          "start_time": "2021-08-14T14:45:03.626443",
          "status": "completed"
        },
        "tags": [],
        "id": "6a05d648",
        "outputId": "85b25e96-c9aa-4362-e535-51d50dc8df5c"
      },
      "source": [
        "from sklearn.preprocessing import OrdinalEncoder\n",
        "\n",
        "# Drop categorical columns that will not be encoded\n",
        "label_X_train = X_train.drop(bad_label_cols, axis=1)\n",
        "label_X_valid = X_valid.drop(bad_label_cols, axis=1)\n",
        "\n",
        "# Apply ordinal encoder \n",
        "ordinal_encoder = OrdinalEncoder()\n",
        "label_X_train[good_label_cols] = ordinal_encoder.fit_transform(X_train[good_label_cols])\n",
        "label_X_valid[good_label_cols] = ordinal_encoder.transform(X_valid[good_label_cols]) # Your code here\n",
        "    \n",
        "# Check your answer\n",
        "step_2.b.check()"
      ],
      "id": "6a05d648",
      "execution_count": null,
      "outputs": [
        {
          "output_type": "display_data",
          "data": {
            "application/javascript": [
              "parent.postMessage({\"jupyterEvent\": \"custom.exercise_interaction\", \"data\": {\"outcomeType\": 1, \"valueTowardsCompletion\": 0.5, \"interactionType\": 1, \"questionType\": 2, \"questionId\": \"2.2_LabelB\", \"learnToolsVersion\": \"0.3.4\", \"failureMessage\": \"\", \"exceptionClass\": \"\", \"trace\": \"\"}}, \"*\")"
            ],
            "text/plain": [
              "<IPython.core.display.Javascript object>"
            ]
          },
          "metadata": {
            "tags": []
          }
        },
        {
          "output_type": "display_data",
          "data": {
            "text/markdown": "<span style=\"color:#33cc33\">Correct</span>",
            "text/plain": [
              "Correct"
            ]
          },
          "metadata": {
            "tags": []
          }
        }
      ]
    },
    {
      "cell_type": "code",
      "metadata": {
        "execution": {
          "iopub.execute_input": "2021-08-14T14:45:03.808161Z",
          "iopub.status.busy": "2021-08-14T14:45:03.807529Z",
          "iopub.status.idle": "2021-08-14T14:45:03.810520Z",
          "shell.execute_reply": "2021-08-14T14:45:03.809948Z",
          "shell.execute_reply.started": "2021-08-14T14:42:59.987793Z"
        },
        "papermill": {
          "duration": 0.043719,
          "end_time": "2021-08-14T14:45:03.810664",
          "exception": false,
          "start_time": "2021-08-14T14:45:03.766945",
          "status": "completed"
        },
        "tags": [],
        "id": "f57635f9"
      },
      "source": [
        "# Lines below will give you a hint or solution code\n",
        "#step_2.b.hint()\n",
        "#step_2.b.solution()"
      ],
      "id": "f57635f9",
      "execution_count": null,
      "outputs": []
    },
    {
      "cell_type": "markdown",
      "metadata": {
        "papermill": {
          "duration": 0.035204,
          "end_time": "2021-08-14T14:45:03.882195",
          "exception": false,
          "start_time": "2021-08-14T14:45:03.846991",
          "status": "completed"
        },
        "tags": [],
        "id": "eaa0fd6e"
      },
      "source": [
        "Run the next code cell to get the MAE for this approach."
      ],
      "id": "eaa0fd6e"
    },
    {
      "cell_type": "code",
      "metadata": {
        "execution": {
          "iopub.execute_input": "2021-08-14T14:45:03.956227Z",
          "iopub.status.busy": "2021-08-14T14:45:03.955583Z",
          "iopub.status.idle": "2021-08-14T14:45:05.565836Z",
          "shell.execute_reply": "2021-08-14T14:45:05.564789Z",
          "shell.execute_reply.started": "2021-08-14T14:43:03.766794Z"
        },
        "papermill": {
          "duration": 1.648162,
          "end_time": "2021-08-14T14:45:05.566132",
          "exception": false,
          "start_time": "2021-08-14T14:45:03.917970",
          "status": "completed"
        },
        "tags": [],
        "id": "edb58633",
        "outputId": "4cc4737b-6aef-4e7d-90a4-f7b6a1565dcd"
      },
      "source": [
        "print(\"MAE from Approach 2 (Ordinal Encoding):\") \n",
        "print(score_dataset(label_X_train, label_X_valid, y_train, y_valid))"
      ],
      "id": "edb58633",
      "execution_count": null,
      "outputs": [
        {
          "output_type": "stream",
          "text": [
            "MAE from Approach 2 (Ordinal Encoding):\n",
            "17098.01649543379\n"
          ],
          "name": "stdout"
        }
      ]
    },
    {
      "cell_type": "markdown",
      "metadata": {
        "papermill": {
          "duration": 0.03528,
          "end_time": "2021-08-14T14:45:05.638710",
          "exception": false,
          "start_time": "2021-08-14T14:45:05.603430",
          "status": "completed"
        },
        "tags": [],
        "id": "1269ebf2"
      },
      "source": [
        "So far, you've tried two different approaches to dealing with categorical variables.  And, you've seen that encoding categorical data yields better results than removing columns from the dataset.\n",
        "\n",
        "Soon, you'll try one-hot encoding.  Before then, there's one additional topic we need to cover.  Begin by running the next code cell without changes.  "
      ],
      "id": "1269ebf2"
    },
    {
      "cell_type": "code",
      "metadata": {
        "execution": {
          "iopub.execute_input": "2021-08-14T14:45:05.718990Z",
          "iopub.status.busy": "2021-08-14T14:45:05.717926Z",
          "iopub.status.idle": "2021-08-14T14:45:05.734975Z",
          "shell.execute_reply": "2021-08-14T14:45:05.735506Z",
          "shell.execute_reply.started": "2021-08-14T14:43:07.089690Z"
        },
        "papermill": {
          "duration": 0.060791,
          "end_time": "2021-08-14T14:45:05.735677",
          "exception": false,
          "start_time": "2021-08-14T14:45:05.674886",
          "status": "completed"
        },
        "tags": [],
        "id": "26fae87e",
        "outputId": "05f54a72-6a90-454b-91f6-5326dcfed14b"
      },
      "source": [
        "# Get number of unique entries in each column with categorical data\n",
        "object_nunique = list(map(lambda col: X_train[col].nunique(), object_cols))\n",
        "d = dict(zip(object_cols, object_nunique))\n",
        "\n",
        "# Print number of unique entries by column, in ascending order\n",
        "sorted(d.items(), key=lambda x: x[1])"
      ],
      "id": "26fae87e",
      "execution_count": null,
      "outputs": [
        {
          "output_type": "execute_result",
          "data": {
            "text/plain": [
              "[('Street', 2),\n",
              " ('Utilities', 2),\n",
              " ('CentralAir', 2),\n",
              " ('LandSlope', 3),\n",
              " ('PavedDrive', 3),\n",
              " ('LotShape', 4),\n",
              " ('LandContour', 4),\n",
              " ('ExterQual', 4),\n",
              " ('KitchenQual', 4),\n",
              " ('MSZoning', 5),\n",
              " ('LotConfig', 5),\n",
              " ('BldgType', 5),\n",
              " ('ExterCond', 5),\n",
              " ('HeatingQC', 5),\n",
              " ('Condition2', 6),\n",
              " ('RoofStyle', 6),\n",
              " ('Foundation', 6),\n",
              " ('Heating', 6),\n",
              " ('Functional', 6),\n",
              " ('SaleCondition', 6),\n",
              " ('RoofMatl', 7),\n",
              " ('HouseStyle', 8),\n",
              " ('Condition1', 9),\n",
              " ('SaleType', 9),\n",
              " ('Exterior1st', 15),\n",
              " ('Exterior2nd', 16),\n",
              " ('Neighborhood', 25)]"
            ]
          },
          "metadata": {
            "tags": []
          },
          "execution_count": 15
        }
      ]
    },
    {
      "cell_type": "markdown",
      "metadata": {
        "papermill": {
          "duration": 0.03598,
          "end_time": "2021-08-14T14:45:05.807477",
          "exception": false,
          "start_time": "2021-08-14T14:45:05.771497",
          "status": "completed"
        },
        "tags": [],
        "id": "b8b6c8f8"
      },
      "source": [
        "# Step 3: Investigating cardinality\n",
        "\n",
        "### Part A\n",
        "\n",
        "The output above shows, for each column with categorical data, the number of unique values in the column.  For instance, the `'Street'` column in the training data has two unique values: `'Grvl'` and `'Pave'`, corresponding to a gravel road and a paved road, respectively.\n",
        "\n",
        "We refer to the number of unique entries of a categorical variable as the **cardinality** of that categorical variable.  For instance, the `'Street'` variable has cardinality 2.\n",
        "\n",
        "Use the output above to answer the questions below."
      ],
      "id": "b8b6c8f8"
    },
    {
      "cell_type": "code",
      "metadata": {
        "execution": {
          "iopub.execute_input": "2021-08-14T14:45:05.883722Z",
          "iopub.status.busy": "2021-08-14T14:45:05.882770Z",
          "iopub.status.idle": "2021-08-14T14:45:05.890187Z",
          "shell.execute_reply": "2021-08-14T14:45:05.890699Z",
          "shell.execute_reply.started": "2021-08-14T14:43:30.059018Z"
        },
        "papermill": {
          "duration": 0.046988,
          "end_time": "2021-08-14T14:45:05.890869",
          "exception": false,
          "start_time": "2021-08-14T14:45:05.843881",
          "status": "completed"
        },
        "tags": [],
        "id": "ca3695fd",
        "outputId": "7fea2941-3dda-4cf0-bc6b-680edc1337d0"
      },
      "source": [
        "# Fill in the line below: How many categorical variables in the training data\n",
        "# have cardinality greater than 10?\n",
        "high_cardinality_numcols = 3\n",
        "\n",
        "# Fill in the line below: How many columns are needed to one-hot encode the \n",
        "# 'Neighborhood' variable in the training data?\n",
        "num_cols_neighborhood = 25\n",
        "\n",
        "# Check your answers\n",
        "step_3.a.check()"
      ],
      "id": "ca3695fd",
      "execution_count": null,
      "outputs": [
        {
          "output_type": "display_data",
          "data": {
            "application/javascript": [
              "parent.postMessage({\"jupyterEvent\": \"custom.exercise_interaction\", \"data\": {\"outcomeType\": 1, \"valueTowardsCompletion\": 0.5, \"interactionType\": 1, \"questionType\": 1, \"questionId\": \"3.1_CardinalityA\", \"learnToolsVersion\": \"0.3.4\", \"failureMessage\": \"\", \"exceptionClass\": \"\", \"trace\": \"\"}}, \"*\")"
            ],
            "text/plain": [
              "<IPython.core.display.Javascript object>"
            ]
          },
          "metadata": {
            "tags": []
          }
        },
        {
          "output_type": "display_data",
          "data": {
            "text/markdown": "<span style=\"color:#33cc33\">Correct</span>",
            "text/plain": [
              "Correct"
            ]
          },
          "metadata": {
            "tags": []
          }
        }
      ]
    },
    {
      "cell_type": "code",
      "metadata": {
        "execution": {
          "iopub.execute_input": "2021-08-14T14:45:05.968355Z",
          "iopub.status.busy": "2021-08-14T14:45:05.967717Z",
          "iopub.status.idle": "2021-08-14T14:45:05.971760Z",
          "shell.execute_reply": "2021-08-14T14:45:05.971272Z",
          "shell.execute_reply.started": "2021-08-14T14:43:14.818003Z"
        },
        "papermill": {
          "duration": 0.043784,
          "end_time": "2021-08-14T14:45:05.971896",
          "exception": false,
          "start_time": "2021-08-14T14:45:05.928112",
          "status": "completed"
        },
        "tags": [],
        "id": "90ca4ff3"
      },
      "source": [
        "# Lines below will give you a hint or solution code\n",
        "#step_3.a.hint()\n",
        "#step_3.a.solution()"
      ],
      "id": "90ca4ff3",
      "execution_count": null,
      "outputs": []
    },
    {
      "cell_type": "markdown",
      "metadata": {
        "papermill": {
          "duration": 0.036952,
          "end_time": "2021-08-14T14:45:06.045765",
          "exception": false,
          "start_time": "2021-08-14T14:45:06.008813",
          "status": "completed"
        },
        "tags": [],
        "id": "9225313d"
      },
      "source": [
        "### Part B\n",
        "\n",
        "For large datasets with many rows, one-hot encoding can greatly expand the size of the dataset.  For this reason, we typically will only one-hot encode columns with relatively low cardinality.  Then, high cardinality columns can either be dropped from the dataset, or we can use ordinal encoding.\n",
        "\n",
        "As an example, consider a dataset with 10,000 rows, and containing one categorical column with 100 unique entries.  \n",
        "- If this column is replaced with the corresponding one-hot encoding, how many entries are added to the dataset?  \n",
        "- If we instead replace the column with the ordinal encoding, how many entries are added?  \n",
        "\n",
        "Use your answers to fill in the lines below."
      ],
      "id": "9225313d"
    },
    {
      "cell_type": "code",
      "metadata": {
        "execution": {
          "iopub.execute_input": "2021-08-14T14:45:06.124118Z",
          "iopub.status.busy": "2021-08-14T14:45:06.123166Z",
          "iopub.status.idle": "2021-08-14T14:45:06.130901Z",
          "shell.execute_reply": "2021-08-14T14:45:06.131363Z",
          "shell.execute_reply.started": "2021-08-14T14:43:48.736052Z"
        },
        "papermill": {
          "duration": 0.048823,
          "end_time": "2021-08-14T14:45:06.131530",
          "exception": false,
          "start_time": "2021-08-14T14:45:06.082707",
          "status": "completed"
        },
        "tags": [],
        "id": "331d7ca1",
        "outputId": "a091981d-509c-4281-c2b0-f732605e2e3a"
      },
      "source": [
        "# Fill in the line below: How many entries are added to the dataset by \n",
        "# replacing the column with a one-hot encoding?\n",
        "OH_entries_added = 1e4*100 - 1e4\n",
        "\n",
        "# Fill in the line below: How many entries are added to the dataset by\n",
        "# replacing the column with an ordinal encoding?\n",
        "label_entries_added = 0\n",
        "\n",
        "# Check your answers\n",
        "step_3.b.check()"
      ],
      "id": "331d7ca1",
      "execution_count": null,
      "outputs": [
        {
          "output_type": "display_data",
          "data": {
            "application/javascript": [
              "parent.postMessage({\"jupyterEvent\": \"custom.exercise_interaction\", \"data\": {\"outcomeType\": 1, \"valueTowardsCompletion\": 0.5, \"interactionType\": 1, \"questionType\": 1, \"questionId\": \"3.2_CardinalityB\", \"learnToolsVersion\": \"0.3.4\", \"failureMessage\": \"\", \"exceptionClass\": \"\", \"trace\": \"\"}}, \"*\")"
            ],
            "text/plain": [
              "<IPython.core.display.Javascript object>"
            ]
          },
          "metadata": {
            "tags": []
          }
        },
        {
          "output_type": "display_data",
          "data": {
            "text/markdown": "<span style=\"color:#33cc33\">Correct</span>",
            "text/plain": [
              "Correct"
            ]
          },
          "metadata": {
            "tags": []
          }
        }
      ]
    },
    {
      "cell_type": "code",
      "metadata": {
        "execution": {
          "iopub.execute_input": "2021-08-14T14:45:06.211878Z",
          "iopub.status.busy": "2021-08-14T14:45:06.211133Z",
          "iopub.status.idle": "2021-08-14T14:45:06.213376Z",
          "shell.execute_reply": "2021-08-14T14:45:06.213853Z",
          "shell.execute_reply.started": "2021-08-14T14:43:51.147958Z"
        },
        "papermill": {
          "duration": 0.044658,
          "end_time": "2021-08-14T14:45:06.214006",
          "exception": false,
          "start_time": "2021-08-14T14:45:06.169348",
          "status": "completed"
        },
        "tags": [],
        "id": "97284569"
      },
      "source": [
        "# Lines below will give you a hint or solution code\n",
        "#step_3.b.hint()\n",
        "#step_3.b.solution()"
      ],
      "id": "97284569",
      "execution_count": null,
      "outputs": []
    },
    {
      "cell_type": "markdown",
      "metadata": {
        "papermill": {
          "duration": 0.037585,
          "end_time": "2021-08-14T14:45:06.289436",
          "exception": false,
          "start_time": "2021-08-14T14:45:06.251851",
          "status": "completed"
        },
        "tags": [],
        "id": "468e119b"
      },
      "source": [
        "Next, you'll experiment with one-hot encoding.  But, instead of encoding all of the categorical variables in the dataset, you'll only create a one-hot encoding for columns with cardinality less than 10.\n",
        "\n",
        "Run the code cell below without changes to set `low_cardinality_cols` to a Python list containing the columns that will be one-hot encoded.  Likewise, `high_cardinality_cols` contains a list of categorical columns that will be dropped from the dataset."
      ],
      "id": "468e119b"
    },
    {
      "cell_type": "code",
      "metadata": {
        "execution": {
          "iopub.execute_input": "2021-08-14T14:45:06.373060Z",
          "iopub.status.busy": "2021-08-14T14:45:06.372347Z",
          "iopub.status.idle": "2021-08-14T14:45:06.388470Z",
          "shell.execute_reply": "2021-08-14T14:45:06.389279Z",
          "shell.execute_reply.started": "2021-08-14T14:43:53.798737Z"
        },
        "papermill": {
          "duration": 0.062322,
          "end_time": "2021-08-14T14:45:06.389674",
          "exception": false,
          "start_time": "2021-08-14T14:45:06.327352",
          "status": "completed"
        },
        "tags": [],
        "id": "35d9ce3d",
        "outputId": "80e6b97b-1f16-400a-8fcb-a2c345ae46c2"
      },
      "source": [
        "# Columns that will be one-hot encoded\n",
        "low_cardinality_cols = [col for col in object_cols if X_train[col].nunique() < 10]\n",
        "\n",
        "# Columns that will be dropped from the dataset\n",
        "high_cardinality_cols = list(set(object_cols)-set(low_cardinality_cols))\n",
        "\n",
        "print('Categorical columns that will be one-hot encoded:', low_cardinality_cols)\n",
        "print('\\nCategorical columns that will be dropped from the dataset:', high_cardinality_cols)"
      ],
      "id": "35d9ce3d",
      "execution_count": null,
      "outputs": [
        {
          "output_type": "stream",
          "text": [
            "Categorical columns that will be one-hot encoded: ['MSZoning', 'Street', 'LotShape', 'LandContour', 'Utilities', 'LotConfig', 'LandSlope', 'Condition1', 'Condition2', 'BldgType', 'HouseStyle', 'RoofStyle', 'RoofMatl', 'ExterQual', 'ExterCond', 'Foundation', 'Heating', 'HeatingQC', 'CentralAir', 'KitchenQual', 'Functional', 'PavedDrive', 'SaleType', 'SaleCondition']\n",
            "\n",
            "Categorical columns that will be dropped from the dataset: ['Exterior2nd', 'Neighborhood', 'Exterior1st']\n"
          ],
          "name": "stdout"
        }
      ]
    },
    {
      "cell_type": "markdown",
      "metadata": {
        "papermill": {
          "duration": 0.038073,
          "end_time": "2021-08-14T14:45:06.467289",
          "exception": false,
          "start_time": "2021-08-14T14:45:06.429216",
          "status": "completed"
        },
        "tags": [],
        "id": "847ad3d8"
      },
      "source": [
        "# Step 4: One-hot encoding\n",
        "\n",
        "Use the next code cell to one-hot encode the data in `X_train` and `X_valid`.  Set the preprocessed DataFrames to `OH_X_train` and `OH_X_valid`, respectively.  \n",
        "- The full list of categorical columns in the dataset can be found in the Python list `object_cols`.\n",
        "- You should only one-hot encode the categorical columns in `low_cardinality_cols`.  All other categorical columns should be dropped from the dataset. "
      ],
      "id": "847ad3d8"
    },
    {
      "cell_type": "code",
      "metadata": {
        "execution": {
          "iopub.execute_input": "2021-08-14T14:45:06.573852Z",
          "iopub.status.busy": "2021-08-14T14:45:06.563894Z",
          "iopub.status.idle": "2021-08-14T14:45:06.596394Z",
          "shell.execute_reply": "2021-08-14T14:45:06.595867Z",
          "shell.execute_reply.started": "2021-08-14T14:44:26.433414Z"
        },
        "papermill": {
          "duration": 0.0909,
          "end_time": "2021-08-14T14:45:06.596530",
          "exception": false,
          "start_time": "2021-08-14T14:45:06.505630",
          "status": "completed"
        },
        "tags": [],
        "id": "3e90cb6e",
        "outputId": "9d65d5c0-2f08-414d-fe5d-9abf0b218d9a"
      },
      "source": [
        "from sklearn.preprocessing import OneHotEncoder\n",
        "\n",
        "# Use as many lines of code as you need!\n",
        "\n",
        "# Apply one-hot encoder to each column with categorical data\n",
        "OH_encoder = OneHotEncoder(handle_unknown='ignore', sparse=False)\n",
        "OH_cols_train = pd.DataFrame(OH_encoder.fit_transform(X_train[low_cardinality_cols]))\n",
        "OH_cols_valid = pd.DataFrame(OH_encoder.transform(X_valid[low_cardinality_cols]))\n",
        "\n",
        "# One-hot encoding removed index; put it back\n",
        "OH_cols_train.index = X_train.index\n",
        "OH_cols_valid.index = X_valid.index\n",
        "\n",
        "# Remove categorical columns (will replace with one-hot encoding)\n",
        "num_X_train = X_train.drop(object_cols, axis=1)\n",
        "num_X_valid = X_valid.drop(object_cols, axis=1)\n",
        "\n",
        "# Add one-hot encoded columns to numerical features\n",
        "OH_X_train = pd.concat([num_X_train, OH_cols_train], axis=1)\n",
        "OH_X_valid = pd.concat([num_X_valid, OH_cols_valid], axis=1)\n",
        "\n",
        "# Check your answer\n",
        "step_4.check()"
      ],
      "id": "3e90cb6e",
      "execution_count": null,
      "outputs": [
        {
          "output_type": "display_data",
          "data": {
            "application/javascript": [
              "parent.postMessage({\"jupyterEvent\": \"custom.exercise_interaction\", \"data\": {\"outcomeType\": 1, \"valueTowardsCompletion\": 0.5, \"interactionType\": 1, \"questionType\": 2, \"questionId\": \"4_OneHot\", \"learnToolsVersion\": \"0.3.4\", \"failureMessage\": \"\", \"exceptionClass\": \"\", \"trace\": \"\"}}, \"*\")"
            ],
            "text/plain": [
              "<IPython.core.display.Javascript object>"
            ]
          },
          "metadata": {
            "tags": []
          }
        },
        {
          "output_type": "display_data",
          "data": {
            "text/markdown": "<span style=\"color:#33cc33\">Correct</span>",
            "text/plain": [
              "Correct"
            ]
          },
          "metadata": {
            "tags": []
          }
        }
      ]
    },
    {
      "cell_type": "code",
      "metadata": {
        "execution": {
          "iopub.execute_input": "2021-08-14T14:45:06.679681Z",
          "iopub.status.busy": "2021-08-14T14:45:06.678749Z",
          "iopub.status.idle": "2021-08-14T14:45:06.682168Z",
          "shell.execute_reply": "2021-08-14T14:45:06.681561Z",
          "shell.execute_reply.started": "2021-08-14T14:44:31.461959Z"
        },
        "papermill": {
          "duration": 0.046434,
          "end_time": "2021-08-14T14:45:06.682318",
          "exception": false,
          "start_time": "2021-08-14T14:45:06.635884",
          "status": "completed"
        },
        "tags": [],
        "id": "77346e71"
      },
      "source": [
        "# Lines below will give you a hint or solution code\n",
        "#step_4.hint()\n",
        "#step_4.solution()"
      ],
      "id": "77346e71",
      "execution_count": null,
      "outputs": []
    },
    {
      "cell_type": "markdown",
      "metadata": {
        "papermill": {
          "duration": 0.039516,
          "end_time": "2021-08-14T14:45:06.762040",
          "exception": false,
          "start_time": "2021-08-14T14:45:06.722524",
          "status": "completed"
        },
        "tags": [],
        "id": "54ee0839"
      },
      "source": [
        "Run the next code cell to get the MAE for this approach."
      ],
      "id": "54ee0839"
    },
    {
      "cell_type": "code",
      "metadata": {
        "execution": {
          "iopub.execute_input": "2021-08-14T14:45:06.848957Z",
          "iopub.status.busy": "2021-08-14T14:45:06.847979Z",
          "iopub.status.idle": "2021-08-14T14:45:08.823465Z",
          "shell.execute_reply": "2021-08-14T14:45:08.822947Z",
          "shell.execute_reply.started": "2021-08-14T14:44:33.934206Z"
        },
        "papermill": {
          "duration": 2.022627,
          "end_time": "2021-08-14T14:45:08.823615",
          "exception": false,
          "start_time": "2021-08-14T14:45:06.800988",
          "status": "completed"
        },
        "tags": [],
        "id": "8c07e049",
        "outputId": "f6f2f653-be93-4780-a627-d27f877b15f7"
      },
      "source": [
        "print(\"MAE from Approach 3 (One-Hot Encoding):\") \n",
        "print(score_dataset(OH_X_train, OH_X_valid, y_train, y_valid))"
      ],
      "id": "8c07e049",
      "execution_count": null,
      "outputs": [
        {
          "output_type": "stream",
          "text": [
            "MAE from Approach 3 (One-Hot Encoding):\n",
            "17525.345719178084\n"
          ],
          "name": "stdout"
        }
      ]
    },
    {
      "cell_type": "markdown",
      "metadata": {
        "papermill": {
          "duration": 0.039519,
          "end_time": "2021-08-14T14:45:08.904499",
          "exception": false,
          "start_time": "2021-08-14T14:45:08.864980",
          "status": "completed"
        },
        "tags": [],
        "id": "40a07c47"
      },
      "source": [
        "# Generate test predictions and submit your results\n",
        "\n",
        "After you complete Step 4, if you'd like to use what you've learned to submit your results to the leaderboard, you'll need to preprocess the test data before generating predictions.\n",
        "\n",
        "**This step is completely optional, and you do not need to submit results to the leaderboard to successfully complete the exercise.**\n",
        "\n",
        "Check out the previous exercise if you need help with remembering how to [join the competition](https://www.kaggle.com/c/home-data-for-ml-course) or save your results to CSV.  Once you have generated a file with your results, follow the instructions below:\n",
        "1. Begin by clicking on the **Save Version** button in the top right corner of the window.  This will generate a pop-up window.  \n",
        "2. Ensure that the **Save and Run All** option is selected, and then click on the **Save** button.\n",
        "3. This generates a window in the bottom left corner of the notebook.  After it has finished running, click on the number to the right of the **Save Version** button.  This pulls up a list of versions on the right of the screen.  Click on the ellipsis **(...)** to the right of the most recent version, and select **Open in Viewer**.  This brings you into view mode of the same page. You will need to scroll down to get back to these instructions.\n",
        "4. Click on the **Output** tab on the right of the screen.  Then, click on the file you would like to submit, and click on the blue **Submit** button to submit your results to the leaderboard.\n",
        "\n",
        "You have now successfully submitted to the competition!\n",
        "\n",
        "If you want to keep working to improve your performance, select the **Edit** button in the top right of the screen. Then you can change your code and repeat the process. There's a lot of room to improve, and you will climb up the leaderboard as you work.\n"
      ],
      "id": "40a07c47"
    },
    {
      "cell_type": "code",
      "metadata": {
        "execution": {
          "iopub.execute_input": "2021-08-14T14:45:08.988395Z",
          "iopub.status.busy": "2021-08-14T14:45:08.987734Z",
          "iopub.status.idle": "2021-08-14T14:45:08.990401Z",
          "shell.execute_reply": "2021-08-14T14:45:08.990867Z"
        },
        "papermill": {
          "duration": 0.046561,
          "end_time": "2021-08-14T14:45:08.991024",
          "exception": false,
          "start_time": "2021-08-14T14:45:08.944463",
          "status": "completed"
        },
        "tags": [],
        "id": "4176b2a8"
      },
      "source": [
        "# (Optional) Your code here"
      ],
      "id": "4176b2a8",
      "execution_count": null,
      "outputs": []
    },
    {
      "cell_type": "markdown",
      "metadata": {
        "papermill": {
          "duration": 0.03996,
          "end_time": "2021-08-14T14:45:09.070839",
          "exception": false,
          "start_time": "2021-08-14T14:45:09.030879",
          "status": "completed"
        },
        "tags": [],
        "id": "0ba7e147"
      },
      "source": [
        "# Keep going\n",
        "\n",
        "With missing value handling and categorical encoding, your modeling process is getting complex. This complexity gets worse when you want to save your model to use in the future. The key to managing this complexity is something called **pipelines**. \n",
        "\n",
        "**[Learn to use pipelines](https://www.kaggle.com/alexisbcook/pipelines)** to preprocess datasets with categorical variables, missing values and any other messiness your data throws at you."
      ],
      "id": "0ba7e147"
    },
    {
      "cell_type": "markdown",
      "metadata": {
        "papermill": {
          "duration": 0.039563,
          "end_time": "2021-08-14T14:45:09.150271",
          "exception": false,
          "start_time": "2021-08-14T14:45:09.110708",
          "status": "completed"
        },
        "tags": [],
        "id": "1cb6a406"
      },
      "source": [
        "---\n",
        "\n",
        "\n",
        "\n",
        "\n",
        "*Have questions or comments? Visit the [Learn Discussion forum](https://www.kaggle.com/learn-forum/161289) to chat with other Learners.*"
      ],
      "id": "1cb6a406"
    }
  ]
}