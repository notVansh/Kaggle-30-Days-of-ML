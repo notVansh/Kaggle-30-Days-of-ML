{
  "nbformat": 4,
  "nbformat_minor": 5,
  "metadata": {
    "kernelspec": {
      "display_name": "Python 3",
      "language": "python",
      "name": "python3"
    },
    "language_info": {
      "codemirror_mode": {
        "name": "ipython",
        "version": 3
      },
      "file_extension": ".py",
      "mimetype": "text/x-python",
      "name": "python",
      "nbconvert_exporter": "python",
      "pygments_lexer": "ipython3",
      "version": "3.7.10"
    },
    "papermill": {
      "default_parameters": {},
      "duration": 15.716709,
      "end_time": "2021-08-15T15:03:31.085796",
      "environment_variables": {},
      "exception": null,
      "input_path": "__notebook__.ipynb",
      "output_path": "__notebook__.ipynb",
      "parameters": {},
      "start_time": "2021-08-15T15:03:15.369087",
      "version": "2.3.3"
    },
    "colab": {
      "name": "exercise-pipelines.ipynb",
      "provenance": [],
      "include_colab_link": true
    }
  },
  "cells": [
    {
      "cell_type": "markdown",
      "metadata": {
        "id": "view-in-github",
        "colab_type": "text"
      },
      "source": [
        "<a href=\"https://colab.research.google.com/github/notVansh/Kaggle-30-Days-of-ML/blob/main/Day%2013/exercise_pipelines.ipynb\" target=\"_parent\"><img src=\"https://colab.research.google.com/assets/colab-badge.svg\" alt=\"Open In Colab\"/></a>"
      ]
    },
    {
      "cell_type": "markdown",
      "metadata": {
        "papermill": {
          "duration": 0.012199,
          "end_time": "2021-08-15T15:03:22.293991",
          "exception": false,
          "start_time": "2021-08-15T15:03:22.281792",
          "status": "completed"
        },
        "tags": [],
        "id": "a2b48ee0"
      },
      "source": [
        "**This notebook is an exercise in the [Intermediate Machine Learning](https://www.kaggle.com/learn/intermediate-machine-learning) course.  You can reference the tutorial at [this link](https://www.kaggle.com/alexisbcook/pipelines).**\n",
        "\n",
        "---\n"
      ],
      "id": "a2b48ee0"
    },
    {
      "cell_type": "markdown",
      "metadata": {
        "papermill": {
          "duration": 0.010721,
          "end_time": "2021-08-15T15:03:22.316088",
          "exception": false,
          "start_time": "2021-08-15T15:03:22.305367",
          "status": "completed"
        },
        "tags": [],
        "id": "c82c5c4f"
      },
      "source": [
        "In this exercise, you will use **pipelines** to improve the efficiency of your machine learning code.\n",
        "\n",
        "# Setup\n",
        "\n",
        "The questions below will give you feedback on your work. Run the following cell to set up the feedback system."
      ],
      "id": "c82c5c4f"
    },
    {
      "cell_type": "code",
      "metadata": {
        "execution": {
          "iopub.execute_input": "2021-08-15T15:03:22.347413Z",
          "iopub.status.busy": "2021-08-15T15:03:22.346820Z",
          "iopub.status.idle": "2021-08-15T15:03:23.342182Z",
          "shell.execute_reply": "2021-08-15T15:03:23.343181Z",
          "shell.execute_reply.started": "2021-08-15T15:00:05.849071Z"
        },
        "papermill": {
          "duration": 1.016686,
          "end_time": "2021-08-15T15:03:23.343547",
          "exception": false,
          "start_time": "2021-08-15T15:03:22.326861",
          "status": "completed"
        },
        "tags": [],
        "id": "5f2ed602",
        "outputId": "7fe819d6-fcec-476d-f812-1f3e84f725f4"
      },
      "source": [
        "# Set up code checking\n",
        "import os\n",
        "if not os.path.exists(\"../input/train.csv\"):\n",
        "    os.symlink(\"../input/home-data-for-ml-course/train.csv\", \"../input/train.csv\")  \n",
        "    os.symlink(\"../input/home-data-for-ml-course/test.csv\", \"../input/test.csv\") \n",
        "from learntools.core import binder\n",
        "binder.bind(globals())\n",
        "from learntools.ml_intermediate.ex4 import *\n",
        "print(\"Setup Complete\")"
      ],
      "id": "5f2ed602",
      "execution_count": null,
      "outputs": [
        {
          "output_type": "stream",
          "text": [
            "Setup Complete\n"
          ],
          "name": "stdout"
        }
      ]
    },
    {
      "cell_type": "markdown",
      "metadata": {
        "papermill": {
          "duration": 0.010988,
          "end_time": "2021-08-15T15:03:23.367778",
          "exception": false,
          "start_time": "2021-08-15T15:03:23.356790",
          "status": "completed"
        },
        "tags": [],
        "id": "36c88e38"
      },
      "source": [
        "You will work with data from the [Housing Prices Competition for Kaggle Learn Users](https://www.kaggle.com/c/home-data-for-ml-course). \n",
        "\n",
        "![Ames Housing dataset image](https://i.imgur.com/lTJVG4e.png)\n",
        "\n",
        "Run the next code cell without changes to load the training and validation sets in `X_train`, `X_valid`, `y_train`, and `y_valid`.  The test set is loaded in `X_test`."
      ],
      "id": "36c88e38"
    },
    {
      "cell_type": "code",
      "metadata": {
        "execution": {
          "iopub.execute_input": "2021-08-15T15:03:23.393292Z",
          "iopub.status.busy": "2021-08-15T15:03:23.392672Z",
          "iopub.status.idle": "2021-08-15T15:03:23.626143Z",
          "shell.execute_reply": "2021-08-15T15:03:23.625435Z",
          "shell.execute_reply.started": "2021-08-15T15:01:12.217568Z"
        },
        "papermill": {
          "duration": 0.247252,
          "end_time": "2021-08-15T15:03:23.626362",
          "exception": false,
          "start_time": "2021-08-15T15:03:23.379110",
          "status": "completed"
        },
        "tags": [],
        "id": "218f594d"
      },
      "source": [
        "import pandas as pd\n",
        "from sklearn.model_selection import train_test_split\n",
        "\n",
        "# Read the data\n",
        "X_full = pd.read_csv('../input/train.csv', index_col='Id')\n",
        "X_test_full = pd.read_csv('../input/test.csv', index_col='Id')\n",
        "\n",
        "# Remove rows with missing target, separate target from predictors\n",
        "X_full.dropna(axis=0, subset=['SalePrice'], inplace=True)\n",
        "y = X_full.SalePrice\n",
        "X_full.drop(['SalePrice'], axis=1, inplace=True)\n",
        "\n",
        "# Break off validation set from training data\n",
        "X_train_full, X_valid_full, y_train, y_valid = train_test_split(X_full, y, \n",
        "                                                                train_size=0.8, test_size=0.2,\n",
        "                                                                random_state=0)\n",
        "\n",
        "# \"Cardinality\" means the number of unique values in a column\n",
        "# Select categorical columns with relatively low cardinality (convenient but arbitrary)\n",
        "categorical_cols = [cname for cname in X_train_full.columns if\n",
        "                    X_train_full[cname].nunique() < 10 and \n",
        "                    X_train_full[cname].dtype == \"object\"]\n",
        "\n",
        "# Select numerical columns\n",
        "numerical_cols = [cname for cname in X_train_full.columns if \n",
        "                X_train_full[cname].dtype in ['int64', 'float64']]\n",
        "\n",
        "# Keep selected columns only\n",
        "my_cols = categorical_cols + numerical_cols\n",
        "X_train = X_train_full[my_cols].copy()\n",
        "X_valid = X_valid_full[my_cols].copy()\n",
        "X_test = X_test_full[my_cols].copy()"
      ],
      "id": "218f594d",
      "execution_count": null,
      "outputs": []
    },
    {
      "cell_type": "code",
      "metadata": {
        "execution": {
          "iopub.execute_input": "2021-08-15T15:03:23.666540Z",
          "iopub.status.busy": "2021-08-15T15:03:23.665867Z",
          "iopub.status.idle": "2021-08-15T15:03:23.689184Z",
          "shell.execute_reply": "2021-08-15T15:03:23.689703Z",
          "shell.execute_reply.started": "2021-08-15T15:01:15.422554Z"
        },
        "papermill": {
          "duration": 0.045917,
          "end_time": "2021-08-15T15:03:23.689898",
          "exception": false,
          "start_time": "2021-08-15T15:03:23.643981",
          "status": "completed"
        },
        "tags": [],
        "id": "f8ba6a6e",
        "outputId": "e571b41f-5a6b-4a07-bf1d-4b831fa13d6c"
      },
      "source": [
        "X_train.head()"
      ],
      "id": "f8ba6a6e",
      "execution_count": null,
      "outputs": [
        {
          "output_type": "execute_result",
          "data": {
            "text/html": [
              "<div>\n",
              "<style scoped>\n",
              "    .dataframe tbody tr th:only-of-type {\n",
              "        vertical-align: middle;\n",
              "    }\n",
              "\n",
              "    .dataframe tbody tr th {\n",
              "        vertical-align: top;\n",
              "    }\n",
              "\n",
              "    .dataframe thead th {\n",
              "        text-align: right;\n",
              "    }\n",
              "</style>\n",
              "<table border=\"1\" class=\"dataframe\">\n",
              "  <thead>\n",
              "    <tr style=\"text-align: right;\">\n",
              "      <th></th>\n",
              "      <th>MSZoning</th>\n",
              "      <th>Street</th>\n",
              "      <th>Alley</th>\n",
              "      <th>LotShape</th>\n",
              "      <th>LandContour</th>\n",
              "      <th>Utilities</th>\n",
              "      <th>LotConfig</th>\n",
              "      <th>LandSlope</th>\n",
              "      <th>Condition1</th>\n",
              "      <th>Condition2</th>\n",
              "      <th>...</th>\n",
              "      <th>GarageArea</th>\n",
              "      <th>WoodDeckSF</th>\n",
              "      <th>OpenPorchSF</th>\n",
              "      <th>EnclosedPorch</th>\n",
              "      <th>3SsnPorch</th>\n",
              "      <th>ScreenPorch</th>\n",
              "      <th>PoolArea</th>\n",
              "      <th>MiscVal</th>\n",
              "      <th>MoSold</th>\n",
              "      <th>YrSold</th>\n",
              "    </tr>\n",
              "    <tr>\n",
              "      <th>Id</th>\n",
              "      <th></th>\n",
              "      <th></th>\n",
              "      <th></th>\n",
              "      <th></th>\n",
              "      <th></th>\n",
              "      <th></th>\n",
              "      <th></th>\n",
              "      <th></th>\n",
              "      <th></th>\n",
              "      <th></th>\n",
              "      <th></th>\n",
              "      <th></th>\n",
              "      <th></th>\n",
              "      <th></th>\n",
              "      <th></th>\n",
              "      <th></th>\n",
              "      <th></th>\n",
              "      <th></th>\n",
              "      <th></th>\n",
              "      <th></th>\n",
              "      <th></th>\n",
              "    </tr>\n",
              "  </thead>\n",
              "  <tbody>\n",
              "    <tr>\n",
              "      <th>619</th>\n",
              "      <td>RL</td>\n",
              "      <td>Pave</td>\n",
              "      <td>NaN</td>\n",
              "      <td>Reg</td>\n",
              "      <td>Lvl</td>\n",
              "      <td>AllPub</td>\n",
              "      <td>Inside</td>\n",
              "      <td>Gtl</td>\n",
              "      <td>Norm</td>\n",
              "      <td>Norm</td>\n",
              "      <td>...</td>\n",
              "      <td>774</td>\n",
              "      <td>0</td>\n",
              "      <td>108</td>\n",
              "      <td>0</td>\n",
              "      <td>0</td>\n",
              "      <td>260</td>\n",
              "      <td>0</td>\n",
              "      <td>0</td>\n",
              "      <td>7</td>\n",
              "      <td>2007</td>\n",
              "    </tr>\n",
              "    <tr>\n",
              "      <th>871</th>\n",
              "      <td>RL</td>\n",
              "      <td>Pave</td>\n",
              "      <td>NaN</td>\n",
              "      <td>Reg</td>\n",
              "      <td>Lvl</td>\n",
              "      <td>AllPub</td>\n",
              "      <td>Inside</td>\n",
              "      <td>Gtl</td>\n",
              "      <td>PosN</td>\n",
              "      <td>Norm</td>\n",
              "      <td>...</td>\n",
              "      <td>308</td>\n",
              "      <td>0</td>\n",
              "      <td>0</td>\n",
              "      <td>0</td>\n",
              "      <td>0</td>\n",
              "      <td>0</td>\n",
              "      <td>0</td>\n",
              "      <td>0</td>\n",
              "      <td>8</td>\n",
              "      <td>2009</td>\n",
              "    </tr>\n",
              "    <tr>\n",
              "      <th>93</th>\n",
              "      <td>RL</td>\n",
              "      <td>Pave</td>\n",
              "      <td>Grvl</td>\n",
              "      <td>IR1</td>\n",
              "      <td>HLS</td>\n",
              "      <td>AllPub</td>\n",
              "      <td>Inside</td>\n",
              "      <td>Gtl</td>\n",
              "      <td>Norm</td>\n",
              "      <td>Norm</td>\n",
              "      <td>...</td>\n",
              "      <td>432</td>\n",
              "      <td>0</td>\n",
              "      <td>0</td>\n",
              "      <td>44</td>\n",
              "      <td>0</td>\n",
              "      <td>0</td>\n",
              "      <td>0</td>\n",
              "      <td>0</td>\n",
              "      <td>8</td>\n",
              "      <td>2009</td>\n",
              "    </tr>\n",
              "    <tr>\n",
              "      <th>818</th>\n",
              "      <td>RL</td>\n",
              "      <td>Pave</td>\n",
              "      <td>NaN</td>\n",
              "      <td>IR1</td>\n",
              "      <td>Lvl</td>\n",
              "      <td>AllPub</td>\n",
              "      <td>CulDSac</td>\n",
              "      <td>Gtl</td>\n",
              "      <td>Norm</td>\n",
              "      <td>Norm</td>\n",
              "      <td>...</td>\n",
              "      <td>857</td>\n",
              "      <td>150</td>\n",
              "      <td>59</td>\n",
              "      <td>0</td>\n",
              "      <td>0</td>\n",
              "      <td>0</td>\n",
              "      <td>0</td>\n",
              "      <td>0</td>\n",
              "      <td>7</td>\n",
              "      <td>2008</td>\n",
              "    </tr>\n",
              "    <tr>\n",
              "      <th>303</th>\n",
              "      <td>RL</td>\n",
              "      <td>Pave</td>\n",
              "      <td>NaN</td>\n",
              "      <td>IR1</td>\n",
              "      <td>Lvl</td>\n",
              "      <td>AllPub</td>\n",
              "      <td>Corner</td>\n",
              "      <td>Gtl</td>\n",
              "      <td>Norm</td>\n",
              "      <td>Norm</td>\n",
              "      <td>...</td>\n",
              "      <td>843</td>\n",
              "      <td>468</td>\n",
              "      <td>81</td>\n",
              "      <td>0</td>\n",
              "      <td>0</td>\n",
              "      <td>0</td>\n",
              "      <td>0</td>\n",
              "      <td>0</td>\n",
              "      <td>1</td>\n",
              "      <td>2006</td>\n",
              "    </tr>\n",
              "  </tbody>\n",
              "</table>\n",
              "<p>5 rows × 76 columns</p>\n",
              "</div>"
            ],
            "text/plain": [
              "    MSZoning Street Alley LotShape LandContour Utilities LotConfig LandSlope  \\\n",
              "Id                                                                             \n",
              "619       RL   Pave   NaN      Reg         Lvl    AllPub    Inside       Gtl   \n",
              "871       RL   Pave   NaN      Reg         Lvl    AllPub    Inside       Gtl   \n",
              "93        RL   Pave  Grvl      IR1         HLS    AllPub    Inside       Gtl   \n",
              "818       RL   Pave   NaN      IR1         Lvl    AllPub   CulDSac       Gtl   \n",
              "303       RL   Pave   NaN      IR1         Lvl    AllPub    Corner       Gtl   \n",
              "\n",
              "    Condition1 Condition2  ... GarageArea WoodDeckSF OpenPorchSF  \\\n",
              "Id                         ...                                     \n",
              "619       Norm       Norm  ...        774          0         108   \n",
              "871       PosN       Norm  ...        308          0           0   \n",
              "93        Norm       Norm  ...        432          0           0   \n",
              "818       Norm       Norm  ...        857        150          59   \n",
              "303       Norm       Norm  ...        843        468          81   \n",
              "\n",
              "    EnclosedPorch 3SsnPorch ScreenPorch PoolArea MiscVal MoSold YrSold  \n",
              "Id                                                                      \n",
              "619             0         0         260        0       0      7   2007  \n",
              "871             0         0           0        0       0      8   2009  \n",
              "93             44         0           0        0       0      8   2009  \n",
              "818             0         0           0        0       0      7   2008  \n",
              "303             0         0           0        0       0      1   2006  \n",
              "\n",
              "[5 rows x 76 columns]"
            ]
          },
          "metadata": {
            "tags": []
          },
          "execution_count": 3
        }
      ]
    },
    {
      "cell_type": "markdown",
      "metadata": {
        "papermill": {
          "duration": 0.01197,
          "end_time": "2021-08-15T15:03:23.714030",
          "exception": false,
          "start_time": "2021-08-15T15:03:23.702060",
          "status": "completed"
        },
        "tags": [],
        "id": "a06e4855"
      },
      "source": [
        "The next code cell uses code from the tutorial to preprocess the data and train a model.  Run this code without changes."
      ],
      "id": "a06e4855"
    },
    {
      "cell_type": "code",
      "metadata": {
        "execution": {
          "iopub.execute_input": "2021-08-15T15:03:23.744591Z",
          "iopub.status.busy": "2021-08-15T15:03:23.743958Z",
          "iopub.status.idle": "2021-08-15T15:03:26.579852Z",
          "shell.execute_reply": "2021-08-15T15:03:26.580310Z",
          "shell.execute_reply.started": "2021-08-15T15:01:19.726357Z"
        },
        "papermill": {
          "duration": 2.854667,
          "end_time": "2021-08-15T15:03:26.580472",
          "exception": false,
          "start_time": "2021-08-15T15:03:23.725805",
          "status": "completed"
        },
        "tags": [],
        "id": "45f16444",
        "outputId": "47f0c02b-c340-4d54-95a6-668c81b7b186"
      },
      "source": [
        "from sklearn.compose import ColumnTransformer\n",
        "from sklearn.pipeline import Pipeline\n",
        "from sklearn.impute import SimpleImputer\n",
        "from sklearn.preprocessing import OneHotEncoder\n",
        "from sklearn.ensemble import RandomForestRegressor\n",
        "from sklearn.metrics import mean_absolute_error\n",
        "\n",
        "# Preprocessing for numerical data\n",
        "numerical_transformer = SimpleImputer(strategy='constant')\n",
        "\n",
        "# Preprocessing for categorical data\n",
        "categorical_transformer = Pipeline(steps=[\n",
        "    ('imputer', SimpleImputer(strategy='most_frequent')),\n",
        "    ('onehot', OneHotEncoder(handle_unknown='ignore'))\n",
        "])\n",
        "\n",
        "# Bundle preprocessing for numerical and categorical data\n",
        "preprocessor = ColumnTransformer(\n",
        "    transformers=[\n",
        "        ('num', numerical_transformer, numerical_cols),\n",
        "        ('cat', categorical_transformer, categorical_cols)\n",
        "    ])\n",
        "\n",
        "# Define model\n",
        "model = RandomForestRegressor(n_estimators=100, random_state=0)\n",
        "\n",
        "# Bundle preprocessing and modeling code in a pipeline\n",
        "clf = Pipeline(steps=[('preprocessor', preprocessor),\n",
        "                      ('model', model)\n",
        "                     ])\n",
        "\n",
        "# Preprocessing of training data, fit model \n",
        "clf.fit(X_train, y_train)\n",
        "\n",
        "# Preprocessing of validation data, get predictions\n",
        "preds = clf.predict(X_valid)\n",
        "\n",
        "print('MAE:', mean_absolute_error(y_valid, preds))"
      ],
      "id": "45f16444",
      "execution_count": null,
      "outputs": [
        {
          "output_type": "stream",
          "text": [
            "MAE: 17861.780102739725\n"
          ],
          "name": "stdout"
        }
      ]
    },
    {
      "cell_type": "markdown",
      "metadata": {
        "papermill": {
          "duration": 0.01164,
          "end_time": "2021-08-15T15:03:26.604226",
          "exception": false,
          "start_time": "2021-08-15T15:03:26.592586",
          "status": "completed"
        },
        "tags": [],
        "id": "ebbed977"
      },
      "source": [
        "The code yields a value around 17862 for the mean absolute error (MAE).  In the next step, you will amend the code to do better.\n",
        "\n",
        "# Step 1: Improve the performance\n",
        "\n",
        "### Part A\n",
        "\n",
        "Now, it's your turn!  In the code cell below, define your own preprocessing steps and random forest model.  Fill in values for the following variables:\n",
        "- `numerical_transformer`\n",
        "- `categorical_transformer`\n",
        "- `model`\n",
        "\n",
        "To pass this part of the exercise, you need only define valid preprocessing steps and a random forest model."
      ],
      "id": "ebbed977"
    },
    {
      "cell_type": "code",
      "metadata": {
        "execution": {
          "iopub.execute_input": "2021-08-15T15:03:26.634709Z",
          "iopub.status.busy": "2021-08-15T15:03:26.634138Z",
          "iopub.status.idle": "2021-08-15T15:03:26.639603Z",
          "shell.execute_reply": "2021-08-15T15:03:26.639148Z",
          "shell.execute_reply.started": "2021-08-15T15:02:28.810534Z"
        },
        "papermill": {
          "duration": 0.023582,
          "end_time": "2021-08-15T15:03:26.639749",
          "exception": false,
          "start_time": "2021-08-15T15:03:26.616167",
          "status": "completed"
        },
        "tags": [],
        "id": "a8e5d604",
        "outputId": "800d227e-de56-4d29-c449-ea29a52b13fa"
      },
      "source": [
        "# Preprocessing for numerical data\n",
        "numerical_transformer = SimpleImputer(strategy='constant') # Your code here\n",
        "\n",
        "# Preprocessing for categorical data\n",
        "categorical_transformer = Pipeline(steps=[\n",
        "    ('imputer', SimpleImputer(strategy='constant')),\n",
        "    ('onehot', OneHotEncoder(handle_unknown='ignore'))\n",
        "]) # Your code here\n",
        "\n",
        "# Bundle preprocessing for numerical and categorical data\n",
        "preprocessor = ColumnTransformer(\n",
        "    transformers=[\n",
        "        ('num', numerical_transformer, numerical_cols),\n",
        "        ('cat', categorical_transformer, categorical_cols)\n",
        "    ])\n",
        "\n",
        "# Define model\n",
        "model = RandomForestRegressor(n_estimators=100, random_state=0) # Your code here\n",
        "\n",
        "# Check your answer\n",
        "step_1.a.check()"
      ],
      "id": "a8e5d604",
      "execution_count": null,
      "outputs": [
        {
          "output_type": "display_data",
          "data": {
            "application/javascript": [
              "parent.postMessage({\"jupyterEvent\": \"custom.exercise_interaction\", \"data\": {\"outcomeType\": 1, \"valueTowardsCompletion\": 1.0, \"interactionType\": 1, \"questionType\": 2, \"questionId\": \"1.1_YourTurnModel\", \"learnToolsVersion\": \"0.3.4\", \"failureMessage\": \"\", \"exceptionClass\": \"\", \"trace\": \"\"}}, \"*\")"
            ],
            "text/plain": [
              "<IPython.core.display.Javascript object>"
            ]
          },
          "metadata": {
            "tags": []
          }
        },
        {
          "output_type": "display_data",
          "data": {
            "text/markdown": "<span style=\"color:#33cc33\">Correct</span>",
            "text/plain": [
              "Correct"
            ]
          },
          "metadata": {
            "tags": []
          }
        }
      ]
    },
    {
      "cell_type": "code",
      "metadata": {
        "execution": {
          "iopub.execute_input": "2021-08-15T15:03:26.669968Z",
          "iopub.status.busy": "2021-08-15T15:03:26.669404Z",
          "iopub.status.idle": "2021-08-15T15:03:26.671121Z",
          "shell.execute_reply": "2021-08-15T15:03:26.671617Z",
          "shell.execute_reply.started": "2021-08-15T15:02:27.022478Z"
        },
        "papermill": {
          "duration": 0.018628,
          "end_time": "2021-08-15T15:03:26.671770",
          "exception": false,
          "start_time": "2021-08-15T15:03:26.653142",
          "status": "completed"
        },
        "tags": [],
        "id": "4d00f934"
      },
      "source": [
        "# Lines below will give you a hint or solution code\n",
        "#step_1.a.hint()\n",
        "#step_1.a.solution()"
      ],
      "id": "4d00f934",
      "execution_count": null,
      "outputs": []
    },
    {
      "cell_type": "markdown",
      "metadata": {
        "papermill": {
          "duration": 0.012481,
          "end_time": "2021-08-15T15:03:26.697085",
          "exception": false,
          "start_time": "2021-08-15T15:03:26.684604",
          "status": "completed"
        },
        "tags": [],
        "id": "a2eef176"
      },
      "source": [
        "### Part B\n",
        "\n",
        "Run the code cell below without changes.\n",
        "\n",
        "To pass this step, you need to have defined a pipeline in **Part A** that achieves lower MAE than the code above.  You're encouraged to take your time here and try out many different approaches, to see how low you can get the MAE!  (_If your code does not pass, please amend the preprocessing steps and model in Part A._)"
      ],
      "id": "a2eef176"
    },
    {
      "cell_type": "code",
      "metadata": {
        "execution": {
          "iopub.execute_input": "2021-08-15T15:03:26.725291Z",
          "iopub.status.busy": "2021-08-15T15:03:26.724739Z",
          "iopub.status.idle": "2021-08-15T15:03:29.389268Z",
          "shell.execute_reply": "2021-08-15T15:03:29.388673Z",
          "shell.execute_reply.started": "2021-08-15T15:02:33.870789Z"
        },
        "papermill": {
          "duration": 2.6796,
          "end_time": "2021-08-15T15:03:29.389403",
          "exception": false,
          "start_time": "2021-08-15T15:03:26.709803",
          "status": "completed"
        },
        "tags": [],
        "id": "ae7ab93c",
        "outputId": "22719b57-5566-454d-cea4-05edb52dde71"
      },
      "source": [
        "# Bundle preprocessing and modeling code in a pipeline\n",
        "my_pipeline = Pipeline(steps=[('preprocessor', preprocessor),\n",
        "                              ('model', model)\n",
        "                             ])\n",
        "\n",
        "# Preprocessing of training data, fit model \n",
        "my_pipeline.fit(X_train, y_train)\n",
        "\n",
        "# Preprocessing of validation data, get predictions\n",
        "preds = my_pipeline.predict(X_valid)\n",
        "\n",
        "# Evaluate the model\n",
        "score = mean_absolute_error(y_valid, preds)\n",
        "print('MAE:', score)\n",
        "\n",
        "# Check your answer\n",
        "step_1.b.check()"
      ],
      "id": "ae7ab93c",
      "execution_count": null,
      "outputs": [
        {
          "output_type": "stream",
          "text": [
            "MAE: 17621.3197260274\n"
          ],
          "name": "stdout"
        },
        {
          "output_type": "display_data",
          "data": {
            "application/javascript": [
              "parent.postMessage({\"jupyterEvent\": \"custom.exercise_interaction\", \"data\": {\"outcomeType\": 1, \"valueTowardsCompletion\": 1.0, \"interactionType\": 1, \"questionType\": 2, \"questionId\": \"1.2_YourTurnPredict\", \"learnToolsVersion\": \"0.3.4\", \"failureMessage\": \"\", \"exceptionClass\": \"\", \"trace\": \"\"}}, \"*\")"
            ],
            "text/plain": [
              "<IPython.core.display.Javascript object>"
            ]
          },
          "metadata": {
            "tags": []
          }
        },
        {
          "output_type": "display_data",
          "data": {
            "text/markdown": "<span style=\"color:#33cc33\">Correct</span>",
            "text/plain": [
              "Correct"
            ]
          },
          "metadata": {
            "tags": []
          }
        }
      ]
    },
    {
      "cell_type": "code",
      "metadata": {
        "execution": {
          "iopub.execute_input": "2021-08-15T15:03:29.422296Z",
          "iopub.status.busy": "2021-08-15T15:03:29.421429Z",
          "iopub.status.idle": "2021-08-15T15:03:29.424242Z",
          "shell.execute_reply": "2021-08-15T15:03:29.423781Z"
        },
        "papermill": {
          "duration": 0.020363,
          "end_time": "2021-08-15T15:03:29.424368",
          "exception": false,
          "start_time": "2021-08-15T15:03:29.404005",
          "status": "completed"
        },
        "tags": [],
        "id": "88c87b0b"
      },
      "source": [
        "# Line below will give you a hint\n",
        "#step_1.b.hint()"
      ],
      "id": "88c87b0b",
      "execution_count": null,
      "outputs": []
    },
    {
      "cell_type": "markdown",
      "metadata": {
        "papermill": {
          "duration": 0.013544,
          "end_time": "2021-08-15T15:03:29.451932",
          "exception": false,
          "start_time": "2021-08-15T15:03:29.438388",
          "status": "completed"
        },
        "tags": [],
        "id": "37aaaf1d"
      },
      "source": [
        "# Step 2: Generate test predictions\n",
        "\n",
        "Now, you'll use your trained model to generate predictions with the test data."
      ],
      "id": "37aaaf1d"
    },
    {
      "cell_type": "code",
      "metadata": {
        "execution": {
          "iopub.execute_input": "2021-08-15T15:03:29.487179Z",
          "iopub.status.busy": "2021-08-15T15:03:29.486564Z",
          "iopub.status.idle": "2021-08-15T15:03:29.547492Z",
          "shell.execute_reply": "2021-08-15T15:03:29.548012Z",
          "shell.execute_reply.started": "2021-08-15T15:02:55.272705Z"
        },
        "papermill": {
          "duration": 0.082524,
          "end_time": "2021-08-15T15:03:29.548211",
          "exception": false,
          "start_time": "2021-08-15T15:03:29.465687",
          "status": "completed"
        },
        "tags": [],
        "id": "c022123f",
        "outputId": "0ddf9af9-8a21-4d21-aa07-d005de682ee9"
      },
      "source": [
        "# Preprocessing of test data, fit model\n",
        "preds_test = my_pipeline.predict(X_test) # Your code here\n",
        "\n",
        "# Check your answer\n",
        "step_2.check()"
      ],
      "id": "c022123f",
      "execution_count": null,
      "outputs": [
        {
          "output_type": "display_data",
          "data": {
            "application/javascript": [
              "parent.postMessage({\"jupyterEvent\": \"custom.exercise_interaction\", \"data\": {\"outcomeType\": 1, \"valueTowardsCompletion\": 1.0, \"interactionType\": 1, \"questionType\": 2, \"questionId\": \"2_TestPreds\", \"learnToolsVersion\": \"0.3.4\", \"failureMessage\": \"\", \"exceptionClass\": \"\", \"trace\": \"\"}}, \"*\")"
            ],
            "text/plain": [
              "<IPython.core.display.Javascript object>"
            ]
          },
          "metadata": {
            "tags": []
          }
        },
        {
          "output_type": "display_data",
          "data": {
            "text/markdown": "<span style=\"color:#33cc33\">Correct</span>",
            "text/plain": [
              "Correct"
            ]
          },
          "metadata": {
            "tags": []
          }
        }
      ]
    },
    {
      "cell_type": "code",
      "metadata": {
        "execution": {
          "iopub.execute_input": "2021-08-15T15:03:29.580075Z",
          "iopub.status.busy": "2021-08-15T15:03:29.579519Z",
          "iopub.status.idle": "2021-08-15T15:03:29.583488Z",
          "shell.execute_reply": "2021-08-15T15:03:29.583053Z",
          "shell.execute_reply.started": "2021-08-15T15:02:51.649090Z"
        },
        "papermill": {
          "duration": 0.020957,
          "end_time": "2021-08-15T15:03:29.583612",
          "exception": false,
          "start_time": "2021-08-15T15:03:29.562655",
          "status": "completed"
        },
        "tags": [],
        "id": "4e3a5d5e"
      },
      "source": [
        "# Lines below will give you a hint or solution code\n",
        "#step_2.hint()\n",
        "#step_2.solution()"
      ],
      "id": "4e3a5d5e",
      "execution_count": null,
      "outputs": []
    },
    {
      "cell_type": "markdown",
      "metadata": {
        "papermill": {
          "duration": 0.014505,
          "end_time": "2021-08-15T15:03:29.612704",
          "exception": false,
          "start_time": "2021-08-15T15:03:29.598199",
          "status": "completed"
        },
        "tags": [],
        "id": "62fa6929"
      },
      "source": [
        "Run the next code cell without changes to save your results to a CSV file that can be submitted directly to the competition."
      ],
      "id": "62fa6929"
    },
    {
      "cell_type": "code",
      "metadata": {
        "execution": {
          "iopub.execute_input": "2021-08-15T15:03:29.647874Z",
          "iopub.status.busy": "2021-08-15T15:03:29.646985Z",
          "iopub.status.idle": "2021-08-15T15:03:29.655898Z",
          "shell.execute_reply": "2021-08-15T15:03:29.655343Z",
          "shell.execute_reply.started": "2021-08-15T15:03:00.483554Z"
        },
        "papermill": {
          "duration": 0.028537,
          "end_time": "2021-08-15T15:03:29.656048",
          "exception": false,
          "start_time": "2021-08-15T15:03:29.627511",
          "status": "completed"
        },
        "tags": [],
        "id": "58332498"
      },
      "source": [
        "# Save test predictions to file\n",
        "output = pd.DataFrame({'Id': X_test.index,\n",
        "                       'SalePrice': preds_test})\n",
        "output.to_csv('submission.csv', index=False)"
      ],
      "id": "58332498",
      "execution_count": null,
      "outputs": []
    },
    {
      "cell_type": "markdown",
      "metadata": {
        "papermill": {
          "duration": 0.014329,
          "end_time": "2021-08-15T15:03:29.685086",
          "exception": false,
          "start_time": "2021-08-15T15:03:29.670757",
          "status": "completed"
        },
        "tags": [],
        "id": "3ef71136"
      },
      "source": [
        "# Submit your results\n",
        "\n",
        "Once you have successfully completed Step 2, you're ready to submit your results to the leaderboard!  If you choose to do so, make sure that you have already joined the competition by clicking on the **Join Competition** button at [this link](https://www.kaggle.com/c/home-data-for-ml-course).  \n",
        "1. Begin by clicking on the blue **Save Version** button in the top right corner of the window.  This will generate a pop-up window.  \n",
        "2. Ensure that the **Save and Run All** option is selected, and then click on the blue **Save** button.\n",
        "3. This generates a window in the bottom left corner of the notebook.  After it has finished running, click on the number to the right of the **Save Version** button.  This pulls up a list of versions on the right of the screen.  Click on the ellipsis **(...)** to the right of the most recent version, and select **Open in Viewer**.  This brings you into view mode of the same page. You will need to scroll down to get back to these instructions.\n",
        "4. Click on the **Output** tab on the right of the screen.  Then, click on the file you would like to submit, and click on the blue **Submit** button to submit your results to the leaderboard.\n",
        "\n",
        "You have now successfully submitted to the competition!\n",
        "\n",
        "If you want to keep working to improve your performance, select the blue **Edit** button in the top right of the screen. Then you can change your code and repeat the process. There's a lot of room to improve, and you will climb up the leaderboard as you work.\n",
        "\n",
        "\n",
        "# Keep going\n",
        "\n",
        "Move on to learn about [**cross-validation**](https://www.kaggle.com/alexisbcook/cross-validation), a technique you can use to obtain more accurate estimates of model performance!"
      ],
      "id": "3ef71136"
    },
    {
      "cell_type": "markdown",
      "metadata": {
        "papermill": {
          "duration": 0.014405,
          "end_time": "2021-08-15T15:03:29.714154",
          "exception": false,
          "start_time": "2021-08-15T15:03:29.699749",
          "status": "completed"
        },
        "tags": [],
        "id": "9edefc06"
      },
      "source": [
        "---\n",
        "\n",
        "\n",
        "\n",
        "\n",
        "*Have questions or comments? Visit the [Learn Discussion forum](https://www.kaggle.com/learn-forum/161289) to chat with other Learners.*"
      ],
      "id": "9edefc06"
    }
  ]
}