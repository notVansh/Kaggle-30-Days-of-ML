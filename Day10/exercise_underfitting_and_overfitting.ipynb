{
  "nbformat": 4,
  "nbformat_minor": 5,
  "metadata": {
    "kernelspec": {
      "display_name": "Python 3",
      "language": "python",
      "name": "python3"
    },
    "language_info": {
      "codemirror_mode": {
        "name": "ipython",
        "version": 3
      },
      "file_extension": ".py",
      "mimetype": "text/x-python",
      "name": "python",
      "nbconvert_exporter": "python",
      "pygments_lexer": "ipython3",
      "version": "3.7.10"
    },
    "papermill": {
      "default_parameters": {},
      "duration": 10.658837,
      "end_time": "2021-08-12T13:36:09.311652",
      "environment_variables": {},
      "exception": null,
      "input_path": "__notebook__.ipynb",
      "output_path": "__notebook__.ipynb",
      "parameters": {},
      "start_time": "2021-08-12T13:35:58.652815",
      "version": "2.3.3"
    },
    "colab": {
      "name": "exercise-underfitting-and-overfitting.ipynb",
      "provenance": [],
      "include_colab_link": true
    }
  },
  "cells": [
    {
      "cell_type": "markdown",
      "metadata": {
        "id": "view-in-github",
        "colab_type": "text"
      },
      "source": [
        "<a href=\"https://colab.research.google.com/github/notVansh/Kaggle-30-Days-of-ML/blob/master/Day10/exercise_underfitting_and_overfitting.ipynb\" target=\"_parent\"><img src=\"https://colab.research.google.com/assets/colab-badge.svg\" alt=\"Open In Colab\"/></a>"
      ]
    },
    {
      "cell_type": "markdown",
      "metadata": {
        "papermill": {
          "duration": 0.009201,
          "end_time": "2021-08-12T13:36:06.895624",
          "exception": false,
          "start_time": "2021-08-12T13:36:06.886423",
          "status": "completed"
        },
        "tags": [],
        "id": "15f7ba31"
      },
      "source": [
        "## Recap\n",
        "You've built your first model, and now it's time to optimize the size of the tree to make better predictions. Run this cell to set up your coding environment where the previous step left off."
      ],
      "id": "15f7ba31"
    },
    {
      "cell_type": "code",
      "metadata": {
        "execution": {
          "iopub.execute_input": "2021-08-12T13:36:06.930378Z",
          "iopub.status.busy": "2021-08-12T13:36:06.929310Z",
          "iopub.status.idle": "2021-08-12T13:36:08.275253Z",
          "shell.execute_reply": "2021-08-12T13:36:08.273931Z",
          "shell.execute_reply.started": "2021-08-12T13:22:35.531182Z"
        },
        "papermill": {
          "duration": 1.370567,
          "end_time": "2021-08-12T13:36:08.275486",
          "exception": false,
          "start_time": "2021-08-12T13:36:06.904919",
          "status": "completed"
        },
        "tags": [],
        "id": "8f781a2c",
        "outputId": "45c532ab-5589-4c62-8603-bb0199aa5620"
      },
      "source": [
        "# Code you have previously used to load data\n",
        "import pandas as pd\n",
        "from sklearn.metrics import mean_absolute_error\n",
        "from sklearn.model_selection import train_test_split\n",
        "from sklearn.tree import DecisionTreeRegressor\n",
        "\n",
        "\n",
        "# Path of the file to read\n",
        "iowa_file_path = '../input/home-data-for-ml-course/train.csv'\n",
        "\n",
        "home_data = pd.read_csv(iowa_file_path)\n",
        "# Create target object and call it y\n",
        "y = home_data.SalePrice\n",
        "# Create X\n",
        "features = ['LotArea', 'YearBuilt', '1stFlrSF', '2ndFlrSF', 'FullBath', 'BedroomAbvGr', 'TotRmsAbvGrd']\n",
        "X = home_data[features]\n",
        "\n",
        "# Split into validation and training data\n",
        "train_X, val_X, train_y, val_y = train_test_split(X, y, random_state=1)\n",
        "\n",
        "# Specify Model\n",
        "iowa_model = DecisionTreeRegressor(random_state=1)\n",
        "# Fit Model\n",
        "iowa_model.fit(train_X, train_y)\n",
        "\n",
        "# Make validation predictions and calculate mean absolute error\n",
        "val_predictions = iowa_model.predict(val_X)\n",
        "val_mae = mean_absolute_error(val_predictions, val_y)\n",
        "print(\"Validation MAE: {:,.0f}\".format(val_mae))\n",
        "\n",
        "# Set up code checking\n",
        "from learntools.core import binder\n",
        "binder.bind(globals())\n",
        "from learntools.machine_learning.ex5 import *\n",
        "print(\"\\nSetup complete\")"
      ],
      "id": "8f781a2c",
      "execution_count": null,
      "outputs": [
        {
          "output_type": "stream",
          "text": [
            "Validation MAE: 29,653\n",
            "\n",
            "Setup complete\n"
          ],
          "name": "stdout"
        }
      ]
    },
    {
      "cell_type": "markdown",
      "metadata": {
        "papermill": {
          "duration": 0.009279,
          "end_time": "2021-08-12T13:36:08.295207",
          "exception": false,
          "start_time": "2021-08-12T13:36:08.285928",
          "status": "completed"
        },
        "tags": [],
        "id": "cc42d2a1"
      },
      "source": [
        "# Exercises\n",
        "You could write the function `get_mae` yourself. For now, we'll supply it. This is the same function you read about in the previous lesson. Just run the cell below."
      ],
      "id": "cc42d2a1"
    },
    {
      "cell_type": "code",
      "metadata": {
        "execution": {
          "iopub.execute_input": "2021-08-12T13:36:08.320304Z",
          "iopub.status.busy": "2021-08-12T13:36:08.319540Z",
          "iopub.status.idle": "2021-08-12T13:36:08.323073Z",
          "shell.execute_reply": "2021-08-12T13:36:08.322420Z",
          "shell.execute_reply.started": "2021-08-12T13:25:19.422191Z"
        },
        "papermill": {
          "duration": 0.018333,
          "end_time": "2021-08-12T13:36:08.323208",
          "exception": false,
          "start_time": "2021-08-12T13:36:08.304875",
          "status": "completed"
        },
        "tags": [],
        "id": "f32a60d9"
      },
      "source": [
        "def get_mae(max_leaf_nodes, train_X, val_X, train_y, val_y):\n",
        "    model = DecisionTreeRegressor(max_leaf_nodes=max_leaf_nodes, random_state=0)\n",
        "    model.fit(train_X, train_y)\n",
        "    preds_val = model.predict(val_X)\n",
        "    mae = mean_absolute_error(val_y, preds_val)\n",
        "    return(mae)"
      ],
      "id": "f32a60d9",
      "execution_count": null,
      "outputs": []
    },
    {
      "cell_type": "markdown",
      "metadata": {
        "papermill": {
          "duration": 0.009494,
          "end_time": "2021-08-12T13:36:08.342722",
          "exception": false,
          "start_time": "2021-08-12T13:36:08.333228",
          "status": "completed"
        },
        "tags": [],
        "id": "1484b555"
      },
      "source": [
        "## Step 1: Compare Different Tree Sizes\n",
        "Write a loop that tries the following values for *max_leaf_nodes* from a set of possible values.\n",
        "\n",
        "Call the *get_mae* function on each value of max_leaf_nodes. Store the output in some way that allows you to select the value of `max_leaf_nodes` that gives the most accurate model on your data."
      ],
      "id": "1484b555"
    },
    {
      "cell_type": "code",
      "metadata": {
        "execution": {
          "iopub.execute_input": "2021-08-12T13:36:08.371798Z",
          "iopub.status.busy": "2021-08-12T13:36:08.371123Z",
          "iopub.status.idle": "2021-08-12T13:36:08.420609Z",
          "shell.execute_reply": "2021-08-12T13:36:08.421079Z",
          "shell.execute_reply.started": "2021-08-12T13:33:37.240015Z"
        },
        "papermill": {
          "duration": 0.068325,
          "end_time": "2021-08-12T13:36:08.421385",
          "exception": false,
          "start_time": "2021-08-12T13:36:08.353060",
          "status": "completed"
        },
        "tags": [],
        "id": "a5acdaab",
        "outputId": "3e0a5413-8c62-433f-c6ba-93620d8d4cf9"
      },
      "source": [
        "candidate_max_leaf_nodes = [5, 25, 50, 100, 250, 500]\n",
        "# Write loop to find the ideal tree size from candidate_max_leaf_nodes\n",
        "scores = {leaf_size: get_mae(leaf_size, train_X, val_X, train_y, val_y) for leaf_size in candidate_max_leaf_nodes}\n",
        "    \n",
        "# Store the best value of max_leaf_nodes (it will be either 5, 25, 50, 100, 250 or 500)\n",
        "best_tree_size = min(scores, key=scores.get)\n",
        "\n",
        "# Check your answer\n",
        "step_1.check()"
      ],
      "id": "a5acdaab",
      "execution_count": null,
      "outputs": [
        {
          "output_type": "display_data",
          "data": {
            "application/javascript": [
              "parent.postMessage({\"jupyterEvent\": \"custom.exercise_interaction\", \"data\": {\"outcomeType\": 1, \"valueTowardsCompletion\": 0.5, \"interactionType\": 1, \"questionType\": 1, \"questionId\": \"1_BestTreeSize\", \"learnToolsVersion\": \"0.3.4\", \"failureMessage\": \"\", \"exceptionClass\": \"\", \"trace\": \"\"}}, \"*\")"
            ],
            "text/plain": [
              "<IPython.core.display.Javascript object>"
            ]
          },
          "metadata": {
            "tags": []
          }
        },
        {
          "output_type": "display_data",
          "data": {
            "text/markdown": "<span style=\"color:#33cc33\">Correct</span>",
            "text/plain": [
              "Correct"
            ]
          },
          "metadata": {
            "tags": []
          }
        }
      ]
    },
    {
      "cell_type": "code",
      "metadata": {
        "execution": {
          "iopub.execute_input": "2021-08-12T13:36:08.447544Z",
          "iopub.status.busy": "2021-08-12T13:36:08.446823Z",
          "iopub.status.idle": "2021-08-12T13:36:08.450198Z",
          "shell.execute_reply": "2021-08-12T13:36:08.449664Z",
          "shell.execute_reply.started": "2021-08-12T13:32:22.081140Z"
        },
        "papermill": {
          "duration": 0.018032,
          "end_time": "2021-08-12T13:36:08.450340",
          "exception": false,
          "start_time": "2021-08-12T13:36:08.432308",
          "status": "completed"
        },
        "tags": [],
        "id": "cef42072"
      },
      "source": [
        "# The lines below will show you a hint or the solution.\n",
        "# step_1.hint() \n",
        "# step_1.solution()"
      ],
      "id": "cef42072",
      "execution_count": null,
      "outputs": []
    },
    {
      "cell_type": "markdown",
      "metadata": {
        "papermill": {
          "duration": 0.010486,
          "end_time": "2021-08-12T13:36:08.471681",
          "exception": false,
          "start_time": "2021-08-12T13:36:08.461195",
          "status": "completed"
        },
        "tags": [],
        "id": "046ecb84"
      },
      "source": [
        "## Step 2: Fit Model Using All Data\n",
        "You know the best tree size. If you were going to deploy this model in practice, you would make it even more accurate by using all of the data and keeping that tree size.  That is, you don't need to hold out the validation data now that you've made all your modeling decisions."
      ],
      "id": "046ecb84"
    },
    {
      "cell_type": "code",
      "metadata": {
        "execution": {
          "iopub.execute_input": "2021-08-12T13:36:08.500787Z",
          "iopub.status.busy": "2021-08-12T13:36:08.500121Z",
          "iopub.status.idle": "2021-08-12T13:36:08.513420Z",
          "shell.execute_reply": "2021-08-12T13:36:08.512934Z",
          "shell.execute_reply.started": "2021-08-12T13:35:44.315334Z"
        },
        "papermill": {
          "duration": 0.031256,
          "end_time": "2021-08-12T13:36:08.513583",
          "exception": false,
          "start_time": "2021-08-12T13:36:08.482327",
          "status": "completed"
        },
        "tags": [],
        "id": "bb5b8c3f",
        "outputId": "c48e32b7-76fd-4585-f474-9c2ffab41e7b"
      },
      "source": [
        "# Fill in argument to make optimal size and uncomment\n",
        "final_model = DecisionTreeRegressor(max_leaf_nodes=best_tree_size, random_state=1)\n",
        "\n",
        "# fit the final model and uncomment the next two lines\n",
        "final_model.fit(X, y)\n",
        "\n",
        "# Check your answer\n",
        "step_2.check()"
      ],
      "id": "bb5b8c3f",
      "execution_count": null,
      "outputs": [
        {
          "output_type": "display_data",
          "data": {
            "application/javascript": [
              "parent.postMessage({\"jupyterEvent\": \"custom.exercise_interaction\", \"data\": {\"outcomeType\": 1, \"valueTowardsCompletion\": 0.5, \"interactionType\": 1, \"questionType\": 2, \"questionId\": \"2_FitModelWithAllData\", \"learnToolsVersion\": \"0.3.4\", \"failureMessage\": \"\", \"exceptionClass\": \"\", \"trace\": \"\"}}, \"*\")"
            ],
            "text/plain": [
              "<IPython.core.display.Javascript object>"
            ]
          },
          "metadata": {
            "tags": []
          }
        },
        {
          "output_type": "display_data",
          "data": {
            "text/markdown": "<span style=\"color:#33cc33\">Correct</span>",
            "text/plain": [
              "Correct"
            ]
          },
          "metadata": {
            "tags": []
          }
        }
      ]
    },
    {
      "cell_type": "code",
      "metadata": {
        "execution": {
          "iopub.execute_input": "2021-08-12T13:36:08.541100Z",
          "iopub.status.busy": "2021-08-12T13:36:08.540462Z",
          "iopub.status.idle": "2021-08-12T13:36:08.543111Z",
          "shell.execute_reply": "2021-08-12T13:36:08.543554Z",
          "shell.execute_reply.started": "2021-08-12T13:35:41.485438Z"
        },
        "papermill": {
          "duration": 0.018578,
          "end_time": "2021-08-12T13:36:08.543727",
          "exception": false,
          "start_time": "2021-08-12T13:36:08.525149",
          "status": "completed"
        },
        "tags": [],
        "id": "596001cd"
      },
      "source": [
        "# step_2.hint()\n",
        "# step_2.solution()"
      ],
      "id": "596001cd",
      "execution_count": null,
      "outputs": []
    },
    {
      "cell_type": "markdown",
      "metadata": {
        "papermill": {
          "duration": 0.011412,
          "end_time": "2021-08-12T13:36:08.566813",
          "exception": false,
          "start_time": "2021-08-12T13:36:08.555401",
          "status": "completed"
        },
        "tags": [],
        "id": "7c430cfd"
      },
      "source": [
        "You've tuned this model and improved your results. But we are still using Decision Tree models, which are not very sophisticated by modern machine learning standards. In the next step you will learn to use Random Forests to improve your models even more.\n",
        "\n",
        "# Keep Going\n",
        "\n",
        "You are ready for **[Random Forests](https://www.kaggle.com/dansbecker/random-forests).**\n"
      ],
      "id": "7c430cfd"
    },
    {
      "cell_type": "markdown",
      "metadata": {
        "papermill": {
          "duration": 0.011382,
          "end_time": "2021-08-12T13:36:08.590018",
          "exception": false,
          "start_time": "2021-08-12T13:36:08.578636",
          "status": "completed"
        },
        "tags": [],
        "id": "f11d8d8d"
      },
      "source": [
        "---\n",
        "\n",
        "\n",
        "\n",
        "\n",
        "*Have questions or comments? Visit the [Learn Discussion forum](https://www.kaggle.com/learn-forum/161285) to chat with other Learners.*"
      ],
      "id": "f11d8d8d"
    }
  ]
}