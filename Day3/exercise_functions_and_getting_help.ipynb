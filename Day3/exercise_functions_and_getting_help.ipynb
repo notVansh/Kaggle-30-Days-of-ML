{
  "nbformat": 4,
  "nbformat_minor": 5,
  "metadata": {
    "kernelspec": {
      "display_name": "Python 3",
      "language": "python",
      "name": "python3"
    },
    "language_info": {
      "codemirror_mode": {
        "name": "ipython",
        "version": 3
      },
      "file_extension": ".py",
      "mimetype": "text/x-python",
      "name": "python",
      "nbconvert_exporter": "python",
      "pygments_lexer": "ipython3",
      "version": "3.7.10"
    },
    "papermill": {
      "default_parameters": {},
      "duration": 10.770465,
      "end_time": "2021-08-04T08:00:01.882076",
      "environment_variables": {},
      "exception": null,
      "input_path": "__notebook__.ipynb",
      "output_path": "__notebook__.ipynb",
      "parameters": {},
      "start_time": "2021-08-04T07:59:51.111611",
      "version": "2.3.3"
    },
    "colab": {
      "name": "exercise-functions-and-getting-help.ipynb",
      "provenance": [],
      "include_colab_link": true
    }
  },
  "cells": [
    {
      "cell_type": "markdown",
      "metadata": {
        "id": "view-in-github",
        "colab_type": "text"
      },
      "source": [
        "<a href=\"https://colab.research.google.com/github/notVansh/Kaggle-30-Days-of-ML/blob/master/Day3/exercise_functions_and_getting_help.ipynb\" target=\"_parent\"><img src=\"https://colab.research.google.com/assets/colab-badge.svg\" alt=\"Open In Colab\"/></a>"
      ]
    },
    {
      "cell_type": "markdown",
      "metadata": {
        "papermill": {
          "duration": 0.015851,
          "end_time": "2021-08-04T07:59:59.308934",
          "exception": false,
          "start_time": "2021-08-04T07:59:59.293083",
          "status": "completed"
        },
        "tags": [],
        "id": "6291fb98"
      },
      "source": [
        "**This notebook is an exercise in the [Python](https://www.kaggle.com/learn/python) course.  You can reference the tutorial at [this link](https://www.kaggle.com/colinmorris/functions-and-getting-help).**\n",
        "\n",
        "---\n"
      ],
      "id": "6291fb98"
    },
    {
      "cell_type": "markdown",
      "metadata": {
        "papermill": {
          "duration": 0.014693,
          "end_time": "2021-08-04T07:59:59.339194",
          "exception": false,
          "start_time": "2021-08-04T07:59:59.324501",
          "status": "completed"
        },
        "tags": [],
        "id": "61f79138"
      },
      "source": [
        "Functions are powerful. Try writing some yourself.\n",
        "\n",
        "As before, don't forget to run the setup code below before jumping into question 1."
      ],
      "id": "61f79138"
    },
    {
      "cell_type": "code",
      "metadata": {
        "_kg_hide-input": true,
        "_kg_hide-output": true,
        "execution": {
          "iopub.execute_input": "2021-08-04T07:59:59.373319Z",
          "iopub.status.busy": "2021-08-04T07:59:59.372137Z",
          "iopub.status.idle": "2021-08-04T07:59:59.515053Z",
          "shell.execute_reply": "2021-08-04T07:59:59.515608Z",
          "shell.execute_reply.started": "2021-08-04T07:56:00.174346Z"
        },
        "papermill": {
          "duration": 0.161808,
          "end_time": "2021-08-04T07:59:59.515902",
          "exception": false,
          "start_time": "2021-08-04T07:59:59.354094",
          "status": "completed"
        },
        "tags": [],
        "id": "8b5d37ae",
        "outputId": "479e51c4-1098-4576-8119-3dfd6c00d67f"
      },
      "source": [
        "# SETUP. You don't need to worry for now about what this code does or how it works.\n",
        "from learntools.core import binder; binder.bind(globals())\n",
        "from learntools.python.ex2 import *\n",
        "print('Setup complete.')"
      ],
      "id": "8b5d37ae",
      "execution_count": null,
      "outputs": [
        {
          "output_type": "stream",
          "text": [
            "Setup complete.\n"
          ],
          "name": "stdout"
        }
      ]
    },
    {
      "cell_type": "markdown",
      "metadata": {
        "papermill": {
          "duration": 0.014635,
          "end_time": "2021-08-04T07:59:59.546036",
          "exception": false,
          "start_time": "2021-08-04T07:59:59.531401",
          "status": "completed"
        },
        "tags": [],
        "id": "a7842de4"
      },
      "source": [
        "# 1.\n",
        "\n",
        "Complete the body of the following function according to its docstring.\n",
        "\n",
        "HINT: Python has a built-in function `round`."
      ],
      "id": "a7842de4"
    },
    {
      "cell_type": "code",
      "metadata": {
        "papermill": {
          "duration": 0.015098,
          "end_time": "2021-08-04T07:59:59.576917",
          "exception": false,
          "start_time": "2021-08-04T07:59:59.561819",
          "status": "completed"
        },
        "tags": [],
        "id": "793b35c5"
      },
      "source": [
        ""
      ],
      "id": "793b35c5",
      "execution_count": null,
      "outputs": []
    },
    {
      "cell_type": "markdown",
      "metadata": {
        "papermill": {
          "duration": 0.014595,
          "end_time": "2021-08-04T07:59:59.606438",
          "exception": false,
          "start_time": "2021-08-04T07:59:59.591843",
          "status": "completed"
        },
        "tags": [],
        "id": "7e200b38"
      },
      "source": [
        ""
      ],
      "id": "7e200b38"
    },
    {
      "cell_type": "code",
      "metadata": {
        "execution": {
          "iopub.execute_input": "2021-08-04T07:59:59.644789Z",
          "iopub.status.busy": "2021-08-04T07:59:59.644089Z",
          "iopub.status.idle": "2021-08-04T07:59:59.650088Z",
          "shell.execute_reply": "2021-08-04T07:59:59.649498Z",
          "shell.execute_reply.started": "2021-08-04T07:56:11.820600Z"
        },
        "papermill": {
          "duration": 0.028616,
          "end_time": "2021-08-04T07:59:59.650219",
          "exception": false,
          "start_time": "2021-08-04T07:59:59.621603",
          "status": "completed"
        },
        "tags": [],
        "id": "838bb518",
        "outputId": "7c406d70-c7ae-4d83-fad3-5df719f482c0"
      },
      "source": [
        "def round_to_two_places(num):\n",
        "    \"\"\"Return the given number rounded to two decimal places. \n",
        "    round(num)\n",
        "    >>> round_to_two_places(3.14159)\n",
        "    3.14\n",
        "    \"\"\"\n",
        "    return round(num,2)\n",
        "    # Replace this body with your own code.\n",
        "    # (\"pass\" is a keyword that does literally nothing. We used it as a placeholder\n",
        "    # because after we begin a code block, Python requires at least one line of code)\n",
        "    pass\n",
        "\n",
        "# Check your answer\n",
        "q1.check()"
      ],
      "id": "838bb518",
      "execution_count": null,
      "outputs": [
        {
          "output_type": "display_data",
          "data": {
            "application/javascript": [
              "parent.postMessage({\"jupyterEvent\": \"custom.exercise_interaction\", \"data\": {\"outcomeType\": 1, \"valueTowardsCompletion\": 0.16666666666666666, \"interactionType\": 1, \"questionType\": 2, \"questionId\": \"1_RoundFunctionProblem\", \"learnToolsVersion\": \"0.3.4\", \"failureMessage\": \"\", \"exceptionClass\": \"\", \"trace\": \"\"}}, \"*\")"
            ],
            "text/plain": [
              "<IPython.core.display.Javascript object>"
            ]
          },
          "metadata": {
            "tags": []
          }
        },
        {
          "output_type": "display_data",
          "data": {
            "text/markdown": "<span style=\"color:#33cc33\">Correct</span>",
            "text/plain": [
              "Correct"
            ]
          },
          "metadata": {
            "tags": []
          }
        }
      ]
    },
    {
      "cell_type": "code",
      "metadata": {
        "execution": {
          "iopub.execute_input": "2021-08-04T07:59:59.686520Z",
          "iopub.status.busy": "2021-08-04T07:59:59.685860Z",
          "iopub.status.idle": "2021-08-04T07:59:59.688473Z",
          "shell.execute_reply": "2021-08-04T07:59:59.687924Z"
        },
        "papermill": {
          "duration": 0.022351,
          "end_time": "2021-08-04T07:59:59.688603",
          "exception": false,
          "start_time": "2021-08-04T07:59:59.666252",
          "status": "completed"
        },
        "tags": [],
        "id": "85619874"
      },
      "source": [
        "# Uncomment the following for a hint\n",
        "#q1.hint()\n",
        "# Or uncomment the following to peek at the solution\n",
        "#q1.solution()"
      ],
      "id": "85619874",
      "execution_count": null,
      "outputs": []
    },
    {
      "cell_type": "markdown",
      "metadata": {
        "papermill": {
          "duration": 0.016048,
          "end_time": "2021-08-04T07:59:59.720953",
          "exception": false,
          "start_time": "2021-08-04T07:59:59.704905",
          "status": "completed"
        },
        "tags": [],
        "id": "fe3e417a"
      },
      "source": [
        "# 2.\n",
        "The help for `round` says that `ndigits` (the second argument) may be negative.\n",
        "What do you think will happen when it is? Try some examples in the following cell."
      ],
      "id": "fe3e417a"
    },
    {
      "cell_type": "code",
      "metadata": {
        "execution": {
          "iopub.execute_input": "2021-08-04T07:59:59.758692Z",
          "iopub.status.busy": "2021-08-04T07:59:59.758030Z",
          "iopub.status.idle": "2021-08-04T07:59:59.760755Z",
          "shell.execute_reply": "2021-08-04T07:59:59.761348Z",
          "shell.execute_reply.started": "2021-08-04T07:57:09.169393Z"
        },
        "papermill": {
          "duration": 0.024386,
          "end_time": "2021-08-04T07:59:59.761526",
          "exception": false,
          "start_time": "2021-08-04T07:59:59.737140",
          "status": "completed"
        },
        "tags": [],
        "id": "8629d026",
        "outputId": "15f4bc8b-2fb7-4740-b3a3-1f66c33ba4c2"
      },
      "source": [
        "# Put your test code here\n",
        "def round_two():\n",
        "    return round(9.9999,-2)\n",
        "\n",
        "round_two()"
      ],
      "id": "8629d026",
      "execution_count": null,
      "outputs": [
        {
          "output_type": "execute_result",
          "data": {
            "text/plain": [
              "0.0"
            ]
          },
          "metadata": {
            "tags": []
          },
          "execution_count": 4
        }
      ]
    },
    {
      "cell_type": "markdown",
      "metadata": {
        "papermill": {
          "duration": 0.016143,
          "end_time": "2021-08-04T07:59:59.794159",
          "exception": false,
          "start_time": "2021-08-04T07:59:59.778016",
          "status": "completed"
        },
        "tags": [],
        "id": "6e42dbb5"
      },
      "source": [
        "Can you think of a case where this would be useful?  Once you're ready, run the code cell below to see the answer and to receive credit for completing the problem."
      ],
      "id": "6e42dbb5"
    },
    {
      "cell_type": "code",
      "metadata": {
        "execution": {
          "iopub.execute_input": "2021-08-04T07:59:59.830376Z",
          "iopub.status.busy": "2021-08-04T07:59:59.829757Z",
          "iopub.status.idle": "2021-08-04T07:59:59.836156Z",
          "shell.execute_reply": "2021-08-04T07:59:59.836631Z",
          "shell.execute_reply.started": "2021-08-04T07:57:18.567795Z"
        },
        "papermill": {
          "duration": 0.026103,
          "end_time": "2021-08-04T07:59:59.836804",
          "exception": false,
          "start_time": "2021-08-04T07:59:59.810701",
          "status": "completed"
        },
        "tags": [],
        "id": "cc9059dd",
        "outputId": "01aea319-b736-4e41-9c91-a0fa75c56b56"
      },
      "source": [
        "# Check your answer (Run this code cell to receive credit!)\n",
        "q2.solution()"
      ],
      "id": "cc9059dd",
      "execution_count": null,
      "outputs": [
        {
          "output_type": "display_data",
          "data": {
            "application/javascript": [
              "parent.postMessage({\"jupyterEvent\": \"custom.exercise_interaction\", \"data\": {\"interactionType\": 3, \"questionType\": 4, \"questionId\": \"2_RoundNdigitsProblem\", \"learnToolsVersion\": \"0.3.4\", \"valueTowardsCompletion\": 0.0, \"failureMessage\": \"\", \"exceptionClass\": \"\", \"trace\": \"\", \"outcomeType\": 4}}, \"*\")"
            ],
            "text/plain": [
              "<IPython.core.display.Javascript object>"
            ]
          },
          "metadata": {
            "tags": []
          }
        },
        {
          "output_type": "display_data",
          "data": {
            "text/markdown": "<span style=\"color:#33cc99\">Solution:</span> As you've seen, `ndigits=-1` rounds to the nearest 10, `ndigits=-2` rounds to the nearest 100 and so on. Where might this be useful? Suppose we're dealing with large numbers:\n\n> The area of Finland is 338,424 km²  \n> The area of Greenland is 2,166,086 km²\n\nWe probably don't care whether it's really 338,424, or 338,425, or 338,177. All those digits of accuracy are just distracting. We can chop them off by calling `round()` with `ndigits=-3`:\n\n> The area of Finland is 338,000 km²  \n> The area of Greenland is 2,166,000 km²\n\n(We'll talk about how we would get the commas later when we talk about string formatting :))\n",
            "text/plain": [
              "Solution: As you've seen, `ndigits=-1` rounds to the nearest 10, `ndigits=-2` rounds to the nearest 100 and so on. Where might this be useful? Suppose we're dealing with large numbers:\n",
              "\n",
              "> The area of Finland is 338,424 km²  \n",
              "> The area of Greenland is 2,166,086 km²\n",
              "\n",
              "We probably don't care whether it's really 338,424, or 338,425, or 338,177. All those digits of accuracy are just distracting. We can chop them off by calling `round()` with `ndigits=-3`:\n",
              "\n",
              "> The area of Finland is 338,000 km²  \n",
              "> The area of Greenland is 2,166,000 km²\n",
              "\n",
              "(We'll talk about how we would get the commas later when we talk about string formatting :))"
            ]
          },
          "metadata": {
            "tags": []
          }
        }
      ]
    },
    {
      "cell_type": "markdown",
      "metadata": {
        "papermill": {
          "duration": 0.017326,
          "end_time": "2021-08-04T07:59:59.871753",
          "exception": false,
          "start_time": "2021-08-04T07:59:59.854427",
          "status": "completed"
        },
        "tags": [],
        "id": "0311346e"
      },
      "source": [
        "# 3.\n",
        "\n",
        "In the previous exercise, the candy-sharing friends Alice, Bob and Carol tried to split candies evenly. For the sake of their friendship, any candies left over would be smashed. For example, if they collectively bring home 91 candies, they'll take 30 each and smash 1.\n",
        "\n",
        "Below is a simple function that will calculate the number of candies to smash for *any* number of total candies.\n",
        "\n",
        "Modify it so that it optionally takes a second argument representing the number of friends the candies are being split between. If no second argument is provided, it should assume 3 friends, as before.\n",
        "\n",
        "Update the docstring to reflect this new behaviour."
      ],
      "id": "0311346e"
    },
    {
      "cell_type": "code",
      "metadata": {
        "execution": {
          "iopub.execute_input": "2021-08-04T07:59:59.910887Z",
          "iopub.status.busy": "2021-08-04T07:59:59.910240Z",
          "iopub.status.idle": "2021-08-04T07:59:59.917853Z",
          "shell.execute_reply": "2021-08-04T07:59:59.918431Z",
          "shell.execute_reply.started": "2021-08-04T07:57:35.447285Z"
        },
        "papermill": {
          "duration": 0.028686,
          "end_time": "2021-08-04T07:59:59.918600",
          "exception": false,
          "start_time": "2021-08-04T07:59:59.889914",
          "status": "completed"
        },
        "tags": [],
        "id": "7076440b",
        "outputId": "1f0e298e-7fd6-4414-c4fb-e595c78a46e4"
      },
      "source": [
        "def to_smash(total_candies,n=3):\n",
        "    \"\"\"Return the number of leftover candies that must be smashed after distributing\n",
        "    the given number of candies evenly between 3 friends.\n",
        "    \n",
        "    >>> to_smash(91)\n",
        "    1\n",
        "    \"\"\"\n",
        "    return total_candies % n\n",
        "\n",
        "# Check your answer\n",
        "q3.check()"
      ],
      "id": "7076440b",
      "execution_count": null,
      "outputs": [
        {
          "output_type": "display_data",
          "data": {
            "application/javascript": [
              "parent.postMessage({\"jupyterEvent\": \"custom.exercise_interaction\", \"data\": {\"outcomeType\": 1, \"valueTowardsCompletion\": 0.16666666666666666, \"interactionType\": 1, \"questionType\": 2, \"questionId\": \"3_CandySmashingFunctionProblem\", \"learnToolsVersion\": \"0.3.4\", \"failureMessage\": \"\", \"exceptionClass\": \"\", \"trace\": \"\"}}, \"*\")"
            ],
            "text/plain": [
              "<IPython.core.display.Javascript object>"
            ]
          },
          "metadata": {
            "tags": []
          }
        },
        {
          "output_type": "display_data",
          "data": {
            "text/markdown": "<span style=\"color:#33cc33\">Correct</span>",
            "text/plain": [
              "Correct"
            ]
          },
          "metadata": {
            "tags": []
          }
        }
      ]
    },
    {
      "cell_type": "code",
      "metadata": {
        "execution": {
          "iopub.execute_input": "2021-08-04T07:59:59.963287Z",
          "iopub.status.busy": "2021-08-04T07:59:59.962544Z",
          "iopub.status.idle": "2021-08-04T07:59:59.966405Z",
          "shell.execute_reply": "2021-08-04T07:59:59.965507Z"
        },
        "papermill": {
          "duration": 0.029555,
          "end_time": "2021-08-04T07:59:59.966613",
          "exception": false,
          "start_time": "2021-08-04T07:59:59.937058",
          "status": "completed"
        },
        "tags": [],
        "id": "c4755755"
      },
      "source": [
        "#q3.hint()"
      ],
      "id": "c4755755",
      "execution_count": null,
      "outputs": []
    },
    {
      "cell_type": "code",
      "metadata": {
        "execution": {
          "iopub.execute_input": "2021-08-04T08:00:00.019476Z",
          "iopub.status.busy": "2021-08-04T08:00:00.018744Z",
          "iopub.status.idle": "2021-08-04T08:00:00.023947Z",
          "shell.execute_reply": "2021-08-04T08:00:00.024851Z"
        },
        "papermill": {
          "duration": 0.035609,
          "end_time": "2021-08-04T08:00:00.025112",
          "exception": false,
          "start_time": "2021-08-04T07:59:59.989503",
          "status": "completed"
        },
        "tags": [],
        "id": "7797b74d"
      },
      "source": [
        "#q3.solution()"
      ],
      "id": "7797b74d",
      "execution_count": null,
      "outputs": []
    },
    {
      "cell_type": "markdown",
      "metadata": {
        "papermill": {
          "duration": 0.026535,
          "end_time": "2021-08-04T08:00:00.077964",
          "exception": false,
          "start_time": "2021-08-04T08:00:00.051429",
          "status": "completed"
        },
        "tags": [],
        "id": "2e2ff561"
      },
      "source": [
        "# 4. (Optional)\n",
        "\n",
        "It may not be fun, but reading and understanding error messages will be an important part of your Python career.\n",
        "\n",
        "Each code cell below contains some commented buggy code. For each cell...\n",
        "\n",
        "1. Read the code and predict what you think will happen when it's run.\n",
        "2. Then uncomment the code and run it to see what happens. (**Tip**: In the kernel editor, you can highlight several lines and press `ctrl`+`/` to toggle commenting.)\n",
        "3. Fix the code (so that it accomplishes its intended purpose without throwing an exception)\n",
        "\n",
        "<!-- TODO: should this be autochecked? Delta is probably pretty small. -->"
      ],
      "id": "2e2ff561"
    },
    {
      "cell_type": "code",
      "metadata": {
        "execution": {
          "iopub.execute_input": "2021-08-04T08:00:00.119873Z",
          "iopub.status.busy": "2021-08-04T08:00:00.119162Z",
          "iopub.status.idle": "2021-08-04T08:00:00.125419Z",
          "shell.execute_reply": "2021-08-04T08:00:00.124742Z",
          "shell.execute_reply.started": "2021-08-04T07:58:52.675651Z"
        },
        "papermill": {
          "duration": 0.028014,
          "end_time": "2021-08-04T08:00:00.125574",
          "exception": false,
          "start_time": "2021-08-04T08:00:00.097560",
          "status": "completed"
        },
        "tags": [],
        "id": "6081edff",
        "outputId": "983e92f0-bd26-418c-ed83-b28619df6c8c"
      },
      "source": [
        "def ruound_to_two_places():\n",
        "    return round(9.9999,2)\n",
        "\n",
        "ruound_to_two_places()"
      ],
      "id": "6081edff",
      "execution_count": null,
      "outputs": [
        {
          "output_type": "execute_result",
          "data": {
            "text/plain": [
              "10.0"
            ]
          },
          "metadata": {
            "tags": []
          },
          "execution_count": 9
        }
      ]
    },
    {
      "cell_type": "code",
      "metadata": {
        "execution": {
          "iopub.execute_input": "2021-08-04T08:00:00.169968Z",
          "iopub.status.busy": "2021-08-04T08:00:00.169213Z",
          "iopub.status.idle": "2021-08-04T08:00:00.172565Z",
          "shell.execute_reply": "2021-08-04T08:00:00.173110Z",
          "shell.execute_reply.started": "2021-08-04T07:59:20.495853Z"
        },
        "papermill": {
          "duration": 0.028221,
          "end_time": "2021-08-04T08:00:00.173305",
          "exception": false,
          "start_time": "2021-08-04T08:00:00.145084",
          "status": "completed"
        },
        "tags": [],
        "id": "4318f58b",
        "outputId": "0b28410f-c3bc-4563-8671-af1c75371df7"
      },
      "source": [
        "x = -10\n",
        "y = 5\n",
        "# # Which of the two variables above has the smallest absolute value?\n",
        "smallest_abs = min(abs(x), abs(y))\n",
        "print(smallest_abs)"
      ],
      "id": "4318f58b",
      "execution_count": null,
      "outputs": [
        {
          "output_type": "stream",
          "text": [
            "5\n"
          ],
          "name": "stdout"
        }
      ]
    },
    {
      "cell_type": "code",
      "metadata": {
        "execution": {
          "iopub.execute_input": "2021-08-04T08:00:00.218565Z",
          "iopub.status.busy": "2021-08-04T08:00:00.217839Z",
          "iopub.status.idle": "2021-08-04T08:00:00.220592Z",
          "shell.execute_reply": "2021-08-04T08:00:00.221092Z",
          "shell.execute_reply.started": "2021-08-04T07:59:38.100709Z"
        },
        "papermill": {
          "duration": 0.027671,
          "end_time": "2021-08-04T08:00:00.221301",
          "exception": false,
          "start_time": "2021-08-04T08:00:00.193630",
          "status": "completed"
        },
        "tags": [],
        "id": "d7b62c13",
        "outputId": "5dd8ef08-fea9-479e-818c-4cea9124a208"
      },
      "source": [
        "def f(x):\n",
        "    y = abs(x)\n",
        "    return y\n",
        "\n",
        "print(f(5))"
      ],
      "id": "d7b62c13",
      "execution_count": null,
      "outputs": [
        {
          "output_type": "stream",
          "text": [
            "5\n"
          ],
          "name": "stdout"
        }
      ]
    },
    {
      "cell_type": "markdown",
      "metadata": {
        "papermill": {
          "duration": 0.019441,
          "end_time": "2021-08-04T08:00:00.261560",
          "exception": false,
          "start_time": "2021-08-04T08:00:00.242119",
          "status": "completed"
        },
        "tags": [],
        "id": "97244a08"
      },
      "source": [
        "# Keep Going\n",
        "\n",
        "Nice job with the code. Next up, you'll learn about *conditionals*, which you'll need to **[write interesting programs](https://www.kaggle.com/colinmorris/booleans-and-conditionals)**. "
      ],
      "id": "97244a08"
    },
    {
      "cell_type": "markdown",
      "metadata": {
        "papermill": {
          "duration": 0.019386,
          "end_time": "2021-08-04T08:00:00.300877",
          "exception": false,
          "start_time": "2021-08-04T08:00:00.281491",
          "status": "completed"
        },
        "tags": [],
        "id": "99057115"
      },
      "source": [
        "---\n",
        "\n",
        "\n",
        "\n",
        "\n",
        "*Have questions or comments? Visit the [Learn Discussion forum](https://www.kaggle.com/learn-forum/161283) to chat with other Learners.*"
      ],
      "id": "99057115"
    }
  ]
}