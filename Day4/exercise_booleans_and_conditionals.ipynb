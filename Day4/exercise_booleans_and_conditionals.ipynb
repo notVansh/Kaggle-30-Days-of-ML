{
  "nbformat": 4,
  "nbformat_minor": 5,
  "metadata": {
    "kernelspec": {
      "display_name": "Python 3",
      "language": "python",
      "name": "python3"
    },
    "language_info": {
      "codemirror_mode": {
        "name": "ipython",
        "version": 3
      },
      "file_extension": ".py",
      "mimetype": "text/x-python",
      "name": "python",
      "nbconvert_exporter": "python",
      "pygments_lexer": "ipython3",
      "version": "3.7.10"
    },
    "papermill": {
      "default_parameters": {},
      "duration": 15.679709,
      "end_time": "2021-08-04T08:26:53.274606",
      "environment_variables": {},
      "exception": null,
      "input_path": "__notebook__.ipynb",
      "output_path": "__notebook__.ipynb",
      "parameters": {},
      "start_time": "2021-08-04T08:26:37.594897",
      "version": "2.3.3"
    },
    "colab": {
      "name": "exercise-booleans-and-conditionals.ipynb",
      "provenance": [],
      "include_colab_link": true
    }
  },
  "cells": [
    {
      "cell_type": "markdown",
      "metadata": {
        "id": "view-in-github",
        "colab_type": "text"
      },
      "source": [
        "<a href=\"https://colab.research.google.com/github/notVansh/Kaggle-30-Days-of-ML/blob/master/Day4/exercise_booleans_and_conditionals.ipynb\" target=\"_parent\"><img src=\"https://colab.research.google.com/assets/colab-badge.svg\" alt=\"Open In Colab\"/></a>"
      ]
    },
    {
      "cell_type": "markdown",
      "metadata": {
        "papermill": {
          "duration": 0.029295,
          "end_time": "2021-08-04T08:26:44.866357",
          "exception": false,
          "start_time": "2021-08-04T08:26:44.837062",
          "status": "completed"
        },
        "tags": [],
        "id": "7e37491f"
      },
      "source": [
        "**This notebook is an exercise in the [Python](https://www.kaggle.com/learn/python) course.  You can reference the tutorial at [this link](https://www.kaggle.com/colinmorris/booleans-and-conditionals).**\n",
        "\n",
        "---\n"
      ],
      "id": "7e37491f"
    },
    {
      "cell_type": "markdown",
      "metadata": {
        "papermill": {
          "duration": 0.026207,
          "end_time": "2021-08-04T08:26:44.921478",
          "exception": false,
          "start_time": "2021-08-04T08:26:44.895271",
          "status": "completed"
        },
        "tags": [],
        "id": "9933b20e"
      },
      "source": [
        "In this exercise, you'll put to work what you have learned about booleans and conditionals.\n",
        "\n",
        "To get started, **run the setup code below** before writing your own code (and if you leave this notebook and come back later, don't forget to run the setup code again)."
      ],
      "id": "9933b20e"
    },
    {
      "cell_type": "code",
      "metadata": {
        "execution": {
          "iopub.execute_input": "2021-08-04T08:26:44.987897Z",
          "iopub.status.busy": "2021-08-04T08:26:44.987283Z",
          "iopub.status.idle": "2021-08-04T08:26:45.110340Z",
          "shell.execute_reply": "2021-08-04T08:26:45.111118Z",
          "shell.execute_reply.started": "2021-08-04T08:02:02.040380Z"
        },
        "papermill": {
          "duration": 0.163176,
          "end_time": "2021-08-04T08:26:45.111452",
          "exception": false,
          "start_time": "2021-08-04T08:26:44.948276",
          "status": "completed"
        },
        "tags": [],
        "id": "2ee1f6b6",
        "outputId": "1dc68db0-1eac-42f2-ae6e-93aad96bef4d"
      },
      "source": [
        "from learntools.core import binder; binder.bind(globals())\n",
        "from learntools.python.ex3 import *\n",
        "print('Setup complete.')"
      ],
      "id": "2ee1f6b6",
      "execution_count": null,
      "outputs": [
        {
          "output_type": "stream",
          "text": [
            "Setup complete.\n"
          ],
          "name": "stdout"
        }
      ]
    },
    {
      "cell_type": "markdown",
      "metadata": {
        "papermill": {
          "duration": 0.030229,
          "end_time": "2021-08-04T08:26:45.173092",
          "exception": false,
          "start_time": "2021-08-04T08:26:45.142863",
          "status": "completed"
        },
        "tags": [],
        "id": "f0945403"
      },
      "source": [
        "# 1.\n",
        "\n",
        "Many programming languages have [`sign`](https://en.wikipedia.org/wiki/Sign_function) available as a built-in function. Python doesn't, but we can define our own!\n",
        "\n",
        "In the cell below, define a function called `sign` which takes a numerical argument and returns -1 if it's negative, 1 if it's positive, and 0 if it's 0."
      ],
      "id": "f0945403"
    },
    {
      "cell_type": "code",
      "metadata": {
        "execution": {
          "iopub.execute_input": "2021-08-04T08:26:45.233961Z",
          "iopub.status.busy": "2021-08-04T08:26:45.233370Z",
          "iopub.status.idle": "2021-08-04T08:26:45.239501Z",
          "shell.execute_reply": "2021-08-04T08:26:45.238915Z",
          "shell.execute_reply.started": "2021-08-04T08:05:11.818166Z"
        },
        "papermill": {
          "duration": 0.039905,
          "end_time": "2021-08-04T08:26:45.239655",
          "exception": false,
          "start_time": "2021-08-04T08:26:45.199750",
          "status": "completed"
        },
        "tags": [],
        "id": "ea6378b0",
        "outputId": "d665a538-9ebc-43e7-874b-55b3892e1e69"
      },
      "source": [
        "# Your code goes here. Define a function called 'sign'\n",
        "def sign(n):\n",
        "    if n > 0:\n",
        "        n = 1\n",
        "    elif n <0:\n",
        "        n = -1\n",
        "    else:\n",
        "        n = 0\n",
        "    return n\n",
        "\n",
        "# Check your answer\n",
        "q1.check()"
      ],
      "id": "ea6378b0",
      "execution_count": null,
      "outputs": [
        {
          "output_type": "display_data",
          "data": {
            "application/javascript": [
              "parent.postMessage({\"jupyterEvent\": \"custom.exercise_interaction\", \"data\": {\"outcomeType\": 1, \"valueTowardsCompletion\": 0.2, \"interactionType\": 1, \"questionType\": 2, \"questionId\": \"1_SignFunctionProblem\", \"learnToolsVersion\": \"0.3.4\", \"failureMessage\": \"\", \"exceptionClass\": \"\", \"trace\": \"\"}}, \"*\")"
            ],
            "text/plain": [
              "<IPython.core.display.Javascript object>"
            ]
          },
          "metadata": {
            "tags": []
          }
        },
        {
          "output_type": "display_data",
          "data": {
            "text/markdown": "<span style=\"color:#33cc33\">Correct</span>",
            "text/plain": [
              "Correct"
            ]
          },
          "metadata": {
            "tags": []
          }
        }
      ]
    },
    {
      "cell_type": "code",
      "metadata": {
        "execution": {
          "iopub.execute_input": "2021-08-04T08:26:45.300715Z",
          "iopub.status.busy": "2021-08-04T08:26:45.299706Z",
          "iopub.status.idle": "2021-08-04T08:26:45.302589Z",
          "shell.execute_reply": "2021-08-04T08:26:45.302099Z"
        },
        "papermill": {
          "duration": 0.035171,
          "end_time": "2021-08-04T08:26:45.302719",
          "exception": false,
          "start_time": "2021-08-04T08:26:45.267548",
          "status": "completed"
        },
        "tags": [],
        "id": "01dd1e03"
      },
      "source": [
        "#q1.solution()"
      ],
      "id": "01dd1e03",
      "execution_count": null,
      "outputs": []
    },
    {
      "cell_type": "markdown",
      "metadata": {
        "papermill": {
          "duration": 0.031671,
          "end_time": "2021-08-04T08:26:45.364425",
          "exception": false,
          "start_time": "2021-08-04T08:26:45.332754",
          "status": "completed"
        },
        "tags": [],
        "id": "5312b429"
      },
      "source": [
        "# 2.\n",
        "\n",
        "We've decided to add \"logging\" to our `to_smash` function from the previous exercise."
      ],
      "id": "5312b429"
    },
    {
      "cell_type": "code",
      "metadata": {
        "execution": {
          "iopub.execute_input": "2021-08-04T08:26:45.441321Z",
          "iopub.status.busy": "2021-08-04T08:26:45.440378Z",
          "iopub.status.idle": "2021-08-04T08:26:45.450213Z",
          "shell.execute_reply": "2021-08-04T08:26:45.450701Z",
          "shell.execute_reply.started": "2021-08-04T08:11:02.704410Z"
        },
        "papermill": {
          "duration": 0.052253,
          "end_time": "2021-08-04T08:26:45.450854",
          "exception": false,
          "start_time": "2021-08-04T08:26:45.398601",
          "status": "completed"
        },
        "tags": [],
        "id": "d2369950",
        "outputId": "b89705a0-2ca5-4193-ce0c-b7e3c5cc299c"
      },
      "source": [
        "def to_smash(total_candies):\n",
        "    \"\"\"Return the number of leftover candies that must be smashed after distributing\n",
        "    the given number of candies evenly between 3 friends.\n",
        "    \n",
        "    >>> to_smash(91)\n",
        "    1\n",
        "    \"\"\"\n",
        "    \n",
        "    print(\"Splitting\", total_candies, \"candies\")\n",
        "    return total_candies % 3\n",
        "\n",
        "to_smash(91)"
      ],
      "id": "d2369950",
      "execution_count": null,
      "outputs": [
        {
          "output_type": "stream",
          "text": [
            "Splitting 91 candies\n"
          ],
          "name": "stdout"
        },
        {
          "output_type": "execute_result",
          "data": {
            "text/plain": [
              "1"
            ]
          },
          "metadata": {
            "tags": []
          },
          "execution_count": 4
        }
      ]
    },
    {
      "cell_type": "markdown",
      "metadata": {
        "papermill": {
          "duration": 0.028039,
          "end_time": "2021-08-04T08:26:45.507630",
          "exception": false,
          "start_time": "2021-08-04T08:26:45.479591",
          "status": "completed"
        },
        "tags": [],
        "id": "9959642c"
      },
      "source": [
        "What happens if we call it with `total_candies = 1`?"
      ],
      "id": "9959642c"
    },
    {
      "cell_type": "code",
      "metadata": {
        "execution": {
          "iopub.execute_input": "2021-08-04T08:26:45.566907Z",
          "iopub.status.busy": "2021-08-04T08:26:45.566304Z",
          "iopub.status.idle": "2021-08-04T08:26:45.574685Z",
          "shell.execute_reply": "2021-08-04T08:26:45.575309Z",
          "shell.execute_reply.started": "2021-08-04T08:11:07.572940Z"
        },
        "papermill": {
          "duration": 0.039535,
          "end_time": "2021-08-04T08:26:45.575455",
          "exception": false,
          "start_time": "2021-08-04T08:26:45.535920",
          "status": "completed"
        },
        "tags": [],
        "id": "e8f6ad83",
        "outputId": "4dd512ef-a008-4aba-aff6-8efd3c640733"
      },
      "source": [
        "to_smash(1)"
      ],
      "id": "e8f6ad83",
      "execution_count": null,
      "outputs": [
        {
          "output_type": "stream",
          "text": [
            "Splitting 1 candies\n"
          ],
          "name": "stdout"
        },
        {
          "output_type": "execute_result",
          "data": {
            "text/plain": [
              "1"
            ]
          },
          "metadata": {
            "tags": []
          },
          "execution_count": 5
        }
      ]
    },
    {
      "cell_type": "markdown",
      "metadata": {
        "papermill": {
          "duration": 0.035682,
          "end_time": "2021-08-04T08:26:45.652535",
          "exception": false,
          "start_time": "2021-08-04T08:26:45.616853",
          "status": "completed"
        },
        "tags": [],
        "id": "e562d929"
      },
      "source": [
        "That isn't great grammar!\n",
        "\n",
        "Modify the definition in the cell below to correct the grammar of our print statement. (If there's only one candy, we should use the singular \"candy\" instead of the plural \"candies\")"
      ],
      "id": "e562d929"
    },
    {
      "cell_type": "code",
      "metadata": {
        "execution": {
          "iopub.execute_input": "2021-08-04T08:26:45.718814Z",
          "iopub.status.busy": "2021-08-04T08:26:45.718085Z",
          "iopub.status.idle": "2021-08-04T08:26:45.721347Z",
          "shell.execute_reply": "2021-08-04T08:26:45.721831Z",
          "shell.execute_reply.started": "2021-08-04T08:13:02.770220Z"
        },
        "papermill": {
          "duration": 0.038401,
          "end_time": "2021-08-04T08:26:45.722004",
          "exception": false,
          "start_time": "2021-08-04T08:26:45.683603",
          "status": "completed"
        },
        "tags": [],
        "id": "b91a0f43",
        "outputId": "8197dc75-fa72-4be9-ed26-2b6ada014f67"
      },
      "source": [
        "def to_smash(total_candies):\n",
        "    \"\"\"Return the number of leftover candies that must be smashed after distributing\n",
        "    the given number of candies evenly between 3 friends.\n",
        "    \n",
        "    >>> to_smash(91)\n",
        "    1\n",
        "    \"\"\"\n",
        "#     print(\"Splitting\", total_candies, \"candies\")\n",
        "#     return total_candies % 3\n",
        "    print(\"Splitting\", total_candies, \"candy\" if total_candies == 1 else \"candies\")\n",
        "\n",
        "to_smash(91)\n",
        "to_smash(1)"
      ],
      "id": "b91a0f43",
      "execution_count": null,
      "outputs": [
        {
          "output_type": "stream",
          "text": [
            "Splitting 91 candies\n",
            "Splitting 1 candy\n"
          ],
          "name": "stdout"
        }
      ]
    },
    {
      "cell_type": "markdown",
      "metadata": {
        "papermill": {
          "duration": 0.029411,
          "end_time": "2021-08-04T08:26:45.780776",
          "exception": false,
          "start_time": "2021-08-04T08:26:45.751365",
          "status": "completed"
        },
        "tags": [],
        "id": "9fcf8746"
      },
      "source": [
        "To get credit for completing this problem, and to see the official answer, run the code cell below."
      ],
      "id": "9fcf8746"
    },
    {
      "cell_type": "code",
      "metadata": {
        "execution": {
          "iopub.execute_input": "2021-08-04T08:26:45.845725Z",
          "iopub.status.busy": "2021-08-04T08:26:45.844695Z",
          "iopub.status.idle": "2021-08-04T08:26:45.852313Z",
          "shell.execute_reply": "2021-08-04T08:26:45.852828Z",
          "shell.execute_reply.started": "2021-08-04T08:09:52.814311Z"
        },
        "papermill": {
          "duration": 0.041897,
          "end_time": "2021-08-04T08:26:45.852996",
          "exception": false,
          "start_time": "2021-08-04T08:26:45.811099",
          "status": "completed"
        },
        "tags": [],
        "id": "3c1b09e9",
        "outputId": "9b245aa1-babc-49a2-9afe-ff1ffd75c67a"
      },
      "source": [
        "# Check your answer (Run this code cell to receive credit!)\n",
        "q2.solution()"
      ],
      "id": "3c1b09e9",
      "execution_count": null,
      "outputs": [
        {
          "output_type": "display_data",
          "data": {
            "application/javascript": [
              "parent.postMessage({\"jupyterEvent\": \"custom.exercise_interaction\", \"data\": {\"interactionType\": 3, \"questionType\": 4, \"questionId\": \"2_PluralizationProblem\", \"learnToolsVersion\": \"0.3.4\", \"valueTowardsCompletion\": 0.0, \"failureMessage\": \"\", \"exceptionClass\": \"\", \"trace\": \"\", \"outcomeType\": 4}}, \"*\")"
            ],
            "text/plain": [
              "<IPython.core.display.Javascript object>"
            ]
          },
          "metadata": {
            "tags": []
          }
        },
        {
          "output_type": "display_data",
          "data": {
            "text/markdown": "<span style=\"color:#33cc99\">Solution:</span> A straightforward (and totally fine) solution is to replace the original `print` call with:\n\n```python\nif total_candies == 1:\n    print(\"Splitting 1 candy\")\nelse:\n    print(\"Splitting\", total_candies, \"candies\")\n```\n\nHere's a slightly more succinct solution using a conditional expression:\n\n```python\nprint(\"Splitting\", total_candies, \"candy\" if total_candies == 1 else \"candies\")\n```",
            "text/plain": [
              "Solution: A straightforward (and totally fine) solution is to replace the original `print` call with:\n",
              "\n",
              "```python\n",
              "if total_candies == 1:\n",
              "    print(\"Splitting 1 candy\")\n",
              "else:\n",
              "    print(\"Splitting\", total_candies, \"candies\")\n",
              "```\n",
              "\n",
              "Here's a slightly more succinct solution using a conditional expression:\n",
              "\n",
              "```python\n",
              "print(\"Splitting\", total_candies, \"candy\" if total_candies == 1 else \"candies\")\n",
              "```"
            ]
          },
          "metadata": {
            "tags": []
          }
        }
      ]
    },
    {
      "cell_type": "markdown",
      "metadata": {
        "papermill": {
          "duration": 0.029744,
          "end_time": "2021-08-04T08:26:45.913772",
          "exception": false,
          "start_time": "2021-08-04T08:26:45.884028",
          "status": "completed"
        },
        "tags": [],
        "id": "e02f2d2a"
      },
      "source": [
        "# 3. <span title=\"A bit spicy\" style=\"color: darkgreen \">🌶️</span>\n",
        "\n",
        "In the tutorial, we talked about deciding whether we're prepared for the weather. I said that I'm safe from today's weather if...\n",
        "- I have an umbrella...\n",
        "- or if the rain isn't too heavy and I have a hood...\n",
        "- otherwise, I'm still fine unless it's raining *and* it's a workday\n",
        "\n",
        "The function below uses our first attempt at turning this logic into a Python expression. I claimed that there was a bug in that code. Can you find it?\n",
        "\n",
        "To prove that `prepared_for_weather` is buggy, come up with a set of inputs where either:\n",
        "- the function returns `False` (but should have returned `True`), or\n",
        "- the function returned `True` (but should have returned `False`).\n",
        "\n",
        "To get credit for completing this question, your code should return a <font color='#33cc33'>Correct</font> result."
      ],
      "id": "e02f2d2a"
    },
    {
      "cell_type": "code",
      "metadata": {
        "execution": {
          "iopub.execute_input": "2021-08-04T08:26:45.978120Z",
          "iopub.status.busy": "2021-08-04T08:26:45.977214Z",
          "iopub.status.idle": "2021-08-04T08:26:45.988053Z",
          "shell.execute_reply": "2021-08-04T08:26:45.988653Z",
          "shell.execute_reply.started": "2021-08-04T08:15:04.385359Z"
        },
        "papermill": {
          "duration": 0.04476,
          "end_time": "2021-08-04T08:26:45.988819",
          "exception": false,
          "start_time": "2021-08-04T08:26:45.944059",
          "status": "completed"
        },
        "tags": [],
        "id": "e597c3dd",
        "outputId": "dfb59bd6-4f93-42dd-e76e-1ef9f6a86a2a"
      },
      "source": [
        "def prepared_for_weather(have_umbrella, rain_level, have_hood, is_workday):\n",
        "    # Don't change this code. Our goal is just to find the bug, not fix it!\n",
        "    return have_umbrella or rain_level < 5 and have_hood or not rain_level > 0 and is_workday\n",
        "\n",
        "# Change the values of these inputs so they represent a case where prepared_for_weather\n",
        "# returns the wrong answer.\n",
        "have_umbrella = False\n",
        "rain_level = 0.0\n",
        "have_hood = False\n",
        "is_workday = False\n",
        "\n",
        "# Check what the function returns given the current values of the variables above\n",
        "actual = prepared_for_weather(have_umbrella, rain_level, have_hood, is_workday)\n",
        "print(actual)\n",
        "\n",
        "# Check your answer\n",
        "q3.check()"
      ],
      "id": "e597c3dd",
      "execution_count": null,
      "outputs": [
        {
          "output_type": "stream",
          "text": [
            "False\n"
          ],
          "name": "stdout"
        },
        {
          "output_type": "display_data",
          "data": {
            "application/javascript": [
              "parent.postMessage({\"jupyterEvent\": \"custom.exercise_interaction\", \"data\": {\"outcomeType\": 1, \"valueTowardsCompletion\": 0.2, \"interactionType\": 1, \"questionType\": 1, \"questionId\": \"3_WeatherDebug\", \"learnToolsVersion\": \"0.3.4\", \"failureMessage\": \"\", \"exceptionClass\": \"\", \"trace\": \"\"}}, \"*\")"
            ],
            "text/plain": [
              "<IPython.core.display.Javascript object>"
            ]
          },
          "metadata": {
            "tags": []
          }
        },
        {
          "output_type": "display_data",
          "data": {
            "text/markdown": "<span style=\"color:#33cc33\">Correct:</span> \n\nOne example of a failing test case is:\n\n```python\nhave_umbrella = False\nrain_level = 0.0\nhave_hood = False\nis_workday = False\n```\n\nClearly we're prepared for the weather in this case. It's not raining. Not only that, it's not a workday, so we don't even need to leave the house! But our function will return False on these inputs.\n\nThe key problem is that Python implictly parenthesizes the last part as:\n\n```python\n(not (rain_level > 0)) and is_workday\n```\n\nWhereas what we were trying to express would look more like:\n\n```python\nnot (rain_level > 0 and is_workday)\n```\n",
            "text/plain": [
              "Correct: \n",
              "\n",
              "One example of a failing test case is:\n",
              "\n",
              "```python\n",
              "have_umbrella = False\n",
              "rain_level = 0.0\n",
              "have_hood = False\n",
              "is_workday = False\n",
              "```\n",
              "\n",
              "Clearly we're prepared for the weather in this case. It's not raining. Not only that, it's not a workday, so we don't even need to leave the house! But our function will return False on these inputs.\n",
              "\n",
              "The key problem is that Python implictly parenthesizes the last part as:\n",
              "\n",
              "```python\n",
              "(not (rain_level > 0)) and is_workday\n",
              "```\n",
              "\n",
              "Whereas what we were trying to express would look more like:\n",
              "\n",
              "```python\n",
              "not (rain_level > 0 and is_workday)\n",
              "```"
            ]
          },
          "metadata": {
            "tags": []
          }
        }
      ]
    },
    {
      "cell_type": "code",
      "metadata": {
        "execution": {
          "iopub.execute_input": "2021-08-04T08:26:46.057025Z",
          "iopub.status.busy": "2021-08-04T08:26:46.056354Z",
          "iopub.status.idle": "2021-08-04T08:26:46.058596Z",
          "shell.execute_reply": "2021-08-04T08:26:46.059009Z"
        },
        "papermill": {
          "duration": 0.038362,
          "end_time": "2021-08-04T08:26:46.059171",
          "exception": false,
          "start_time": "2021-08-04T08:26:46.020809",
          "status": "completed"
        },
        "tags": [],
        "id": "00dce3ee"
      },
      "source": [
        "#q3.hint()\n",
        "#q3.solution()"
      ],
      "id": "00dce3ee",
      "execution_count": null,
      "outputs": []
    },
    {
      "cell_type": "markdown",
      "metadata": {
        "papermill": {
          "duration": 0.032154,
          "end_time": "2021-08-04T08:26:46.126332",
          "exception": false,
          "start_time": "2021-08-04T08:26:46.094178",
          "status": "completed"
        },
        "tags": [],
        "id": "8dc21b3e"
      },
      "source": [
        "# 4.\n",
        "\n",
        "The function `is_negative` below is implemented correctly - it returns True if the given number is negative and False otherwise.\n",
        "\n",
        "However, it's more verbose than it needs to be. We can actually reduce the number of lines of code in this function by *75%* while keeping the same behaviour. \n",
        "\n",
        "See if you can come up with an equivalent body that uses just **one line** of code, and put it in the function `concise_is_negative`. (HINT: you don't even need Python's ternary syntax)"
      ],
      "id": "8dc21b3e"
    },
    {
      "cell_type": "code",
      "metadata": {
        "execution": {
          "iopub.execute_input": "2021-08-04T08:26:46.193116Z",
          "iopub.status.busy": "2021-08-04T08:26:46.192530Z",
          "iopub.status.idle": "2021-08-04T08:26:46.199675Z",
          "shell.execute_reply": "2021-08-04T08:26:46.200264Z",
          "shell.execute_reply.started": "2021-08-04T08:18:04.960769Z"
        },
        "papermill": {
          "duration": 0.042108,
          "end_time": "2021-08-04T08:26:46.200438",
          "exception": false,
          "start_time": "2021-08-04T08:26:46.158330",
          "status": "completed"
        },
        "tags": [],
        "id": "f3548e49",
        "outputId": "4e9dd000-07dd-42ee-d661-6fa2f31c8b79"
      },
      "source": [
        "def is_negative(number):\n",
        "    if number < 0:\n",
        "        return True\n",
        "    else:\n",
        "        return False\n",
        "\n",
        "def concise_is_negative(number):\n",
        "    return (True if number < 0 else False)\n",
        "    pass # Your code goes here (try to keep it to one line!)\n",
        "\n",
        "# Check your answer\n",
        "q4.check()"
      ],
      "id": "f3548e49",
      "execution_count": null,
      "outputs": [
        {
          "output_type": "display_data",
          "data": {
            "application/javascript": [
              "parent.postMessage({\"jupyterEvent\": \"custom.exercise_interaction\", \"data\": {\"outcomeType\": 1, \"valueTowardsCompletion\": 0.2, \"interactionType\": 1, \"questionType\": 2, \"questionId\": \"4_ConciseIsNegative\", \"learnToolsVersion\": \"0.3.4\", \"failureMessage\": \"\", \"exceptionClass\": \"\", \"trace\": \"\"}}, \"*\")"
            ],
            "text/plain": [
              "<IPython.core.display.Javascript object>"
            ]
          },
          "metadata": {
            "tags": []
          }
        },
        {
          "output_type": "display_data",
          "data": {
            "text/markdown": "<span style=\"color:#33cc33\">Correct</span>",
            "text/plain": [
              "Correct"
            ]
          },
          "metadata": {
            "tags": []
          }
        }
      ]
    },
    {
      "cell_type": "code",
      "metadata": {
        "execution": {
          "iopub.execute_input": "2021-08-04T08:26:46.271085Z",
          "iopub.status.busy": "2021-08-04T08:26:46.270520Z",
          "iopub.status.idle": "2021-08-04T08:26:46.272294Z",
          "shell.execute_reply": "2021-08-04T08:26:46.272761Z"
        },
        "papermill": {
          "duration": 0.03924,
          "end_time": "2021-08-04T08:26:46.272905",
          "exception": false,
          "start_time": "2021-08-04T08:26:46.233665",
          "status": "completed"
        },
        "tags": [],
        "id": "3e01e6db"
      },
      "source": [
        "#q4.hint()\n",
        "#q4.solution()"
      ],
      "id": "3e01e6db",
      "execution_count": null,
      "outputs": []
    },
    {
      "cell_type": "markdown",
      "metadata": {
        "papermill": {
          "duration": 0.032976,
          "end_time": "2021-08-04T08:26:46.338521",
          "exception": false,
          "start_time": "2021-08-04T08:26:46.305545",
          "status": "completed"
        },
        "tags": [],
        "id": "ef88a6f8"
      },
      "source": [
        "# 5a.\n",
        "\n",
        "The boolean variables `ketchup`, `mustard` and `onion` represent whether a customer wants a particular topping on their hot dog. We want to implement a number of boolean functions that correspond to some yes-or-no questions about the customer's order. For example:"
      ],
      "id": "ef88a6f8"
    },
    {
      "cell_type": "code",
      "metadata": {
        "execution": {
          "iopub.execute_input": "2021-08-04T08:26:46.407280Z",
          "iopub.status.busy": "2021-08-04T08:26:46.406659Z",
          "iopub.status.idle": "2021-08-04T08:26:46.410248Z",
          "shell.execute_reply": "2021-08-04T08:26:46.410772Z",
          "shell.execute_reply.started": "2021-08-04T08:21:20.295870Z"
        },
        "papermill": {
          "duration": 0.039269,
          "end_time": "2021-08-04T08:26:46.410923",
          "exception": false,
          "start_time": "2021-08-04T08:26:46.371654",
          "status": "completed"
        },
        "tags": [],
        "id": "575e58bb"
      },
      "source": [
        "def onionless(ketchup, mustard, onion):\n",
        "    \"\"\"Return whether the customer doesn't want onions.\n",
        "    \"\"\"\n",
        "    return not onion"
      ],
      "id": "575e58bb",
      "execution_count": null,
      "outputs": []
    },
    {
      "cell_type": "code",
      "metadata": {
        "execution": {
          "iopub.execute_input": "2021-08-04T08:26:46.480498Z",
          "iopub.status.busy": "2021-08-04T08:26:46.479833Z",
          "iopub.status.idle": "2021-08-04T08:26:46.486300Z",
          "shell.execute_reply": "2021-08-04T08:26:46.486857Z",
          "shell.execute_reply.started": "2021-08-04T08:21:31.428989Z"
        },
        "papermill": {
          "duration": 0.04317,
          "end_time": "2021-08-04T08:26:46.487014",
          "exception": false,
          "start_time": "2021-08-04T08:26:46.443844",
          "status": "completed"
        },
        "tags": [],
        "id": "5a1098d7",
        "outputId": "78f58cd4-fefc-4ca8-aa20-fa4156582826"
      },
      "source": [
        "def wants_all_toppings(ketchup, mustard, onion):\n",
        "    \"\"\"Return whether the customer wants \"the works\" (all 3 toppings)\n",
        "    \"\"\"\n",
        "    return ketchup and mustard and onion\n",
        "    pass\n",
        "\n",
        "# Check your answer\n",
        "q5.a.check()"
      ],
      "id": "5a1098d7",
      "execution_count": null,
      "outputs": [
        {
          "output_type": "display_data",
          "data": {
            "application/javascript": [
              "parent.postMessage({\"jupyterEvent\": \"custom.exercise_interaction\", \"data\": {\"outcomeType\": 1, \"valueTowardsCompletion\": 0.2, \"interactionType\": 1, \"questionType\": 2, \"questionId\": \"5.1_AllToppings\", \"learnToolsVersion\": \"0.3.4\", \"failureMessage\": \"\", \"exceptionClass\": \"\", \"trace\": \"\"}}, \"*\")"
            ],
            "text/plain": [
              "<IPython.core.display.Javascript object>"
            ]
          },
          "metadata": {
            "tags": []
          }
        },
        {
          "output_type": "display_data",
          "data": {
            "text/markdown": "<span style=\"color:#33cc33\">Correct</span>",
            "text/plain": [
              "Correct"
            ]
          },
          "metadata": {
            "tags": []
          }
        }
      ]
    },
    {
      "cell_type": "code",
      "metadata": {
        "execution": {
          "iopub.execute_input": "2021-08-04T08:26:46.559354Z",
          "iopub.status.busy": "2021-08-04T08:26:46.558719Z",
          "iopub.status.idle": "2021-08-04T08:26:46.561678Z",
          "shell.execute_reply": "2021-08-04T08:26:46.562254Z"
        },
        "papermill": {
          "duration": 0.040657,
          "end_time": "2021-08-04T08:26:46.562412",
          "exception": false,
          "start_time": "2021-08-04T08:26:46.521755",
          "status": "completed"
        },
        "tags": [],
        "id": "e58ca164"
      },
      "source": [
        "#q5.a.hint()\n",
        "#q5.a.solution()"
      ],
      "id": "e58ca164",
      "execution_count": null,
      "outputs": []
    },
    {
      "cell_type": "markdown",
      "metadata": {
        "papermill": {
          "duration": 0.034292,
          "end_time": "2021-08-04T08:26:46.630838",
          "exception": false,
          "start_time": "2021-08-04T08:26:46.596546",
          "status": "completed"
        },
        "tags": [],
        "id": "3ff420fc"
      },
      "source": [
        "# 5b.\n",
        "\n",
        "For the next function, fill in the body to match the English description in the docstring. "
      ],
      "id": "3ff420fc"
    },
    {
      "cell_type": "code",
      "metadata": {
        "execution": {
          "iopub.execute_input": "2021-08-04T08:26:46.705572Z",
          "iopub.status.busy": "2021-08-04T08:26:46.704907Z",
          "iopub.status.idle": "2021-08-04T08:26:46.709874Z",
          "shell.execute_reply": "2021-08-04T08:26:46.709413Z",
          "shell.execute_reply.started": "2021-08-04T08:22:13.855957Z"
        },
        "papermill": {
          "duration": 0.044734,
          "end_time": "2021-08-04T08:26:46.710002",
          "exception": false,
          "start_time": "2021-08-04T08:26:46.665268",
          "status": "completed"
        },
        "tags": [],
        "id": "aebf9ea2",
        "outputId": "ce4e2280-5f98-44f8-ae7b-e2806c173cef"
      },
      "source": [
        "def wants_plain_hotdog(ketchup, mustard, onion):\n",
        "    \"\"\"Return whether the customer wants a plain hot dog with no toppings.\n",
        "    \"\"\"\n",
        "    return not ketchup and not mustard and not onion\n",
        "    pass\n",
        "\n",
        "# Check your answer\n",
        "q5.b.check()"
      ],
      "id": "aebf9ea2",
      "execution_count": null,
      "outputs": [
        {
          "output_type": "display_data",
          "data": {
            "application/javascript": [
              "parent.postMessage({\"jupyterEvent\": \"custom.exercise_interaction\", \"data\": {\"outcomeType\": 1, \"valueTowardsCompletion\": 0.2, \"interactionType\": 1, \"questionType\": 2, \"questionId\": \"5.2_PlainDog\", \"learnToolsVersion\": \"0.3.4\", \"failureMessage\": \"\", \"exceptionClass\": \"\", \"trace\": \"\"}}, \"*\")"
            ],
            "text/plain": [
              "<IPython.core.display.Javascript object>"
            ]
          },
          "metadata": {
            "tags": []
          }
        },
        {
          "output_type": "display_data",
          "data": {
            "text/markdown": "<span style=\"color:#33cc33\">Correct:</span> \n\nOne solution looks like:\n```python\nreturn not ketchup and not mustard and not onion\n```\n\nWe can also [\"factor out\" the nots](https://en.wikipedia.org/wiki/De_Morgan%27s_laws) to get:\n\n```python\nreturn not (ketchup or mustard or onion)\n```",
            "text/plain": [
              "Correct: \n",
              "\n",
              "One solution looks like:\n",
              "```python\n",
              "return not ketchup and not mustard and not onion\n",
              "```\n",
              "\n",
              "We can also [\"factor out\" the nots](https://en.wikipedia.org/wiki/De_Morgan%27s_laws) to get:\n",
              "\n",
              "```python\n",
              "return not (ketchup or mustard or onion)\n",
              "```"
            ]
          },
          "metadata": {
            "tags": []
          }
        }
      ]
    },
    {
      "cell_type": "code",
      "metadata": {
        "execution": {
          "iopub.execute_input": "2021-08-04T08:26:46.784344Z",
          "iopub.status.busy": "2021-08-04T08:26:46.783688Z",
          "iopub.status.idle": "2021-08-04T08:26:46.785946Z",
          "shell.execute_reply": "2021-08-04T08:26:46.786540Z"
        },
        "papermill": {
          "duration": 0.041679,
          "end_time": "2021-08-04T08:26:46.786696",
          "exception": false,
          "start_time": "2021-08-04T08:26:46.745017",
          "status": "completed"
        },
        "tags": [],
        "id": "e4a691aa"
      },
      "source": [
        "#q5.b.hint()\n",
        "#q5.b.solution()"
      ],
      "id": "e4a691aa",
      "execution_count": null,
      "outputs": []
    },
    {
      "cell_type": "markdown",
      "metadata": {
        "papermill": {
          "duration": 0.035826,
          "end_time": "2021-08-04T08:26:46.858437",
          "exception": false,
          "start_time": "2021-08-04T08:26:46.822611",
          "status": "completed"
        },
        "tags": [],
        "id": "a8044997"
      },
      "source": [
        "# 5c.\n",
        "\n",
        "You know what to do: for the next function, fill in the body to match the English description in the docstring."
      ],
      "id": "a8044997"
    },
    {
      "cell_type": "code",
      "metadata": {
        "execution": {
          "iopub.execute_input": "2021-08-04T08:26:46.932783Z",
          "iopub.status.busy": "2021-08-04T08:26:46.932108Z",
          "iopub.status.idle": "2021-08-04T08:26:46.938633Z",
          "shell.execute_reply": "2021-08-04T08:26:46.939129Z",
          "shell.execute_reply.started": "2021-08-04T08:23:27.182136Z"
        },
        "papermill": {
          "duration": 0.04524,
          "end_time": "2021-08-04T08:26:46.939303",
          "exception": false,
          "start_time": "2021-08-04T08:26:46.894063",
          "status": "completed"
        },
        "tags": [],
        "id": "9ec9aa8a",
        "outputId": "144d5dd3-6257-4022-dcf2-46521b9dc74e"
      },
      "source": [
        "def exactly_one_sauce(ketchup, mustard, onion):\n",
        "    \"\"\"Return whether the customer wants either ketchup or mustard, but not both.\n",
        "    (You may be familiar with this operation under the name \"exclusive or\")\n",
        "    \"\"\"\n",
        "    return (ketchup or mustard) and not (ketchup and mustard)\n",
        "    pass\n",
        "\n",
        "# Check your answer\n",
        "q5.c.check()"
      ],
      "id": "9ec9aa8a",
      "execution_count": null,
      "outputs": [
        {
          "output_type": "display_data",
          "data": {
            "application/javascript": [
              "parent.postMessage({\"jupyterEvent\": \"custom.exercise_interaction\", \"data\": {\"outcomeType\": 1, \"valueTowardsCompletion\": 0.2, \"interactionType\": 1, \"questionType\": 2, \"questionId\": \"5.3_OneSauce\", \"learnToolsVersion\": \"0.3.4\", \"failureMessage\": \"\", \"exceptionClass\": \"\", \"trace\": \"\"}}, \"*\")"
            ],
            "text/plain": [
              "<IPython.core.display.Javascript object>"
            ]
          },
          "metadata": {
            "tags": []
          }
        },
        {
          "output_type": "display_data",
          "data": {
            "text/markdown": "<span style=\"color:#33cc33\">Correct</span>",
            "text/plain": [
              "Correct"
            ]
          },
          "metadata": {
            "tags": []
          }
        }
      ]
    },
    {
      "cell_type": "code",
      "metadata": {
        "execution": {
          "iopub.execute_input": "2021-08-04T08:26:47.015865Z",
          "iopub.status.busy": "2021-08-04T08:26:47.015273Z",
          "iopub.status.idle": "2021-08-04T08:26:47.018064Z",
          "shell.execute_reply": "2021-08-04T08:26:47.018622Z"
        },
        "papermill": {
          "duration": 0.042969,
          "end_time": "2021-08-04T08:26:47.018776",
          "exception": false,
          "start_time": "2021-08-04T08:26:46.975807",
          "status": "completed"
        },
        "tags": [],
        "id": "009df700"
      },
      "source": [
        "#q5.c.hint()\n",
        "#q5.c.solution()"
      ],
      "id": "009df700",
      "execution_count": null,
      "outputs": []
    },
    {
      "cell_type": "markdown",
      "metadata": {
        "papermill": {
          "duration": 0.039232,
          "end_time": "2021-08-04T08:26:47.094108",
          "exception": false,
          "start_time": "2021-08-04T08:26:47.054876",
          "status": "completed"
        },
        "tags": [],
        "id": "a0b05249"
      },
      "source": [
        "# 6. <span title=\"A bit spicy\" style=\"color: darkgreen \">🌶️</span>\n",
        "\n",
        "We’ve seen that calling `bool()` on an integer returns `False` if it’s equal to 0 and `True` otherwise. What happens if we call `int()` on a bool? Try it out in the notebook cell below.\n",
        "\n",
        "Can you take advantage of this to write a succinct function that corresponds to the English sentence \"does the customer want exactly one topping?\"?"
      ],
      "id": "a0b05249"
    },
    {
      "cell_type": "code",
      "metadata": {
        "execution": {
          "iopub.execute_input": "2021-08-04T08:26:47.193103Z",
          "iopub.status.busy": "2021-08-04T08:26:47.192083Z",
          "iopub.status.idle": "2021-08-04T08:26:47.202548Z",
          "shell.execute_reply": "2021-08-04T08:26:47.203257Z",
          "shell.execute_reply.started": "2021-08-04T08:25:07.487506Z"
        },
        "papermill": {
          "duration": 0.064795,
          "end_time": "2021-08-04T08:26:47.203490",
          "exception": false,
          "start_time": "2021-08-04T08:26:47.138695",
          "status": "completed"
        },
        "tags": [],
        "id": "323a7fcc",
        "outputId": "969983b4-5a97-4dcb-ad38-763712442464"
      },
      "source": [
        "def exactly_one_topping(ketchup, mustard, onion):\n",
        "    \"\"\"Return whether the customer wants exactly one of the three available toppings\n",
        "    on their hot dog.\n",
        "    \"\"\"\n",
        "    return (int(ketchup) + int(mustard) + int(onion)) == 1\n",
        "    pass\n",
        "\n",
        "# Check your answer\n",
        "q6.check()"
      ],
      "id": "323a7fcc",
      "execution_count": null,
      "outputs": [
        {
          "output_type": "display_data",
          "data": {
            "application/javascript": [
              "parent.postMessage({\"jupyterEvent\": \"custom.exercise_interaction\", \"data\": {\"outcomeType\": 1, \"valueTowardsCompletion\": 0.2, \"interactionType\": 1, \"questionType\": 2, \"questionId\": \"6_OneTopping\", \"learnToolsVersion\": \"0.3.4\", \"failureMessage\": \"\", \"exceptionClass\": \"\", \"trace\": \"\"}}, \"*\")"
            ],
            "text/plain": [
              "<IPython.core.display.Javascript object>"
            ]
          },
          "metadata": {
            "tags": []
          }
        },
        {
          "output_type": "display_data",
          "data": {
            "text/markdown": "<span style=\"color:#33cc33\">Correct:</span> \n\nThis condition would be pretty complicated to express using just `and`, `or` and `not`, but using boolean-to-integer conversion gives us this short solution:\n```python\nreturn (int(ketchup) + int(mustard) + int(onion)) == 1\n```\n\nFun fact: we don't technically need to call `int` on the arguments. Just by doing addition with booleans, Python implicitly does the integer conversion. So we could also write...\n\n```python\nreturn (ketchup + mustard + onion) == 1\n```",
            "text/plain": [
              "Correct: \n",
              "\n",
              "This condition would be pretty complicated to express using just `and`, `or` and `not`, but using boolean-to-integer conversion gives us this short solution:\n",
              "```python\n",
              "return (int(ketchup) + int(mustard) + int(onion)) == 1\n",
              "```\n",
              "\n",
              "Fun fact: we don't technically need to call `int` on the arguments. Just by doing addition with booleans, Python implicitly does the integer conversion. So we could also write...\n",
              "\n",
              "```python\n",
              "return (ketchup + mustard + onion) == 1\n",
              "```"
            ]
          },
          "metadata": {
            "tags": []
          }
        }
      ]
    },
    {
      "cell_type": "code",
      "metadata": {
        "execution": {
          "iopub.execute_input": "2021-08-04T08:26:47.284335Z",
          "iopub.status.busy": "2021-08-04T08:26:47.283673Z",
          "iopub.status.idle": "2021-08-04T08:26:47.286938Z",
          "shell.execute_reply": "2021-08-04T08:26:47.286366Z"
        },
        "papermill": {
          "duration": 0.044715,
          "end_time": "2021-08-04T08:26:47.287076",
          "exception": false,
          "start_time": "2021-08-04T08:26:47.242361",
          "status": "completed"
        },
        "tags": [],
        "id": "76c51e54"
      },
      "source": [
        "#q6.hint()\n",
        "#q6.solution()"
      ],
      "id": "76c51e54",
      "execution_count": null,
      "outputs": []
    },
    {
      "cell_type": "markdown",
      "metadata": {
        "papermill": {
          "duration": 0.03751,
          "end_time": "2021-08-04T08:26:47.361954",
          "exception": false,
          "start_time": "2021-08-04T08:26:47.324444",
          "status": "completed"
        },
        "tags": [],
        "id": "ccb0400e"
      },
      "source": [
        "# 7. <span title=\"A bit spicy\" style=\"color: darkgreen \">🌶️</span> (Optional)\n",
        "\n",
        "In this problem we'll be working with a simplified version of [blackjack](https://en.wikipedia.org/wiki/Blackjack) (aka twenty-one). In this version there is one player (who you'll control) and a dealer. Play proceeds as follows:\n",
        "\n",
        "- The player is dealt two face-up cards. The dealer is dealt one face-up card.\n",
        "- The player may ask to be dealt another card ('hit') as many times as they wish. If the sum of their cards exceeds 21, they lose the round immediately.\n",
        "- The dealer then deals additional cards to himself until either:\n",
        "    - the sum of the dealer's cards exceeds 21, in which case the player wins the round\n",
        "    - the sum of the dealer's cards is greater than or equal to 17. If the player's total is greater than the dealer's, the player wins. Otherwise, the dealer wins (even in case of a tie).\n",
        "    \n",
        "When calculating the sum of cards, Jack, Queen, and King count for 10. Aces can count as 1 or 11 (when referring to a player's \"total\" above, we mean the largest total that can be made without exceeding 21. So e.g. A+8 = 19, A+8+8 = 17)\n",
        "\n",
        "For this problem, you'll write a function representing the player's decision-making strategy in this game. We've provided a very unintelligent implementation below:"
      ],
      "id": "ccb0400e"
    },
    {
      "cell_type": "code",
      "metadata": {
        "execution": {
          "iopub.execute_input": "2021-08-04T08:26:47.442290Z",
          "iopub.status.busy": "2021-08-04T08:26:47.441239Z",
          "iopub.status.idle": "2021-08-04T08:26:47.444419Z",
          "shell.execute_reply": "2021-08-04T08:26:47.443814Z"
        },
        "papermill": {
          "duration": 0.045244,
          "end_time": "2021-08-04T08:26:47.444554",
          "exception": false,
          "start_time": "2021-08-04T08:26:47.399310",
          "status": "completed"
        },
        "tags": [],
        "id": "202a3911"
      },
      "source": [
        "def should_hit(dealer_total, player_total, player_low_aces, player_high_aces):\n",
        "    \"\"\"Return True if the player should hit (request another card) given the current game\n",
        "    state, or False if the player should stay.\n",
        "    When calculating a hand's total value, we count aces as \"high\" (with value 11) if doing so\n",
        "    doesn't bring the total above 21, otherwise we count them as low (with value 1). \n",
        "    For example, if the player's hand is {A, A, A, 7}, we will count it as 11 + 1 + 1 + 7,\n",
        "    and therefore set player_total=20, player_low_aces=2, player_high_aces=1.\n",
        "    \"\"\"\n",
        "    return False"
      ],
      "id": "202a3911",
      "execution_count": null,
      "outputs": []
    },
    {
      "cell_type": "markdown",
      "metadata": {
        "papermill": {
          "duration": 0.037895,
          "end_time": "2021-08-04T08:26:47.520830",
          "exception": false,
          "start_time": "2021-08-04T08:26:47.482935",
          "status": "completed"
        },
        "tags": [],
        "id": "f8253678"
      },
      "source": [
        "This very conservative agent *always* sticks with the hand of two cards that they're dealt.\n",
        "\n",
        "We'll be simulating games between your player agent and our own dealer agent by calling your function.\n",
        "\n",
        "Try running the function below to see an example of a simulated game:"
      ],
      "id": "f8253678"
    },
    {
      "cell_type": "code",
      "metadata": {
        "execution": {
          "iopub.execute_input": "2021-08-04T08:26:47.599744Z",
          "iopub.status.busy": "2021-08-04T08:26:47.599083Z",
          "iopub.status.idle": "2021-08-04T08:26:47.606002Z",
          "shell.execute_reply": "2021-08-04T08:26:47.605453Z"
        },
        "papermill": {
          "duration": 0.047609,
          "end_time": "2021-08-04T08:26:47.606160",
          "exception": false,
          "start_time": "2021-08-04T08:26:47.558551",
          "status": "completed"
        },
        "tags": [],
        "id": "63c7c189",
        "outputId": "2479dc6b-0709-4a1e-f8b7-01f65dafbe7a"
      },
      "source": [
        "q7.simulate_one_game()"
      ],
      "id": "63c7c189",
      "execution_count": null,
      "outputs": [
        {
          "output_type": "stream",
          "text": [
            "Player starts with 4 and 2 (total = 6)\n",
            "Dealer starts with 6\n",
            "\n",
            "__Player's turn__\n",
            "Player stays\n",
            "\n",
            "__Dealer's turn__\n",
            "Dealer hits and receives 6. (total = 12)\n",
            "Dealer hits and receives 9. (total = 21)\n",
            "Dealer stands.\n",
            "Dealer wins. 21 >= 6\n"
          ],
          "name": "stdout"
        }
      ]
    },
    {
      "cell_type": "markdown",
      "metadata": {
        "papermill": {
          "duration": 0.037967,
          "end_time": "2021-08-04T08:26:47.683000",
          "exception": false,
          "start_time": "2021-08-04T08:26:47.645033",
          "status": "completed"
        },
        "tags": [],
        "id": "1b5ee5c8"
      },
      "source": [
        "The real test of your agent's mettle is their average win rate over many games. Try calling the function below to simulate 50000 games of blackjack (it may take a couple seconds):"
      ],
      "id": "1b5ee5c8"
    },
    {
      "cell_type": "code",
      "metadata": {
        "execution": {
          "iopub.execute_input": "2021-08-04T08:26:47.777331Z",
          "iopub.status.busy": "2021-08-04T08:26:47.772120Z",
          "iopub.status.idle": "2021-08-04T08:26:49.735372Z",
          "shell.execute_reply": "2021-08-04T08:26:49.735833Z"
        },
        "papermill": {
          "duration": 2.015307,
          "end_time": "2021-08-04T08:26:49.735991",
          "exception": false,
          "start_time": "2021-08-04T08:26:47.720684",
          "status": "completed"
        },
        "tags": [],
        "id": "f0a4fd18",
        "outputId": "5714ce58-74c8-4772-d3d8-bef0a1fa662e"
      },
      "source": [
        "q7.simulate(n_games=50000)"
      ],
      "id": "f0a4fd18",
      "execution_count": null,
      "outputs": [
        {
          "output_type": "stream",
          "text": [
            "Player won 18794 out of 50000 games (win rate = 37.6%)\n"
          ],
          "name": "stdout"
        }
      ]
    },
    {
      "cell_type": "markdown",
      "metadata": {
        "papermill": {
          "duration": 0.038603,
          "end_time": "2021-08-04T08:26:49.813079",
          "exception": false,
          "start_time": "2021-08-04T08:26:49.774476",
          "status": "completed"
        },
        "tags": [],
        "id": "27fb44be"
      },
      "source": [
        "Our dumb agent that completely ignores the game state still manages to win shockingly often!\n",
        "\n",
        "Try adding some more smarts to the `should_hit` function and see how it affects the results."
      ],
      "id": "27fb44be"
    },
    {
      "cell_type": "code",
      "metadata": {
        "execution": {
          "iopub.execute_input": "2021-08-04T08:26:49.911377Z",
          "iopub.status.busy": "2021-08-04T08:26:49.906387Z",
          "iopub.status.idle": "2021-08-04T08:26:51.849074Z",
          "shell.execute_reply": "2021-08-04T08:26:51.848406Z"
        },
        "papermill": {
          "duration": 1.997366,
          "end_time": "2021-08-04T08:26:51.849233",
          "exception": false,
          "start_time": "2021-08-04T08:26:49.851867",
          "status": "completed"
        },
        "tags": [],
        "id": "587e71df",
        "outputId": "2bebdc7f-82f2-4f99-e7ac-e20775f6e7f7"
      },
      "source": [
        "def should_hit(dealer_total, player_total, player_low_aces, player_high_aces):\n",
        "    \"\"\"Return True if the player should hit (request another card) given the current game\n",
        "    state, or False if the player should stay.\n",
        "    When calculating a hand's total value, we count aces as \"high\" (with value 11) if doing so\n",
        "    doesn't bring the total above 21, otherwise we count them as low (with value 1). \n",
        "    For example, if the player's hand is {A, A, A, 7}, we will count it as 11 + 1 + 1 + 7,\n",
        "    and therefore set player_total=20, player_low_aces=2, player_high_aces=1.\n",
        "    \"\"\"\n",
        "    return False\n",
        "\n",
        "q7.simulate(n_games=50000)"
      ],
      "id": "587e71df",
      "execution_count": null,
      "outputs": [
        {
          "output_type": "stream",
          "text": [
            "Player won 19080 out of 50000 games (win rate = 38.2%)\n"
          ],
          "name": "stdout"
        }
      ]
    },
    {
      "cell_type": "markdown",
      "metadata": {
        "papermill": {
          "duration": 0.038959,
          "end_time": "2021-08-04T08:26:51.927432",
          "exception": false,
          "start_time": "2021-08-04T08:26:51.888473",
          "status": "completed"
        },
        "tags": [],
        "id": "827b1976"
      },
      "source": [
        "# Keep Going\n",
        "\n",
        "Learn about **[lists and tuples](https://www.kaggle.com/colinmorris/lists)** to handle multiple items of data in a systematic way."
      ],
      "id": "827b1976"
    },
    {
      "cell_type": "markdown",
      "metadata": {
        "papermill": {
          "duration": 0.03841,
          "end_time": "2021-08-04T08:26:52.004315",
          "exception": false,
          "start_time": "2021-08-04T08:26:51.965905",
          "status": "completed"
        },
        "tags": [],
        "id": "0a26c98d"
      },
      "source": [
        "---\n",
        "\n",
        "\n",
        "\n",
        "\n",
        "*Have questions or comments? Visit the [Learn Discussion forum](https://www.kaggle.com/learn-forum/161283) to chat with other Learners.*"
      ],
      "id": "0a26c98d"
    }
  ]
}