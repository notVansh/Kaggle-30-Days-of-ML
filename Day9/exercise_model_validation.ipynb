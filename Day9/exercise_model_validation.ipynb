{
  "nbformat": 4,
  "nbformat_minor": 5,
  "metadata": {
    "kernelspec": {
      "display_name": "Python 3",
      "language": "python",
      "name": "python3"
    },
    "language_info": {
      "codemirror_mode": {
        "name": "ipython",
        "version": 3
      },
      "file_extension": ".py",
      "mimetype": "text/x-python",
      "name": "python",
      "nbconvert_exporter": "python",
      "pygments_lexer": "ipython3",
      "version": "3.7.10"
    },
    "papermill": {
      "default_parameters": {},
      "duration": 9.473512,
      "end_time": "2021-08-11T15:38:59.672570",
      "environment_variables": {},
      "exception": null,
      "input_path": "__notebook__.ipynb",
      "output_path": "__notebook__.ipynb",
      "parameters": {},
      "start_time": "2021-08-11T15:38:50.199058",
      "version": "2.3.3"
    },
    "colab": {
      "name": "exercise-model-validation.ipynb",
      "provenance": [],
      "include_colab_link": true
    }
  },
  "cells": [
    {
      "cell_type": "markdown",
      "metadata": {
        "id": "view-in-github",
        "colab_type": "text"
      },
      "source": [
        "<a href=\"https://colab.research.google.com/github/notVansh/Kaggle-30-Days-of-ML/blob/master/Day9/exercise_model_validation.ipynb\" target=\"_parent\"><img src=\"https://colab.research.google.com/assets/colab-badge.svg\" alt=\"Open In Colab\"/></a>"
      ]
    },
    {
      "cell_type": "markdown",
      "metadata": {
        "papermill": {
          "duration": 0.009607,
          "end_time": "2021-08-11T15:38:57.158433",
          "exception": false,
          "start_time": "2021-08-11T15:38:57.148826",
          "status": "completed"
        },
        "tags": [],
        "id": "faf4d93d"
      },
      "source": [
        "## Recap\n",
        "You've built a model. In this exercise you will test how good your model is.\n",
        "\n",
        "Run the cell below to set up your coding environment where the previous exercise left off."
      ],
      "id": "faf4d93d"
    },
    {
      "cell_type": "code",
      "metadata": {
        "execution": {
          "iopub.execute_input": "2021-08-11T15:38:57.183623Z",
          "iopub.status.busy": "2021-08-11T15:38:57.181921Z",
          "iopub.status.idle": "2021-08-11T15:38:58.412276Z",
          "shell.execute_reply": "2021-08-11T15:38:58.412743Z",
          "shell.execute_reply.started": "2021-08-11T15:26:05.514062Z"
        },
        "papermill": {
          "duration": 1.244728,
          "end_time": "2021-08-11T15:38:58.413005",
          "exception": false,
          "start_time": "2021-08-11T15:38:57.168277",
          "status": "completed"
        },
        "tags": [],
        "id": "b29a81e6",
        "outputId": "1ea5910e-caa9-45c1-bf0a-e45a3d705fde"
      },
      "source": [
        "# Code you have previously used to load data\n",
        "import pandas as pd\n",
        "from sklearn.tree import DecisionTreeRegressor\n",
        "\n",
        "# Path of the file to read\n",
        "iowa_file_path = '../input/home-data-for-ml-course/train.csv'\n",
        "\n",
        "home_data = pd.read_csv(iowa_file_path)\n",
        "y = home_data.SalePrice\n",
        "feature_columns = ['LotArea', 'YearBuilt', '1stFlrSF', '2ndFlrSF', 'FullBath', 'BedroomAbvGr', 'TotRmsAbvGrd']\n",
        "X = home_data[feature_columns]\n",
        "\n",
        "# Specify Model\n",
        "iowa_model = DecisionTreeRegressor()\n",
        "# Fit Model\n",
        "iowa_model.fit(X, y)\n",
        "\n",
        "print(\"First in-sample predictions:\", iowa_model.predict(X.head()))\n",
        "print(\"Actual target values for those homes:\", y.head().tolist())\n",
        "\n",
        "# Set up code checking\n",
        "from learntools.core import binder\n",
        "binder.bind(globals())\n",
        "from learntools.machine_learning.ex4 import *\n",
        "print(\"Setup Complete\")"
      ],
      "id": "b29a81e6",
      "execution_count": null,
      "outputs": [
        {
          "output_type": "stream",
          "text": [
            "First in-sample predictions: [208500. 181500. 223500. 140000. 250000.]\n",
            "Actual target values for those homes: [208500, 181500, 223500, 140000, 250000]\n",
            "Setup Complete\n"
          ],
          "name": "stdout"
        }
      ]
    },
    {
      "cell_type": "markdown",
      "metadata": {
        "papermill": {
          "duration": 0.012587,
          "end_time": "2021-08-11T15:38:58.438503",
          "exception": false,
          "start_time": "2021-08-11T15:38:58.425916",
          "status": "completed"
        },
        "tags": [],
        "id": "15e00bd9"
      },
      "source": [
        "# Exercises\n",
        "\n",
        "## Step 1: Split Your Data\n",
        "Use the `train_test_split` function to split up your data.\n",
        "\n",
        "Give it the argument `random_state=1` so the `check` functions know what to expect when verifying your code.\n",
        "\n",
        "Recall, your features are loaded in the DataFrame **X** and your target is loaded in **y**.\n"
      ],
      "id": "15e00bd9"
    },
    {
      "cell_type": "code",
      "metadata": {
        "execution": {
          "iopub.execute_input": "2021-08-11T15:38:58.468116Z",
          "iopub.status.busy": "2021-08-11T15:38:58.467220Z",
          "iopub.status.idle": "2021-08-11T15:38:58.492233Z",
          "shell.execute_reply": "2021-08-11T15:38:58.493087Z",
          "shell.execute_reply.started": "2021-08-11T15:27:01.429909Z"
        },
        "papermill": {
          "duration": 0.042831,
          "end_time": "2021-08-11T15:38:58.493288",
          "exception": false,
          "start_time": "2021-08-11T15:38:58.450457",
          "status": "completed"
        },
        "tags": [],
        "id": "c5628b2a",
        "outputId": "c2a04d92-aab7-4916-83fe-de1556fb93aa"
      },
      "source": [
        "# Import the train_test_split function and uncomment\n",
        "from sklearn.model_selection import train_test_split\n",
        "\n",
        "# fill in and uncomment\n",
        "train_X, val_X, train_y, val_y = train_test_split(X, y, random_state = 1)\n",
        "\n",
        "# Check your answer\n",
        "step_1.check()"
      ],
      "id": "c5628b2a",
      "execution_count": null,
      "outputs": [
        {
          "output_type": "display_data",
          "data": {
            "application/javascript": [
              "parent.postMessage({\"jupyterEvent\": \"custom.exercise_interaction\", \"data\": {\"outcomeType\": 1, \"valueTowardsCompletion\": 0.25, \"interactionType\": 1, \"questionType\": 2, \"questionId\": \"1_SplitData\", \"learnToolsVersion\": \"0.3.4\", \"failureMessage\": \"\", \"exceptionClass\": \"\", \"trace\": \"\"}}, \"*\")"
            ],
            "text/plain": [
              "<IPython.core.display.Javascript object>"
            ]
          },
          "metadata": {
            "tags": []
          }
        },
        {
          "output_type": "display_data",
          "data": {
            "text/markdown": "<span style=\"color:#33cc33\">Correct</span>",
            "text/plain": [
              "Correct"
            ]
          },
          "metadata": {
            "tags": []
          }
        }
      ]
    },
    {
      "cell_type": "code",
      "metadata": {
        "execution": {
          "iopub.execute_input": "2021-08-11T15:38:58.522301Z",
          "iopub.status.busy": "2021-08-11T15:38:58.521360Z",
          "iopub.status.idle": "2021-08-11T15:38:58.524399Z",
          "shell.execute_reply": "2021-08-11T15:38:58.524817Z"
        },
        "papermill": {
          "duration": 0.020161,
          "end_time": "2021-08-11T15:38:58.524986",
          "exception": false,
          "start_time": "2021-08-11T15:38:58.504825",
          "status": "completed"
        },
        "tags": [],
        "id": "27c7f9f1"
      },
      "source": [
        "# The lines below will show you a hint or the solution.\n",
        "# step_1.hint() \n",
        "# step_1.solution()\n"
      ],
      "id": "27c7f9f1",
      "execution_count": null,
      "outputs": []
    },
    {
      "cell_type": "markdown",
      "metadata": {
        "papermill": {
          "duration": 0.010963,
          "end_time": "2021-08-11T15:38:58.547329",
          "exception": false,
          "start_time": "2021-08-11T15:38:58.536366",
          "status": "completed"
        },
        "tags": [],
        "id": "19bfb1c7"
      },
      "source": [
        "## Step 2: Specify and Fit the Model\n",
        "\n",
        "Create a `DecisionTreeRegressor` model and fit it to the relevant data.\n",
        "Set `random_state` to 1 again when creating the model."
      ],
      "id": "19bfb1c7"
    },
    {
      "cell_type": "code",
      "metadata": {
        "execution": {
          "iopub.execute_input": "2021-08-11T15:38:58.577760Z",
          "iopub.status.busy": "2021-08-11T15:38:58.576851Z",
          "iopub.status.idle": "2021-08-11T15:38:58.600227Z",
          "shell.execute_reply": "2021-08-11T15:38:58.600624Z",
          "shell.execute_reply.started": "2021-08-11T15:30:30.003684Z"
        },
        "papermill": {
          "duration": 0.042118,
          "end_time": "2021-08-11T15:38:58.600785",
          "exception": false,
          "start_time": "2021-08-11T15:38:58.558667",
          "status": "completed"
        },
        "tags": [],
        "id": "bc1e364d",
        "outputId": "34d6d224-806d-43b7-d981-6ea9ec7c8e34"
      },
      "source": [
        "# You imported DecisionTreeRegressor in your last exercise\n",
        "# and that code has been copied to the setup code above. So, no need to\n",
        "# import it again\n",
        "from sklearn.tree import DecisionTreeRegressor\n",
        "\n",
        "# Specify the model\n",
        "iowa_model = DecisionTreeRegressor(random_state=1)\n",
        "\n",
        "# Fit iowa_model with the training data.\n",
        "iowa_model.fit(train_X, train_y)\n",
        "\n",
        "# Check your answer\n",
        "step_2.check()"
      ],
      "id": "bc1e364d",
      "execution_count": null,
      "outputs": [
        {
          "output_type": "stream",
          "text": [
            "[186500. 184000. 130000.  92000. 164500. 220000. 335000. 144152. 215000.\n",
            " 262000.]\n",
            "[186500. 184000. 130000.  92000. 164500. 220000. 335000. 144152. 215000.\n",
            " 262000.]\n"
          ],
          "name": "stdout"
        },
        {
          "output_type": "display_data",
          "data": {
            "application/javascript": [
              "parent.postMessage({\"jupyterEvent\": \"custom.exercise_interaction\", \"data\": {\"outcomeType\": 1, \"valueTowardsCompletion\": 0.25, \"interactionType\": 1, \"questionType\": 2, \"questionId\": \"2_FitModelWithTrain\", \"learnToolsVersion\": \"0.3.4\", \"failureMessage\": \"\", \"exceptionClass\": \"\", \"trace\": \"\"}}, \"*\")"
            ],
            "text/plain": [
              "<IPython.core.display.Javascript object>"
            ]
          },
          "metadata": {
            "tags": []
          }
        },
        {
          "output_type": "display_data",
          "data": {
            "text/markdown": "<span style=\"color:#33cc33\">Correct</span>",
            "text/plain": [
              "Correct"
            ]
          },
          "metadata": {
            "tags": []
          }
        }
      ]
    },
    {
      "cell_type": "code",
      "metadata": {
        "execution": {
          "iopub.execute_input": "2021-08-11T15:38:58.627688Z",
          "iopub.status.busy": "2021-08-11T15:38:58.627077Z",
          "iopub.status.idle": "2021-08-11T15:38:58.630162Z",
          "shell.execute_reply": "2021-08-11T15:38:58.630711Z"
        },
        "papermill": {
          "duration": 0.018082,
          "end_time": "2021-08-11T15:38:58.630885",
          "exception": false,
          "start_time": "2021-08-11T15:38:58.612803",
          "status": "completed"
        },
        "tags": [],
        "id": "9a2f86bc"
      },
      "source": [
        "# step_2.hint()\n",
        "# step_2.solution()"
      ],
      "id": "9a2f86bc",
      "execution_count": null,
      "outputs": []
    },
    {
      "cell_type": "markdown",
      "metadata": {
        "papermill": {
          "duration": 0.012114,
          "end_time": "2021-08-11T15:38:58.655486",
          "exception": false,
          "start_time": "2021-08-11T15:38:58.643372",
          "status": "completed"
        },
        "tags": [],
        "id": "5bdad876"
      },
      "source": [
        "## Step 3: Make Predictions with Validation data\n"
      ],
      "id": "5bdad876"
    },
    {
      "cell_type": "code",
      "metadata": {
        "execution": {
          "iopub.execute_input": "2021-08-11T15:38:58.683266Z",
          "iopub.status.busy": "2021-08-11T15:38:58.682651Z",
          "iopub.status.idle": "2021-08-11T15:38:58.692489Z",
          "shell.execute_reply": "2021-08-11T15:38:58.692988Z",
          "shell.execute_reply.started": "2021-08-11T15:33:54.028015Z"
        },
        "papermill": {
          "duration": 0.02512,
          "end_time": "2021-08-11T15:38:58.693153",
          "exception": false,
          "start_time": "2021-08-11T15:38:58.668033",
          "status": "completed"
        },
        "tags": [],
        "id": "04a2a77c",
        "outputId": "a3a043b0-5351-4536-fc29-a718128b466a"
      },
      "source": [
        "# Predict with all validation observations\n",
        "val_predictions = iowa_model.predict(val_X)\n",
        "\n",
        "# Check your answer\n",
        "step_3.check()"
      ],
      "id": "04a2a77c",
      "execution_count": null,
      "outputs": [
        {
          "output_type": "display_data",
          "data": {
            "application/javascript": [
              "parent.postMessage({\"jupyterEvent\": \"custom.exercise_interaction\", \"data\": {\"outcomeType\": 1, \"valueTowardsCompletion\": 0.25, \"interactionType\": 1, \"questionType\": 2, \"questionId\": \"3_ValPreds\", \"learnToolsVersion\": \"0.3.4\", \"failureMessage\": \"\", \"exceptionClass\": \"\", \"trace\": \"\"}}, \"*\")"
            ],
            "text/plain": [
              "<IPython.core.display.Javascript object>"
            ]
          },
          "metadata": {
            "tags": []
          }
        },
        {
          "output_type": "display_data",
          "data": {
            "text/markdown": "<span style=\"color:#33cc33\">Correct</span>",
            "text/plain": [
              "Correct"
            ]
          },
          "metadata": {
            "tags": []
          }
        }
      ]
    },
    {
      "cell_type": "code",
      "metadata": {
        "execution": {
          "iopub.execute_input": "2021-08-11T15:38:58.721428Z",
          "iopub.status.busy": "2021-08-11T15:38:58.720880Z",
          "iopub.status.idle": "2021-08-11T15:38:58.723758Z",
          "shell.execute_reply": "2021-08-11T15:38:58.724283Z"
        },
        "papermill": {
          "duration": 0.018309,
          "end_time": "2021-08-11T15:38:58.724446",
          "exception": false,
          "start_time": "2021-08-11T15:38:58.706137",
          "status": "completed"
        },
        "tags": [],
        "id": "53a87965"
      },
      "source": [
        "# step_3.hint()\n",
        "# step_3.solution()"
      ],
      "id": "53a87965",
      "execution_count": null,
      "outputs": []
    },
    {
      "cell_type": "markdown",
      "metadata": {
        "papermill": {
          "duration": 0.012503,
          "end_time": "2021-08-11T15:38:58.750465",
          "exception": false,
          "start_time": "2021-08-11T15:38:58.737962",
          "status": "completed"
        },
        "tags": [],
        "id": "3cd3ac0c"
      },
      "source": [
        "Inspect your predictions and actual values from validation data."
      ],
      "id": "3cd3ac0c"
    },
    {
      "cell_type": "code",
      "metadata": {
        "execution": {
          "iopub.execute_input": "2021-08-11T15:38:58.778774Z",
          "iopub.status.busy": "2021-08-11T15:38:58.778105Z",
          "iopub.status.idle": "2021-08-11T15:38:58.785916Z",
          "shell.execute_reply": "2021-08-11T15:38:58.786354Z",
          "shell.execute_reply.started": "2021-08-11T15:37:20.279810Z"
        },
        "papermill": {
          "duration": 0.023433,
          "end_time": "2021-08-11T15:38:58.786580",
          "exception": false,
          "start_time": "2021-08-11T15:38:58.763147",
          "status": "completed"
        },
        "tags": [],
        "id": "bbd18a2c",
        "outputId": "8a7a284d-b08f-4af7-f1a0-059fddc31699"
      },
      "source": [
        "# print the top few validation predictions\n",
        "print(iowa_model.predict(val_X.head()))\n",
        "# print the top few actual prices from validation data\n",
        "print(val_y.head().tolist())"
      ],
      "id": "bbd18a2c",
      "execution_count": null,
      "outputs": [
        {
          "output_type": "stream",
          "text": [
            "[186500. 184000. 130000.  92000. 164500.]\n",
            "[231500, 179500, 122000, 84500, 142000]\n"
          ],
          "name": "stdout"
        }
      ]
    },
    {
      "cell_type": "markdown",
      "metadata": {
        "papermill": {
          "duration": 0.0146,
          "end_time": "2021-08-11T15:38:58.814407",
          "exception": false,
          "start_time": "2021-08-11T15:38:58.799807",
          "status": "completed"
        },
        "tags": [],
        "id": "497fce76"
      },
      "source": [
        "What do you notice that is different from what you saw with in-sample predictions (which are printed after the top code cell in this page).\n",
        "\n",
        "Do you remember why validation predictions differ from in-sample (or training) predictions? This is an important idea from the last lesson.\n",
        "\n",
        "## Step 4: Calculate the Mean Absolute Error in Validation Data\n"
      ],
      "id": "497fce76"
    },
    {
      "cell_type": "code",
      "metadata": {
        "execution": {
          "iopub.execute_input": "2021-08-11T15:38:58.850401Z",
          "iopub.status.busy": "2021-08-11T15:38:58.849467Z",
          "iopub.status.idle": "2021-08-11T15:38:58.856869Z",
          "shell.execute_reply": "2021-08-11T15:38:58.856320Z",
          "shell.execute_reply.started": "2021-08-11T15:38:36.339917Z"
        },
        "papermill": {
          "duration": 0.026936,
          "end_time": "2021-08-11T15:38:58.857000",
          "exception": false,
          "start_time": "2021-08-11T15:38:58.830064",
          "status": "completed"
        },
        "tags": [],
        "id": "e62c8ef6",
        "outputId": "6a32f41b-23f0-4357-dcde-6b3978b7b6b7"
      },
      "source": [
        "from sklearn.metrics import mean_absolute_error\n",
        "val_mae = mean_absolute_error(val_predictions, val_y)\n",
        "\n",
        "# uncomment following line to see the validation_mae\n",
        "#print(val_mae)\n",
        "\n",
        "# Check your answer\n",
        "step_4.check()"
      ],
      "id": "e62c8ef6",
      "execution_count": null,
      "outputs": [
        {
          "output_type": "display_data",
          "data": {
            "application/javascript": [
              "parent.postMessage({\"jupyterEvent\": \"custom.exercise_interaction\", \"data\": {\"outcomeType\": 1, \"valueTowardsCompletion\": 0.25, \"interactionType\": 1, \"questionType\": 1, \"questionId\": \"4_MAE\", \"learnToolsVersion\": \"0.3.4\", \"failureMessage\": \"\", \"exceptionClass\": \"\", \"trace\": \"\"}}, \"*\")"
            ],
            "text/plain": [
              "<IPython.core.display.Javascript object>"
            ]
          },
          "metadata": {
            "tags": []
          }
        },
        {
          "output_type": "display_data",
          "data": {
            "text/markdown": "<span style=\"color:#33cc33\">Correct</span>",
            "text/plain": [
              "Correct"
            ]
          },
          "metadata": {
            "tags": []
          }
        }
      ]
    },
    {
      "cell_type": "code",
      "metadata": {
        "execution": {
          "iopub.execute_input": "2021-08-11T15:38:58.889367Z",
          "iopub.status.busy": "2021-08-11T15:38:58.888457Z",
          "iopub.status.idle": "2021-08-11T15:38:58.890688Z",
          "shell.execute_reply": "2021-08-11T15:38:58.891074Z",
          "shell.execute_reply.started": "2021-08-11T15:38:34.870507Z"
        },
        "papermill": {
          "duration": 0.019983,
          "end_time": "2021-08-11T15:38:58.891252",
          "exception": false,
          "start_time": "2021-08-11T15:38:58.871269",
          "status": "completed"
        },
        "tags": [],
        "id": "a1f2c970"
      },
      "source": [
        "# step_4.hint()\n",
        "# step_4.solution()"
      ],
      "id": "a1f2c970",
      "execution_count": null,
      "outputs": []
    },
    {
      "cell_type": "markdown",
      "metadata": {
        "papermill": {
          "duration": 0.013765,
          "end_time": "2021-08-11T15:38:58.921251",
          "exception": false,
          "start_time": "2021-08-11T15:38:58.907486",
          "status": "completed"
        },
        "tags": [],
        "id": "8423f588"
      },
      "source": [
        "Is that MAE good?  There isn't a general rule for what values are good that applies across applications. But you'll see how to use (and improve) this number in the next step.\n",
        "\n",
        "# Keep Going\n",
        "\n",
        "You are ready for **[Underfitting and Overfitting](https://www.kaggle.com/dansbecker/underfitting-and-overfitting).**\n"
      ],
      "id": "8423f588"
    },
    {
      "cell_type": "markdown",
      "metadata": {
        "papermill": {
          "duration": 0.013777,
          "end_time": "2021-08-11T15:38:58.948968",
          "exception": false,
          "start_time": "2021-08-11T15:38:58.935191",
          "status": "completed"
        },
        "tags": [],
        "id": "6eb0c071"
      },
      "source": [
        "---\n",
        "\n",
        "\n",
        "\n",
        "\n",
        "*Have questions or comments? Visit the [Learn Discussion forum](https://www.kaggle.com/learn-forum/161285) to chat with other Learners.*"
      ],
      "id": "6eb0c071"
    }
  ]
}